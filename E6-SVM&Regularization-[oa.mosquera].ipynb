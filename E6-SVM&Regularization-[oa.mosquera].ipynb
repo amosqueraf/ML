{
 "cells": [
  {
   "cell_type": "markdown",
   "metadata": {
    "collapsed": false
   },
   "source": [
    "# Exercise 6\n",
    "\n",
    "## SVM & Regularization\n",
    "\n",
    "\n",
    "For this homework we consider a set of observations on a number of red and white wine varieties involving their chemical properties and ranking by tasters. Wine industry shows a recent growth spurt as social drinking is on the rise. The price of wine depends on a rather abstract concept of wine appreciation by wine tasters, opinion among whom may have a high degree of variability. Pricing of wine depends on such a volatile factor to some extent. Another key factor in wine certification and quality assessment is physicochemical tests which are laboratory-based and takes into account factors like acidity, pH level, presence of sugar and other chemical properties. For the wine market, it would be of interest if human quality of tasting can be related to the chemical properties of wine so that certification and quality assessment and assurance process is more controlled.\n",
    "\n",
    "Two datasets are available of which one dataset is on red wine and have 1599 different varieties and the other is on white wine and have 4898 varieties. All wines are produced in a particular area of Portugal. Data are collected on 12 different properties of the wines one of which is Quality, based on sensory data, and the rest are on chemical properties of the wines including density, acidity, alcohol content etc. All chemical properties of wines are continuous variables. Quality is an ordinal variable with possible ranking from 1 (worst) to 10 (best). Each variety of wine is tasted by three independent tasters and the final rank assigned is the median rank given by the tasters.\n",
    "\n",
    "A predictive model developed on this data is expected to provide guidance to vineyards regarding quality and price expected on their produce without heavy reliance on volatility of wine tasters."
   ]
  },
  {
   "cell_type": "code",
   "execution_count": 1,
   "metadata": {
    "collapsed": false
   },
   "outputs": [
   ],
   "source": [
    "import pandas as pd\n",
    "import numpy as np\n",
    "\n",
    "from sklearn.model_selection import train_test_split\n",
    "from sklearn.svm import SVC\n",
    "from sklearn import metrics\n",
    "from sklearn.metrics import classification_report, confusion_matrix, accuracy_score\n",
    "from sklearn.metrics import accuracy_score\n",
    "from sklearn import preprocessing\n",
    "from sklearn.linear_model import LogisticRegression, LinearRegression, Ridge, Lasso\n",
    "from sklearn.preprocessing import StandardScaler\n",
    "\n",
    "import warnings\n",
    "warnings.filterwarnings('ignore')"
   ]
  },
  {
   "cell_type": "code",
   "execution_count": 2,
   "metadata": {
    "collapsed": false
   },
   "outputs": [
   ],
   "source": [
    "#data_r = pd.read_csv('https://github.com/albahnsen/PracticalMachineLearningClass/raw/master/datasets/Wine_data_red.csv')\n",
    "#data_w = pd.read_csv('https://github.com/albahnsen/PracticalMachineLearningClass/raw/master/datasets/Wine_data_white.csv')\n",
    "\n",
    "data_r = pd.read_csv('Wine_data_red.csv')\n",
    "data_w = pd.read_csv('Wine_data_white.csv')"
   ]
  },
  {
   "cell_type": "code",
   "execution_count": 3,
   "metadata": {
    "collapsed": false
   },
   "outputs": [
    {
     "data": {
      "text/html": [
       "<div>\n",
       "<style scoped>\n",
       "    .dataframe tbody tr th:only-of-type {\n",
       "        vertical-align: middle;\n",
       "    }\n",
       "\n",
       "    .dataframe tbody tr th {\n",
       "        vertical-align: top;\n",
       "    }\n",
       "\n",
       "    .dataframe thead th {\n",
       "        text-align: right;\n",
       "    }\n",
       "</style>\n",
       "<table border=\"1\" class=\"dataframe\">\n",
       "  <thead>\n",
       "    <tr style=\"text-align: right;\">\n",
       "      <th></th>\n",
       "      <th>fixed acidity</th>\n",
       "      <th>volatile acidity</th>\n",
       "      <th>citric acid</th>\n",
       "      <th>residual sugar</th>\n",
       "      <th>chlorides</th>\n",
       "      <th>free sulfur dioxide</th>\n",
       "      <th>total sulfur dioxide</th>\n",
       "      <th>density</th>\n",
       "      <th>pH</th>\n",
       "      <th>sulphates</th>\n",
       "      <th>alcohol</th>\n",
       "      <th>quality</th>\n",
       "      <th>type</th>\n",
       "    </tr>\n",
       "  </thead>\n",
       "  <tbody>\n",
       "    <tr>\n",
       "      <th>2642</th>\n",
       "      <td>7.6</td>\n",
       "      <td>0.230</td>\n",
       "      <td>0.40</td>\n",
       "      <td>5.2</td>\n",
       "      <td>0.066</td>\n",
       "      <td>14.0</td>\n",
       "      <td>91.0</td>\n",
       "      <td>0.99488</td>\n",
       "      <td>3.17</td>\n",
       "      <td>0.80</td>\n",
       "      <td>9.7</td>\n",
       "      <td>5</td>\n",
       "      <td>white</td>\n",
       "    </tr>\n",
       "    <tr>\n",
       "      <th>5992</th>\n",
       "      <td>6.6</td>\n",
       "      <td>0.725</td>\n",
       "      <td>0.09</td>\n",
       "      <td>5.5</td>\n",
       "      <td>0.117</td>\n",
       "      <td>9.0</td>\n",
       "      <td>17.0</td>\n",
       "      <td>0.99655</td>\n",
       "      <td>3.35</td>\n",
       "      <td>0.49</td>\n",
       "      <td>10.8</td>\n",
       "      <td>6</td>\n",
       "      <td>red</td>\n",
       "    </tr>\n",
       "    <tr>\n",
       "      <th>5284</th>\n",
       "      <td>7.8</td>\n",
       "      <td>0.540</td>\n",
       "      <td>0.26</td>\n",
       "      <td>2.0</td>\n",
       "      <td>0.088</td>\n",
       "      <td>23.0</td>\n",
       "      <td>48.0</td>\n",
       "      <td>0.99810</td>\n",
       "      <td>3.41</td>\n",
       "      <td>0.74</td>\n",
       "      <td>9.2</td>\n",
       "      <td>6</td>\n",
       "      <td>red</td>\n",
       "    </tr>\n",
       "    <tr>\n",
       "      <th>2093</th>\n",
       "      <td>6.6</td>\n",
       "      <td>0.220</td>\n",
       "      <td>0.53</td>\n",
       "      <td>15.1</td>\n",
       "      <td>0.052</td>\n",
       "      <td>22.0</td>\n",
       "      <td>136.0</td>\n",
       "      <td>0.99860</td>\n",
       "      <td>2.94</td>\n",
       "      <td>0.35</td>\n",
       "      <td>9.4</td>\n",
       "      <td>5</td>\n",
       "      <td>white</td>\n",
       "    </tr>\n",
       "    <tr>\n",
       "      <th>2762</th>\n",
       "      <td>7.3</td>\n",
       "      <td>0.320</td>\n",
       "      <td>0.35</td>\n",
       "      <td>1.4</td>\n",
       "      <td>0.050</td>\n",
       "      <td>8.0</td>\n",
       "      <td>163.0</td>\n",
       "      <td>0.99244</td>\n",
       "      <td>3.24</td>\n",
       "      <td>0.42</td>\n",
       "      <td>10.7</td>\n",
       "      <td>5</td>\n",
       "      <td>white</td>\n",
       "    </tr>\n",
       "  </tbody>\n",
       "</table>\n",
       "</div>"
      ]
     },
     "execution_count": 3,
     "metadata": {
     },
     "output_type": "execute_result"
    }
   ],
   "source": [
    "data = data_w.assign(type = 'white')\n",
    "\n",
    "data = data.append(data_r.assign(type = 'red'), ignore_index=True)\n",
    "data.sample(5)"
   ]
  },
  {
   "cell_type": "markdown",
   "metadata": {
    "collapsed": false
   },
   "source": [
    "# Exercise 6.1\n",
    "\n",
    "Show the frecuency table of the quality by type of wine"
   ]
  },
  {
   "cell_type": "code",
   "execution_count": 4,
   "metadata": {
    "collapsed": false
   },
   "outputs": [
    {
     "data": {
      "text/plain": [
       "white    4898\n",
       "red      1599\n",
       "Name: type, dtype: int64"
      ]
     },
     "execution_count": 4,
     "metadata": {
     },
     "output_type": "execute_result"
    }
   ],
   "source": [
    "# tabla de frecuencia de clases de vinos\n",
    "pd.value_counts(data['type'])"
   ]
  },
  {
   "cell_type": "code",
   "execution_count": 5,
   "metadata": {
    "collapsed": false
   },
   "outputs": [
    {
     "name": "stdout",
     "output_type": "stream",
     "text": [
      "Tabla de frecuencias por tipo de vino y su nivel de calidad \n",
      "\n"
     ]
    },
    {
     "data": {
      "text/html": [
       "<div>\n",
       "<style scoped>\n",
       "    .dataframe tbody tr th:only-of-type {\n",
       "        vertical-align: middle;\n",
       "    }\n",
       "\n",
       "    .dataframe tbody tr th {\n",
       "        vertical-align: top;\n",
       "    }\n",
       "\n",
       "    .dataframe thead th {\n",
       "        text-align: right;\n",
       "    }\n",
       "</style>\n",
       "<table border=\"1\" class=\"dataframe\">\n",
       "  <thead>\n",
       "    <tr style=\"text-align: right;\">\n",
       "      <th>quality</th>\n",
       "      <th>3</th>\n",
       "      <th>4</th>\n",
       "      <th>5</th>\n",
       "      <th>6</th>\n",
       "      <th>7</th>\n",
       "      <th>8</th>\n",
       "      <th>9</th>\n",
       "    </tr>\n",
       "    <tr>\n",
       "      <th>type</th>\n",
       "      <th></th>\n",
       "      <th></th>\n",
       "      <th></th>\n",
       "      <th></th>\n",
       "      <th></th>\n",
       "      <th></th>\n",
       "      <th></th>\n",
       "    </tr>\n",
       "  </thead>\n",
       "  <tbody>\n",
       "    <tr>\n",
       "      <th>red</th>\n",
       "      <td>10.0</td>\n",
       "      <td>53.0</td>\n",
       "      <td>681.0</td>\n",
       "      <td>638.0</td>\n",
       "      <td>199.0</td>\n",
       "      <td>18.0</td>\n",
       "      <td>NaN</td>\n",
       "    </tr>\n",
       "    <tr>\n",
       "      <th>white</th>\n",
       "      <td>20.0</td>\n",
       "      <td>163.0</td>\n",
       "      <td>1457.0</td>\n",
       "      <td>2198.0</td>\n",
       "      <td>880.0</td>\n",
       "      <td>175.0</td>\n",
       "      <td>5.0</td>\n",
       "    </tr>\n",
       "  </tbody>\n",
       "</table>\n",
       "</div>"
      ]
     },
     "execution_count": 5,
     "metadata": {
     },
     "output_type": "execute_result"
    }
   ],
   "source": [
    "#frecuencia= data.pivot_table(values='pH', index=['type','quality'], aggfunc='count').unstack()\n",
    "\n",
    "frecuencia = data.pivot_table(values='pH', index=['type'],columns='quality', aggfunc='count')\n",
    "print(\"Tabla de frecuencias por tipo de vino y su nivel de calidad \\n\")\n",
    "frecuencia"
   ]
  },
  {
   "cell_type": "markdown",
   "metadata": {
    "collapsed": false
   },
   "source": [
    "# SVM"
   ]
  },
  {
   "cell_type": "markdown",
   "metadata": {
    "collapsed": false
   },
   "source": [
    "# Exercise 6.2"
   ]
  },
  {
   "cell_type": "markdown",
   "metadata": {
    "collapsed": false
   },
   "source": [
    "* Create a binary target for each type of wine"
   ]
  },
  {
   "cell_type": "code",
   "execution_count": 6,
   "metadata": {
    "collapsed": false
   },
   "outputs": [
    {
     "data": {
      "text/html": [
       "<div>\n",
       "<style scoped>\n",
       "    .dataframe tbody tr th:only-of-type {\n",
       "        vertical-align: middle;\n",
       "    }\n",
       "\n",
       "    .dataframe tbody tr th {\n",
       "        vertical-align: top;\n",
       "    }\n",
       "\n",
       "    .dataframe thead th {\n",
       "        text-align: right;\n",
       "    }\n",
       "</style>\n",
       "<table border=\"1\" class=\"dataframe\">\n",
       "  <thead>\n",
       "    <tr style=\"text-align: right;\">\n",
       "      <th></th>\n",
       "      <th>fixed acidity</th>\n",
       "      <th>volatile acidity</th>\n",
       "      <th>citric acid</th>\n",
       "      <th>residual sugar</th>\n",
       "      <th>chlorides</th>\n",
       "      <th>free sulfur dioxide</th>\n",
       "      <th>total sulfur dioxide</th>\n",
       "      <th>density</th>\n",
       "      <th>pH</th>\n",
       "      <th>sulphates</th>\n",
       "      <th>alcohol</th>\n",
       "      <th>quality</th>\n",
       "      <th>type</th>\n",
       "      <th>quality2</th>\n",
       "    </tr>\n",
       "  </thead>\n",
       "  <tbody>\n",
       "    <tr>\n",
       "      <th>0</th>\n",
       "      <td>7.0</td>\n",
       "      <td>0.27</td>\n",
       "      <td>0.36</td>\n",
       "      <td>20.7</td>\n",
       "      <td>0.045</td>\n",
       "      <td>45.0</td>\n",
       "      <td>170.0</td>\n",
       "      <td>1.0010</td>\n",
       "      <td>3.00</td>\n",
       "      <td>0.45</td>\n",
       "      <td>8.8</td>\n",
       "      <td>6</td>\n",
       "      <td>white</td>\n",
       "      <td>6</td>\n",
       "    </tr>\n",
       "    <tr>\n",
       "      <th>1</th>\n",
       "      <td>6.3</td>\n",
       "      <td>0.30</td>\n",
       "      <td>0.34</td>\n",
       "      <td>1.6</td>\n",
       "      <td>0.049</td>\n",
       "      <td>14.0</td>\n",
       "      <td>132.0</td>\n",
       "      <td>0.9940</td>\n",
       "      <td>3.30</td>\n",
       "      <td>0.49</td>\n",
       "      <td>9.5</td>\n",
       "      <td>6</td>\n",
       "      <td>white</td>\n",
       "      <td>6</td>\n",
       "    </tr>\n",
       "    <tr>\n",
       "      <th>2</th>\n",
       "      <td>8.1</td>\n",
       "      <td>0.28</td>\n",
       "      <td>0.40</td>\n",
       "      <td>6.9</td>\n",
       "      <td>0.050</td>\n",
       "      <td>30.0</td>\n",
       "      <td>97.0</td>\n",
       "      <td>0.9951</td>\n",
       "      <td>3.26</td>\n",
       "      <td>0.44</td>\n",
       "      <td>10.1</td>\n",
       "      <td>6</td>\n",
       "      <td>white</td>\n",
       "      <td>6</td>\n",
       "    </tr>\n",
       "    <tr>\n",
       "      <th>3</th>\n",
       "      <td>7.2</td>\n",
       "      <td>0.23</td>\n",
       "      <td>0.32</td>\n",
       "      <td>8.5</td>\n",
       "      <td>0.058</td>\n",
       "      <td>47.0</td>\n",
       "      <td>186.0</td>\n",
       "      <td>0.9956</td>\n",
       "      <td>3.19</td>\n",
       "      <td>0.40</td>\n",
       "      <td>9.9</td>\n",
       "      <td>6</td>\n",
       "      <td>white</td>\n",
       "      <td>6</td>\n",
       "    </tr>\n",
       "    <tr>\n",
       "      <th>4</th>\n",
       "      <td>7.2</td>\n",
       "      <td>0.23</td>\n",
       "      <td>0.32</td>\n",
       "      <td>8.5</td>\n",
       "      <td>0.058</td>\n",
       "      <td>47.0</td>\n",
       "      <td>186.0</td>\n",
       "      <td>0.9956</td>\n",
       "      <td>3.19</td>\n",
       "      <td>0.40</td>\n",
       "      <td>9.9</td>\n",
       "      <td>6</td>\n",
       "      <td>white</td>\n",
       "      <td>6</td>\n",
       "    </tr>\n",
       "  </tbody>\n",
       "</table>\n",
       "</div>"
      ]
     },
     "execution_count": 6,
     "metadata": {
     },
     "output_type": "execute_result"
    }
   ],
   "source": [
    "data['quality2'] = data['quality']\n",
    "data.head()"
   ]
  },
  {
   "cell_type": "code",
   "execution_count": 7,
   "metadata": {
    "collapsed": false
   },
   "outputs": [
   ],
   "source": [
    "data['quality'] = data['quality']>6\n",
    "\n",
    "data['quality'] = data['quality'].replace('True',1)\n",
    "data['quality'] = data['quality'].replace('False',0)"
   ]
  },
  {
   "cell_type": "code",
   "execution_count": 8,
   "metadata": {
    "collapsed": false
   },
   "outputs": [
    {
     "data": {
      "text/html": [
       "<div>\n",
       "<style scoped>\n",
       "    .dataframe tbody tr th:only-of-type {\n",
       "        vertical-align: middle;\n",
       "    }\n",
       "\n",
       "    .dataframe tbody tr th {\n",
       "        vertical-align: top;\n",
       "    }\n",
       "\n",
       "    .dataframe thead th {\n",
       "        text-align: right;\n",
       "    }\n",
       "</style>\n",
       "<table border=\"1\" class=\"dataframe\">\n",
       "  <thead>\n",
       "    <tr style=\"text-align: right;\">\n",
       "      <th></th>\n",
       "      <th>fixed acidity</th>\n",
       "      <th>volatile acidity</th>\n",
       "      <th>citric acid</th>\n",
       "      <th>residual sugar</th>\n",
       "      <th>chlorides</th>\n",
       "      <th>free sulfur dioxide</th>\n",
       "      <th>total sulfur dioxide</th>\n",
       "      <th>density</th>\n",
       "      <th>pH</th>\n",
       "      <th>sulphates</th>\n",
       "      <th>alcohol</th>\n",
       "      <th>quality</th>\n",
       "      <th>type</th>\n",
       "      <th>quality2</th>\n",
       "    </tr>\n",
       "  </thead>\n",
       "  <tbody>\n",
       "    <tr>\n",
       "      <th>0</th>\n",
       "      <td>7.0</td>\n",
       "      <td>0.27</td>\n",
       "      <td>0.36</td>\n",
       "      <td>20.7</td>\n",
       "      <td>0.045</td>\n",
       "      <td>45.0</td>\n",
       "      <td>170.0</td>\n",
       "      <td>1.0010</td>\n",
       "      <td>3.00</td>\n",
       "      <td>0.45</td>\n",
       "      <td>8.8</td>\n",
       "      <td>False</td>\n",
       "      <td>white</td>\n",
       "      <td>6</td>\n",
       "    </tr>\n",
       "    <tr>\n",
       "      <th>1</th>\n",
       "      <td>6.3</td>\n",
       "      <td>0.30</td>\n",
       "      <td>0.34</td>\n",
       "      <td>1.6</td>\n",
       "      <td>0.049</td>\n",
       "      <td>14.0</td>\n",
       "      <td>132.0</td>\n",
       "      <td>0.9940</td>\n",
       "      <td>3.30</td>\n",
       "      <td>0.49</td>\n",
       "      <td>9.5</td>\n",
       "      <td>False</td>\n",
       "      <td>white</td>\n",
       "      <td>6</td>\n",
       "    </tr>\n",
       "    <tr>\n",
       "      <th>2</th>\n",
       "      <td>8.1</td>\n",
       "      <td>0.28</td>\n",
       "      <td>0.40</td>\n",
       "      <td>6.9</td>\n",
       "      <td>0.050</td>\n",
       "      <td>30.0</td>\n",
       "      <td>97.0</td>\n",
       "      <td>0.9951</td>\n",
       "      <td>3.26</td>\n",
       "      <td>0.44</td>\n",
       "      <td>10.1</td>\n",
       "      <td>False</td>\n",
       "      <td>white</td>\n",
       "      <td>6</td>\n",
       "    </tr>\n",
       "    <tr>\n",
       "      <th>3</th>\n",
       "      <td>7.2</td>\n",
       "      <td>0.23</td>\n",
       "      <td>0.32</td>\n",
       "      <td>8.5</td>\n",
       "      <td>0.058</td>\n",
       "      <td>47.0</td>\n",
       "      <td>186.0</td>\n",
       "      <td>0.9956</td>\n",
       "      <td>3.19</td>\n",
       "      <td>0.40</td>\n",
       "      <td>9.9</td>\n",
       "      <td>False</td>\n",
       "      <td>white</td>\n",
       "      <td>6</td>\n",
       "    </tr>\n",
       "    <tr>\n",
       "      <th>4</th>\n",
       "      <td>7.2</td>\n",
       "      <td>0.23</td>\n",
       "      <td>0.32</td>\n",
       "      <td>8.5</td>\n",
       "      <td>0.058</td>\n",
       "      <td>47.0</td>\n",
       "      <td>186.0</td>\n",
       "      <td>0.9956</td>\n",
       "      <td>3.19</td>\n",
       "      <td>0.40</td>\n",
       "      <td>9.9</td>\n",
       "      <td>False</td>\n",
       "      <td>white</td>\n",
       "      <td>6</td>\n",
       "    </tr>\n",
       "  </tbody>\n",
       "</table>\n",
       "</div>"
      ]
     },
     "execution_count": 8,
     "metadata": {
     },
     "output_type": "execute_result"
    }
   ],
   "source": [
    "data.head()"
   ]
  },
  {
   "cell_type": "code",
   "execution_count": 9,
   "metadata": {
    "collapsed": false
   },
   "outputs": [
    {
     "data": {
      "text/html": [
       "<div>\n",
       "<style scoped>\n",
       "    .dataframe tbody tr th:only-of-type {\n",
       "        vertical-align: middle;\n",
       "    }\n",
       "\n",
       "    .dataframe tbody tr th {\n",
       "        vertical-align: top;\n",
       "    }\n",
       "\n",
       "    .dataframe thead th {\n",
       "        text-align: right;\n",
       "    }\n",
       "</style>\n",
       "<table border=\"1\" class=\"dataframe\">\n",
       "  <thead>\n",
       "    <tr style=\"text-align: right;\">\n",
       "      <th></th>\n",
       "      <th>fixed acidity</th>\n",
       "      <th>volatile acidity</th>\n",
       "      <th>citric acid</th>\n",
       "      <th>residual sugar</th>\n",
       "      <th>chlorides</th>\n",
       "      <th>free sulfur dioxide</th>\n",
       "      <th>total sulfur dioxide</th>\n",
       "      <th>density</th>\n",
       "      <th>pH</th>\n",
       "      <th>sulphates</th>\n",
       "      <th>alcohol</th>\n",
       "      <th>quality</th>\n",
       "      <th>type</th>\n",
       "      <th>quality2</th>\n",
       "    </tr>\n",
       "  </thead>\n",
       "  <tbody>\n",
       "    <tr>\n",
       "      <th>4898</th>\n",
       "      <td>7.4</td>\n",
       "      <td>0.70</td>\n",
       "      <td>0.00</td>\n",
       "      <td>1.9</td>\n",
       "      <td>0.076</td>\n",
       "      <td>11.0</td>\n",
       "      <td>34.0</td>\n",
       "      <td>0.9978</td>\n",
       "      <td>3.51</td>\n",
       "      <td>0.56</td>\n",
       "      <td>9.4</td>\n",
       "      <td>False</td>\n",
       "      <td>red</td>\n",
       "      <td>5</td>\n",
       "    </tr>\n",
       "    <tr>\n",
       "      <th>4899</th>\n",
       "      <td>7.8</td>\n",
       "      <td>0.88</td>\n",
       "      <td>0.00</td>\n",
       "      <td>2.6</td>\n",
       "      <td>0.098</td>\n",
       "      <td>25.0</td>\n",
       "      <td>67.0</td>\n",
       "      <td>0.9968</td>\n",
       "      <td>3.20</td>\n",
       "      <td>0.68</td>\n",
       "      <td>9.8</td>\n",
       "      <td>False</td>\n",
       "      <td>red</td>\n",
       "      <td>5</td>\n",
       "    </tr>\n",
       "    <tr>\n",
       "      <th>4900</th>\n",
       "      <td>7.8</td>\n",
       "      <td>0.76</td>\n",
       "      <td>0.04</td>\n",
       "      <td>2.3</td>\n",
       "      <td>0.092</td>\n",
       "      <td>15.0</td>\n",
       "      <td>54.0</td>\n",
       "      <td>0.9970</td>\n",
       "      <td>3.26</td>\n",
       "      <td>0.65</td>\n",
       "      <td>9.8</td>\n",
       "      <td>False</td>\n",
       "      <td>red</td>\n",
       "      <td>5</td>\n",
       "    </tr>\n",
       "    <tr>\n",
       "      <th>4901</th>\n",
       "      <td>11.2</td>\n",
       "      <td>0.28</td>\n",
       "      <td>0.56</td>\n",
       "      <td>1.9</td>\n",
       "      <td>0.075</td>\n",
       "      <td>17.0</td>\n",
       "      <td>60.0</td>\n",
       "      <td>0.9980</td>\n",
       "      <td>3.16</td>\n",
       "      <td>0.58</td>\n",
       "      <td>9.8</td>\n",
       "      <td>False</td>\n",
       "      <td>red</td>\n",
       "      <td>6</td>\n",
       "    </tr>\n",
       "    <tr>\n",
       "      <th>4902</th>\n",
       "      <td>7.4</td>\n",
       "      <td>0.70</td>\n",
       "      <td>0.00</td>\n",
       "      <td>1.9</td>\n",
       "      <td>0.076</td>\n",
       "      <td>11.0</td>\n",
       "      <td>34.0</td>\n",
       "      <td>0.9978</td>\n",
       "      <td>3.51</td>\n",
       "      <td>0.56</td>\n",
       "      <td>9.4</td>\n",
       "      <td>False</td>\n",
       "      <td>red</td>\n",
       "      <td>5</td>\n",
       "    </tr>\n",
       "  </tbody>\n",
       "</table>\n",
       "</div>"
      ]
     },
     "execution_count": 9,
     "metadata": {
     },
     "output_type": "execute_result"
    }
   ],
   "source": [
    "datared = data[data['type'] == 'red']\n",
    "datawhite = data[data['type'] == 'white']\n",
    "datared.head()"
   ]
  },
  {
   "cell_type": "markdown",
   "metadata": {
    "collapsed": false
   },
   "source": [
    "* Create two Linear SVM's for the white and red wines, repectively."
   ]
  },
  {
   "cell_type": "code",
   "execution_count": 10,
   "metadata": {
    "collapsed": false
   },
   "outputs": [
   ],
   "source": [
    "X = datared[['fixed acidity','volatile acidity','citric acid','residual sugar','chlorides','free sulfur dioxide','total sulfur dioxide','density','pH','sulphates','alcohol']]\n",
    "y = datared['quality']"
   ]
  },
  {
   "cell_type": "markdown",
   "metadata": {
    "collapsed": false
   },
   "source": [
    "- Standarized the features (not the quality)"
   ]
  },
  {
   "cell_type": "markdown",
   "metadata": {
    "collapsed": false
   },
   "source": [
    "#### VINO ROJO"
   ]
  },
  {
   "cell_type": "markdown",
   "metadata": {
    "collapsed": false
   },
   "source": [
    "- Dividir el dataset en trainingy testing sets"
   ]
  },
  {
   "cell_type": "code",
   "execution_count": 11,
   "metadata": {
    "collapsed": false
   },
   "outputs": [
   ],
   "source": [
    "X_train, X_test, y_train, y_test = train_test_split(X, y, test_size = 0.20)\n",
    "\n",
    "scaler = StandardScaler()\n",
    "X_train = X_train.astype(float)\n",
    "X_test = X_test.astype(float)\n",
    "\n",
    "scaler.fit(X_train)\n",
    "X_train = scaler.transform(X_train)\n",
    "X_test = scaler.transform(X_test)"
   ]
  },
  {
   "cell_type": "markdown",
   "metadata": {
    "collapsed": false
   },
   "source": [
    "- Entrenando el algoritmo"
   ]
  },
  {
   "cell_type": "code",
   "execution_count": 12,
   "metadata": {
    "collapsed": false
   },
   "outputs": [
   ],
   "source": [
    "svclassifier = SVC(kernel='linear').fit(X, y)"
   ]
  },
  {
   "cell_type": "code",
   "execution_count": 13,
   "metadata": {
    "collapsed": false
   },
   "outputs": [
    {
     "data": {
      "text/plain": [
       "<bound method BaseSVC.decision_function of SVC(C=1.0, cache_size=200, class_weight=None, coef0=0.0,\n",
       "  decision_function_shape='ovr', degree=3, gamma='auto_deprecated',\n",
       "  kernel='linear', max_iter=-1, probability=False, random_state=None,\n",
       "  shrinking=True, tol=0.001, verbose=False)>"
      ]
     },
     "execution_count": 13,
     "metadata": {
     },
     "output_type": "execute_result"
    }
   ],
   "source": [
    "svclassifier.decision_function"
   ]
  },
  {
   "cell_type": "markdown",
   "metadata": {
    "collapsed": false
   },
   "source": [
    "- Realizando las predicciones"
   ]
  },
  {
   "cell_type": "code",
   "execution_count": 14,
   "metadata": {
    "collapsed": false
   },
   "outputs": [
   ],
   "source": [
    "y_pred = svclassifier.predict(X_test)"
   ]
  },
  {
   "cell_type": "markdown",
   "metadata": {
    "collapsed": false
   },
   "source": [
    "- Evaluando el algoritmo"
   ]
  },
  {
   "cell_type": "code",
   "execution_count": 15,
   "metadata": {
    "collapsed": false
   },
   "outputs": [
    {
     "name": "stdout",
     "output_type": "stream",
     "text": [
      "[[265   0]\n",
      " [ 55   0]]\n",
      "              precision    recall  f1-score   support\n",
      "\n",
      "       False       0.83      1.00      0.91       265\n",
      "        True       0.00      0.00      0.00        55\n",
      "\n",
      "   micro avg       0.83      0.83      0.83       320\n",
      "   macro avg       0.41      0.50      0.45       320\n",
      "weighted avg       0.69      0.83      0.75       320\n",
      "\n"
     ]
    }
   ],
   "source": [
    "print(confusion_matrix(y_test,y_pred))  \n",
    "print(classification_report(y_test,y_pred))"
   ]
  },
  {
   "cell_type": "markdown",
   "metadata": {
    "collapsed": false
   },
   "source": [
    "- Precisión de Clasificación"
   ]
  },
  {
   "cell_type": "code",
   "execution_count": 16,
   "metadata": {
    "collapsed": false
   },
   "outputs": [
    {
     "data": {
      "text/plain": [
       "0.828125"
      ]
     },
     "execution_count": 16,
     "metadata": {
     },
     "output_type": "execute_result"
    }
   ],
   "source": [
    "accuracy_score(y_test, y_pred)"
   ]
  },
  {
   "cell_type": "markdown",
   "metadata": {
    "collapsed": false
   },
   "source": [
    "La precisión de la clasificación es el número de predicciones correctas realizadas como una proporción de todas las predicciones realizadas."
   ]
  },
  {
   "cell_type": "markdown",
   "metadata": {
    "collapsed": false
   },
   "source": [
    "#### VINO BLANCO"
   ]
  },
  {
   "cell_type": "markdown",
   "metadata": {
    "collapsed": false
   },
   "source": [
    "- Se crea X_ y y_"
   ]
  },
  {
   "cell_type": "code",
   "execution_count": 17,
   "metadata": {
    "collapsed": false
   },
   "outputs": [
   ],
   "source": [
    "X_ = datawhite[['fixed acidity','volatile acidity','citric acid','residual sugar','chlorides','free sulfur dioxide','total sulfur dioxide','density','pH','sulphates','alcohol']]\n",
    "y_ = datawhite['quality']"
   ]
  },
  {
   "cell_type": "code",
   "execution_count": 18,
   "metadata": {
    "collapsed": false
   },
   "outputs": [
   ],
   "source": [
    "#Dividir el dataset\n",
    "X_train_, X_test_, y_train_, y_test_ = train_test_split(X_, y_, test_size = 0.20) \n",
    "\n",
    "#Estandarizar X\n",
    "X_train_ = X_train_.astype(float)\n",
    "X_test_ = X_test_.astype(float)\n",
    "\n",
    "scaler.fit(X_train_)\n",
    "X_train_ = scaler.transform(X_train_)\n",
    "X_test_ = scaler.transform(X_test_)"
   ]
  },
  {
   "cell_type": "code",
   "execution_count": 19,
   "metadata": {
    "collapsed": false
   },
   "outputs": [
   ],
   "source": [
    "#Entrenando el Algoritmo\n",
    "svclassifier_ = SVC(kernel='linear').fit(X_, y_)"
   ]
  },
  {
   "cell_type": "code",
   "execution_count": 20,
   "metadata": {
    "collapsed": false
   },
   "outputs": [
    {
     "data": {
      "text/plain": [
       "<bound method BaseSVC.decision_function of SVC(C=1.0, cache_size=200, class_weight=None, coef0=0.0,\n",
       "  decision_function_shape='ovr', degree=3, gamma='auto_deprecated',\n",
       "  kernel='linear', max_iter=-1, probability=False, random_state=None,\n",
       "  shrinking=True, tol=0.001, verbose=False)>"
      ]
     },
     "execution_count": 20,
     "metadata": {
     },
     "output_type": "execute_result"
    }
   ],
   "source": [
    "svclassifier_.decision_function"
   ]
  },
  {
   "cell_type": "code",
   "execution_count": 21,
   "metadata": {
    "collapsed": false
   },
   "outputs": [
   ],
   "source": [
    "#Realizando las predicción\n",
    "y_pred_ = svclassifier_.predict(X_test_)"
   ]
  },
  {
   "cell_type": "code",
   "execution_count": 22,
   "metadata": {
    "collapsed": false
   },
   "outputs": [
    {
     "name": "stdout",
     "output_type": "stream",
     "text": [
      "[[759   0]\n",
      " [221   0]]\n",
      "              precision    recall  f1-score   support\n",
      "\n",
      "       False       0.77      1.00      0.87       759\n",
      "        True       0.00      0.00      0.00       221\n",
      "\n",
      "   micro avg       0.77      0.77      0.77       980\n",
      "   macro avg       0.39      0.50      0.44       980\n",
      "weighted avg       0.60      0.77      0.68       980\n",
      "\n"
     ]
    }
   ],
   "source": [
    "print(confusion_matrix(y_test_,y_pred_))  \n",
    "print(classification_report(y_test_,y_pred_))"
   ]
  },
  {
   "cell_type": "code",
   "execution_count": 23,
   "metadata": {
    "collapsed": false
   },
   "outputs": [
    {
     "name": "stdout",
     "output_type": "stream",
     "text": [
      "Precisión de Clasificación: 0.7744897959183673\n"
     ]
    }
   ],
   "source": [
    "print(\"Precisión de Clasificación:\", accuracy_score(y_test_, y_pred_))"
   ]
  },
  {
   "cell_type": "markdown",
   "metadata": {
    "collapsed": false
   },
   "source": [
    "# Exercise 6.3\n",
    "\n",
    "Test the two SVM's using the different kernels (‘poly’, ‘rbf’, ‘sigmoid’)\n"
   ]
  },
  {
   "cell_type": "markdown",
   "metadata": {
    "collapsed": false
   },
   "source": [
    "#### VINO ROJO"
   ]
  },
  {
   "cell_type": "markdown",
   "metadata": {
    "collapsed": false
   },
   "source": [
    "- Polynomial Kernel"
   ]
  },
  {
   "cell_type": "code",
   "execution_count": 24,
   "metadata": {
    "collapsed": false
   },
   "outputs": [
   ],
   "source": [
    "svclassifier = SVC(kernel='poly', degree=8)"
   ]
  },
  {
   "cell_type": "code",
   "execution_count": 25,
   "metadata": {
    "collapsed": false
   },
   "outputs": [
    {
     "data": {
      "text/plain": [
       "SVC(C=1.0, cache_size=200, class_weight=None, coef0=0.0,\n",
       "  decision_function_shape='ovr', degree=8, gamma='auto_deprecated',\n",
       "  kernel='poly', max_iter=-1, probability=False, random_state=None,\n",
       "  shrinking=True, tol=0.001, verbose=False)"
      ]
     },
     "execution_count": 25,
     "metadata": {
     },
     "output_type": "execute_result"
    }
   ],
   "source": [
    "svclassifier.fit(X_train, y_train)"
   ]
  },
  {
   "cell_type": "code",
   "execution_count": 26,
   "metadata": {
    "collapsed": false
   },
   "outputs": [
   ],
   "source": [
    "y_pred = svclassifier.predict(X_test)"
   ]
  },
  {
   "cell_type": "code",
   "execution_count": 27,
   "metadata": {
    "collapsed": false
   },
   "outputs": [
    {
     "name": "stdout",
     "output_type": "stream",
     "text": [
      "[[259   6]\n",
      " [ 42  13]]\n",
      "              precision    recall  f1-score   support\n",
      "\n",
      "       False       0.86      0.98      0.92       265\n",
      "        True       0.68      0.24      0.35        55\n",
      "\n",
      "   micro avg       0.85      0.85      0.85       320\n",
      "   macro avg       0.77      0.61      0.63       320\n",
      "weighted avg       0.83      0.85      0.82       320\n",
      "\n"
     ]
    }
   ],
   "source": [
    "print(confusion_matrix(y_test, y_pred))  \n",
    "print(classification_report(y_test, y_pred))"
   ]
  },
  {
   "cell_type": "markdown",
   "metadata": {
    "collapsed": false
   },
   "source": [
    "- Gaussian Kernel"
   ]
  },
  {
   "cell_type": "code",
   "execution_count": 28,
   "metadata": {
    "collapsed": false
   },
   "outputs": [
    {
     "data": {
      "text/plain": [
       "<bound method BaseSVC.decision_function of SVC(C=1.0, cache_size=200, class_weight=None, coef0=0.0,\n",
       "  decision_function_shape='ovr', degree=3, gamma='auto_deprecated',\n",
       "  kernel='rbf', max_iter=-1, probability=False, random_state=None,\n",
       "  shrinking=True, tol=0.001, verbose=False)>"
      ]
     },
     "execution_count": 28,
     "metadata": {
     },
     "output_type": "execute_result"
    }
   ],
   "source": [
    "svclassifier = SVC(kernel='rbf').fit(X, y)\n",
    "svclassifier.decision_function"
   ]
  },
  {
   "cell_type": "code",
   "execution_count": 29,
   "metadata": {
    "collapsed": false
   },
   "outputs": [
   ],
   "source": [
    "y_pred = svclassifier.predict(X_test)"
   ]
  },
  {
   "cell_type": "code",
   "execution_count": 30,
   "metadata": {
    "collapsed": false
   },
   "outputs": [
    {
     "name": "stdout",
     "output_type": "stream",
     "text": [
      "[[265   0]\n",
      " [ 55   0]]\n",
      "              precision    recall  f1-score   support\n",
      "\n",
      "       False       0.83      1.00      0.91       265\n",
      "        True       0.00      0.00      0.00        55\n",
      "\n",
      "   micro avg       0.83      0.83      0.83       320\n",
      "   macro avg       0.41      0.50      0.45       320\n",
      "weighted avg       0.69      0.83      0.75       320\n",
      "\n"
     ]
    }
   ],
   "source": [
    "print(confusion_matrix(y_test, y_pred))  \n",
    "print(classification_report(y_test, y_pred))"
   ]
  },
  {
   "cell_type": "markdown",
   "metadata": {
    "collapsed": false
   },
   "source": [
    "- Sigmoid Kernel"
   ]
  },
  {
   "cell_type": "code",
   "execution_count": 31,
   "metadata": {
    "collapsed": false
   },
   "outputs": [
    {
     "data": {
      "text/plain": [
       "<bound method BaseSVC.decision_function of SVC(C=1.0, cache_size=200, class_weight=None, coef0=0.0,\n",
       "  decision_function_shape='ovr', degree=3, gamma='auto_deprecated',\n",
       "  kernel='sigmoid', max_iter=-1, probability=False, random_state=None,\n",
       "  shrinking=True, tol=0.001, verbose=False)>"
      ]
     },
     "execution_count": 31,
     "metadata": {
     },
     "output_type": "execute_result"
    }
   ],
   "source": [
    "svclassifier = SVC(kernel='sigmoid').fit(X, y)\n",
    "svclassifier.decision_function"
   ]
  },
  {
   "cell_type": "code",
   "execution_count": 32,
   "metadata": {
    "collapsed": false
   },
   "outputs": [
   ],
   "source": [
    "y_pred = svclassifier.predict(X_test)"
   ]
  },
  {
   "cell_type": "code",
   "execution_count": 33,
   "metadata": {
    "collapsed": false
   },
   "outputs": [
    {
     "name": "stdout",
     "output_type": "stream",
     "text": [
      "[[164 101]\n",
      " [ 17  38]]\n",
      "              precision    recall  f1-score   support\n",
      "\n",
      "       False       0.91      0.62      0.74       265\n",
      "        True       0.27      0.69      0.39        55\n",
      "\n",
      "   micro avg       0.63      0.63      0.63       320\n",
      "   macro avg       0.59      0.65      0.56       320\n",
      "weighted avg       0.80      0.63      0.68       320\n",
      "\n"
     ]
    }
   ],
   "source": [
    "print(confusion_matrix(y_test, y_pred))  \n",
    "print(classification_report(y_test, y_pred))"
   ]
  },
  {
   "cell_type": "markdown",
   "metadata": {
    "collapsed": false
   },
   "source": [
    "- Comparando los kernel"
   ]
  },
  {
   "cell_type": "markdown",
   "metadata": {
    "collapsed": false
   },
   "source": [
    "Al comparar el rendimiento de los diferentes tipos de kernels, se ve que el Kernel Gaussian  tiene el peor rendimiento. Entre el kernel sigmoide y el kernel polinomial, el kernel polinomial logró una tasa de predicción ligeramente mejor que el sigmoide."
   ]
  },
  {
   "cell_type": "markdown",
   "metadata": {
    "collapsed": false
   },
   "source": [
    "#### VINO BLANCO\n",
    "\n",
    "- Polynomial Kernel"
   ]
  },
  {
   "cell_type": "code",
   "execution_count": 34,
   "metadata": {
    "collapsed": false
   },
   "outputs": [
   ],
   "source": [
    "svclassifier_ = SVC(kernel='poly', degree=8)"
   ]
  },
  {
   "cell_type": "code",
   "execution_count": 35,
   "metadata": {
    "collapsed": false
   },
   "outputs": [
    {
     "data": {
      "text/plain": [
       "SVC(C=1.0, cache_size=200, class_weight=None, coef0=0.0,\n",
       "  decision_function_shape='ovr', degree=8, gamma='auto_deprecated',\n",
       "  kernel='poly', max_iter=-1, probability=False, random_state=None,\n",
       "  shrinking=True, tol=0.001, verbose=False)"
      ]
     },
     "execution_count": 35,
     "metadata": {
     },
     "output_type": "execute_result"
    }
   ],
   "source": [
    "svclassifier_.fit(X_train, y_train)"
   ]
  },
  {
   "cell_type": "code",
   "execution_count": 36,
   "metadata": {
    "collapsed": false
   },
   "outputs": [
    {
     "name": "stdout",
     "output_type": "stream",
     "text": [
      "[[739  20]\n",
      " [212   9]]\n",
      "              precision    recall  f1-score   support\n",
      "\n",
      "       False       0.78      0.97      0.86       759\n",
      "        True       0.31      0.04      0.07       221\n",
      "\n",
      "   micro avg       0.76      0.76      0.76       980\n",
      "   macro avg       0.54      0.51      0.47       980\n",
      "weighted avg       0.67      0.76      0.69       980\n",
      "\n"
     ]
    }
   ],
   "source": [
    "y_pred_ = svclassifier_.predict(X_test_)\n",
    "print(confusion_matrix(y_test_, y_pred_))  \n",
    "print(classification_report(y_test_, y_pred_))"
   ]
  },
  {
   "cell_type": "markdown",
   "metadata": {
    "collapsed": false
   },
   "source": [
    "- Gaussian Kernel"
   ]
  },
  {
   "cell_type": "code",
   "execution_count": 37,
   "metadata": {
    "collapsed": false
   },
   "outputs": [
    {
     "name": "stdout",
     "output_type": "stream",
     "text": [
      "[[759   0]\n",
      " [221   0]]\n",
      "              precision    recall  f1-score   support\n",
      "\n",
      "       False       0.77      1.00      0.87       759\n",
      "        True       0.00      0.00      0.00       221\n",
      "\n",
      "   micro avg       0.77      0.77      0.77       980\n",
      "   macro avg       0.39      0.50      0.44       980\n",
      "weighted avg       0.60      0.77      0.68       980\n",
      "\n"
     ]
    }
   ],
   "source": [
    "svclassifier_ = SVC(kernel='rbf').fit(X_, y_)\n",
    "y_pred_ = svclassifier_.predict(X_test_)\n",
    "print(confusion_matrix(y_test_, y_pred_))  \n",
    "print(classification_report(y_test_, y_pred_))"
   ]
  },
  {
   "cell_type": "markdown",
   "metadata": {
    "collapsed": false
   },
   "source": [
    "- Sigmoid Kernel"
   ]
  },
  {
   "cell_type": "code",
   "execution_count": 38,
   "metadata": {
    "collapsed": false
   },
   "outputs": [
    {
     "name": "stdout",
     "output_type": "stream",
     "text": [
      "[[543 216]\n",
      " [159  62]]\n",
      "              precision    recall  f1-score   support\n",
      "\n",
      "       False       0.77      0.72      0.74       759\n",
      "        True       0.22      0.28      0.25       221\n",
      "\n",
      "   micro avg       0.62      0.62      0.62       980\n",
      "   macro avg       0.50      0.50      0.50       980\n",
      "weighted avg       0.65      0.62      0.63       980\n",
      "\n"
     ]
    }
   ],
   "source": [
    "svclassifier_ = SVC(kernel='sigmoid').fit(X_, y_)\n",
    "y_pred_ = svclassifier_.predict(X_test_)\n",
    "print(confusion_matrix(y_test_, y_pred_))  \n",
    "print(classification_report(y_test_, y_pred_))"
   ]
  },
  {
   "cell_type": "markdown",
   "metadata": {
    "collapsed": false
   },
   "source": [
    "- Comparando los resultados"
   ]
  },
  {
   "cell_type": "markdown",
   "metadata": {
    "collapsed": false
   },
   "source": [
    "Al comparar el rendimiento de los diferentes tipos de kernels, se ve que el Kernel Gaussian tiene el menor rendimiento. Entre el kernel sigmoide y el kernel polinomial, el kernel polinomial logró una tasa de predicción ligeramente mejor que el sigmoide."
   ]
  },
  {
   "cell_type": "markdown",
   "metadata": {
    "collapsed": false
   },
   "source": [
    "# Exercise 6.4\n",
    "Using the best SVM find the parameters that gives the best performance\n",
    "\n",
    "'C': [0.1, 1, 10, 100, 1000], 'gamma': [0.01, 0.001, 0.0001]"
   ]
  },
  {
   "cell_type": "markdown",
   "metadata": {
    "collapsed": false
   },
   "source": [
    "#### VINO ROJO"
   ]
  },
  {
   "cell_type": "markdown",
   "metadata": {
    "collapsed": false
   },
   "source": [
    "- Variando los parametros"
   ]
  },
  {
   "cell_type": "code",
   "execution_count": 39,
   "metadata": {
    "collapsed": false
   },
   "outputs": [
   ],
   "source": [
    "C=[0.1, 1, 10, 100, 1000]\n",
    "gamma=[0.01, 0.001, 0.0001]"
   ]
  },
  {
   "cell_type": "code",
   "execution_count": 40,
   "metadata": {
    "collapsed": false
   },
   "outputs": [
    {
     "name": "stdout",
     "output_type": "stream",
     "text": [
      "Accuracy: 0.828125\n",
      "Parametro 'C'= 0.1 y Parametro gamma 0.01\n",
      "              precision    recall  f1-score   support\n",
      "\n",
      "       False       0.83      1.00      0.91       265\n",
      "        True       0.00      0.00      0.00        55\n",
      "\n",
      "   micro avg       0.83      0.83      0.83       320\n",
      "   macro avg       0.41      0.50      0.45       320\n",
      "weighted avg       0.69      0.83      0.75       320\n",
      "\n",
      "Accuracy: 0.828125\n",
      "Parametro 'C'= 0.1 y Parametro gamma 0.001\n",
      "              precision    recall  f1-score   support\n",
      "\n",
      "       False       0.83      1.00      0.91       265\n",
      "        True       0.00      0.00      0.00        55\n",
      "\n",
      "   micro avg       0.83      0.83      0.83       320\n",
      "   macro avg       0.41      0.50      0.45       320\n",
      "weighted avg       0.69      0.83      0.75       320\n",
      "\n",
      "Accuracy: 0.828125\n",
      "Parametro 'C'= 0.1 y Parametro gamma 0.0001\n",
      "              precision    recall  f1-score   support\n",
      "\n",
      "       False       0.83      1.00      0.91       265\n",
      "        True       0.00      0.00      0.00        55\n",
      "\n",
      "   micro avg       0.83      0.83      0.83       320\n",
      "   macro avg       0.41      0.50      0.45       320\n",
      "weighted avg       0.69      0.83      0.75       320\n",
      "\n",
      "Accuracy: 0.828125\n",
      "Parametro 'C'= 1 y Parametro gamma 0.01\n",
      "              precision    recall  f1-score   support\n",
      "\n",
      "       False       0.83      1.00      0.91       265\n",
      "        True       0.00      0.00      0.00        55\n",
      "\n",
      "   micro avg       0.83      0.83      0.83       320\n",
      "   macro avg       0.41      0.50      0.45       320\n",
      "weighted avg       0.69      0.83      0.75       320\n",
      "\n"
     ]
    },
    {
     "name": "stdout",
     "output_type": "stream",
     "text": [
      "Accuracy: 0.828125\n",
      "Parametro 'C'= 1 y Parametro gamma 0.001\n",
      "              precision    recall  f1-score   support\n",
      "\n",
      "       False       0.83      1.00      0.91       265\n",
      "        True       0.00      0.00      0.00        55\n",
      "\n",
      "   micro avg       0.83      0.83      0.83       320\n",
      "   macro avg       0.41      0.50      0.45       320\n",
      "weighted avg       0.69      0.83      0.75       320\n",
      "\n",
      "Accuracy: 0.828125\n",
      "Parametro 'C'= 1 y Parametro gamma 0.0001\n",
      "              precision    recall  f1-score   support\n",
      "\n",
      "       False       0.83      1.00      0.91       265\n",
      "        True       0.00      0.00      0.00        55\n",
      "\n",
      "   micro avg       0.83      0.83      0.83       320\n",
      "   macro avg       0.41      0.50      0.45       320\n",
      "weighted avg       0.69      0.83      0.75       320\n",
      "\n",
      "Accuracy: 0.828125\n",
      "Parametro 'C'= 10 y Parametro gamma 0.01\n",
      "              precision    recall  f1-score   support\n",
      "\n",
      "       False       0.83      1.00      0.91       265\n",
      "        True       0.00      0.00      0.00        55\n",
      "\n",
      "   micro avg       0.83      0.83      0.83       320\n",
      "   macro avg       0.41      0.50      0.45       320\n",
      "weighted avg       0.69      0.83      0.75       320\n",
      "\n"
     ]
    },
    {
     "name": "stdout",
     "output_type": "stream",
     "text": [
      "Accuracy: 0.828125\n",
      "Parametro 'C'= 10 y Parametro gamma 0.001\n",
      "              precision    recall  f1-score   support\n",
      "\n",
      "       False       0.83      1.00      0.91       265\n",
      "        True       0.00      0.00      0.00        55\n",
      "\n",
      "   micro avg       0.83      0.83      0.83       320\n",
      "   macro avg       0.41      0.50      0.45       320\n",
      "weighted avg       0.69      0.83      0.75       320\n",
      "\n",
      "Accuracy: 0.828125\n",
      "Parametro 'C'= 10 y Parametro gamma 0.0001\n",
      "              precision    recall  f1-score   support\n",
      "\n",
      "       False       0.83      1.00      0.91       265\n",
      "        True       0.00      0.00      0.00        55\n",
      "\n",
      "   micro avg       0.83      0.83      0.83       320\n",
      "   macro avg       0.41      0.50      0.45       320\n",
      "weighted avg       0.69      0.83      0.75       320\n",
      "\n"
     ]
    },
    {
     "name": "stdout",
     "output_type": "stream",
     "text": [
      "Accuracy: 0.828125\n",
      "Parametro 'C'= 100 y Parametro gamma 0.01\n",
      "              precision    recall  f1-score   support\n",
      "\n",
      "       False       0.83      1.00      0.91       265\n",
      "        True       0.00      0.00      0.00        55\n",
      "\n",
      "   micro avg       0.83      0.83      0.83       320\n",
      "   macro avg       0.41      0.50      0.45       320\n",
      "weighted avg       0.69      0.83      0.75       320\n",
      "\n",
      "Accuracy: 0.828125\n",
      "Parametro 'C'= 100 y Parametro gamma 0.001\n",
      "              precision    recall  f1-score   support\n",
      "\n",
      "       False       0.83      1.00      0.91       265\n",
      "        True       0.00      0.00      0.00        55\n",
      "\n",
      "   micro avg       0.83      0.83      0.83       320\n",
      "   macro avg       0.41      0.50      0.45       320\n",
      "weighted avg       0.69      0.83      0.75       320\n",
      "\n"
     ]
    },
    {
     "name": "stdout",
     "output_type": "stream",
     "text": [
      "Accuracy: 0.828125\n",
      "Parametro 'C'= 100 y Parametro gamma 0.0001\n",
      "              precision    recall  f1-score   support\n",
      "\n",
      "       False       0.83      1.00      0.91       265\n",
      "        True       0.00      0.00      0.00        55\n",
      "\n",
      "   micro avg       0.83      0.83      0.83       320\n",
      "   macro avg       0.41      0.50      0.45       320\n",
      "weighted avg       0.69      0.83      0.75       320\n",
      "\n"
     ]
    },
    {
     "name": "stdout",
     "output_type": "stream",
     "text": [
      "Accuracy: 0.828125\n",
      "Parametro 'C'= 1000 y Parametro gamma 0.01\n",
      "              precision    recall  f1-score   support\n",
      "\n",
      "       False       0.83      1.00      0.91       265\n",
      "        True       0.00      0.00      0.00        55\n",
      "\n",
      "   micro avg       0.83      0.83      0.83       320\n",
      "   macro avg       0.41      0.50      0.45       320\n",
      "weighted avg       0.69      0.83      0.75       320\n",
      "\n"
     ]
    },
    {
     "name": "stdout",
     "output_type": "stream",
     "text": [
      "Accuracy: 0.825\n",
      "Parametro 'C'= 1000 y Parametro gamma 0.001\n",
      "              precision    recall  f1-score   support\n",
      "\n",
      "       False       0.83      1.00      0.90       265\n",
      "        True       0.00      0.00      0.00        55\n",
      "\n",
      "   micro avg       0.82      0.82      0.82       320\n",
      "   macro avg       0.41      0.50      0.45       320\n",
      "weighted avg       0.69      0.82      0.75       320\n",
      "\n"
     ]
    },
    {
     "name": "stdout",
     "output_type": "stream",
     "text": [
      "Accuracy: 0.825\n",
      "Parametro 'C'= 1000 y Parametro gamma 0.0001\n",
      "              precision    recall  f1-score   support\n",
      "\n",
      "       False       0.83      1.00      0.90       265\n",
      "        True       0.00      0.00      0.00        55\n",
      "\n",
      "   micro avg       0.82      0.82      0.82       320\n",
      "   macro avg       0.41      0.50      0.45       320\n",
      "weighted avg       0.69      0.82      0.75       320\n",
      "\n"
     ]
    }
   ],
   "source": [
    "for c in C:\n",
    "    for g in gamma:\n",
    "        svclassifier = SVC(kernel='rbf',C=c,gamma=g).fit(X, y)\n",
    "        y_pred = svclassifier.predict(X_test)\n",
    "        print(\"Accuracy:\", accuracy_score(y_test, y_pred))\n",
    "        print(\"Parametro 'C'=\", c,\"y Parametro gamma\", g)\n",
    "        print(classification_report(y_test, y_pred))\n",
    "        "
   ]
  },
  {
   "cell_type": "markdown",
   "metadata": {
    "collapsed": false
   },
   "source": [
    "- Usando el Gaussian Kernel los parametros que dan mejor precisón son: 'C'= 100 y Parametro gamma 0.001 y Parametro 'C'= 1000 y Parametro gamma 0.0001"
   ]
  },
  {
   "cell_type": "markdown",
   "metadata": {
    "collapsed": false
   },
   "source": [
    "#### VINO BLANCO"
   ]
  },
  {
   "cell_type": "code",
   "execution_count": 41,
   "metadata": {
    "collapsed": false
   },
   "outputs": [
    {
     "name": "stdout",
     "output_type": "stream",
     "text": [
      "Accuracy: 0.7744897959183673\n",
      "Parametro 'C'= 0.1 y Parametro gamma 0.01\n",
      "              precision    recall  f1-score   support\n",
      "\n",
      "       False       0.77      1.00      0.87       759\n",
      "        True       0.00      0.00      0.00       221\n",
      "\n",
      "   micro avg       0.77      0.77      0.77       980\n",
      "   macro avg       0.39      0.50      0.44       980\n",
      "weighted avg       0.60      0.77      0.68       980\n",
      "\n",
      "Accuracy: 0.7744897959183673\n",
      "Parametro 'C'= 0.1 y Parametro gamma 0.001\n",
      "              precision    recall  f1-score   support\n",
      "\n",
      "       False       0.77      1.00      0.87       759\n",
      "        True       0.00      0.00      0.00       221\n",
      "\n",
      "   micro avg       0.77      0.77      0.77       980\n",
      "   macro avg       0.39      0.50      0.44       980\n",
      "weighted avg       0.60      0.77      0.68       980\n",
      "\n"
     ]
    },
    {
     "name": "stdout",
     "output_type": "stream",
     "text": [
      "Accuracy: 0.7744897959183673\n",
      "Parametro 'C'= 0.1 y Parametro gamma 0.0001\n",
      "              precision    recall  f1-score   support\n",
      "\n",
      "       False       0.77      1.00      0.87       759\n",
      "        True       0.00      0.00      0.00       221\n",
      "\n",
      "   micro avg       0.77      0.77      0.77       980\n",
      "   macro avg       0.39      0.50      0.44       980\n",
      "weighted avg       0.60      0.77      0.68       980\n",
      "\n"
     ]
    },
    {
     "name": "stdout",
     "output_type": "stream",
     "text": [
      "Accuracy: 0.7744897959183673\n",
      "Parametro 'C'= 1 y Parametro gamma 0.01\n",
      "              precision    recall  f1-score   support\n",
      "\n",
      "       False       0.77      1.00      0.87       759\n",
      "        True       0.00      0.00      0.00       221\n",
      "\n",
      "   micro avg       0.77      0.77      0.77       980\n",
      "   macro avg       0.39      0.50      0.44       980\n",
      "weighted avg       0.60      0.77      0.68       980\n",
      "\n"
     ]
    },
    {
     "name": "stdout",
     "output_type": "stream",
     "text": [
      "Accuracy: 0.7744897959183673\n",
      "Parametro 'C'= 1 y Parametro gamma 0.001\n",
      "              precision    recall  f1-score   support\n",
      "\n",
      "       False       0.77      1.00      0.87       759\n",
      "        True       0.00      0.00      0.00       221\n",
      "\n",
      "   micro avg       0.77      0.77      0.77       980\n",
      "   macro avg       0.39      0.50      0.44       980\n",
      "weighted avg       0.60      0.77      0.68       980\n",
      "\n",
      "Accuracy: 0.7744897959183673\n",
      "Parametro 'C'= 1 y Parametro gamma 0.0001\n",
      "              precision    recall  f1-score   support\n",
      "\n",
      "       False       0.77      1.00      0.87       759\n",
      "        True       0.00      0.00      0.00       221\n",
      "\n",
      "   micro avg       0.77      0.77      0.77       980\n",
      "   macro avg       0.39      0.50      0.44       980\n",
      "weighted avg       0.60      0.77      0.68       980\n",
      "\n"
     ]
    },
    {
     "name": "stdout",
     "output_type": "stream",
     "text": [
      "Accuracy: 0.7744897959183673\n",
      "Parametro 'C'= 10 y Parametro gamma 0.01\n",
      "              precision    recall  f1-score   support\n",
      "\n",
      "       False       0.77      1.00      0.87       759\n",
      "        True       0.00      0.00      0.00       221\n",
      "\n",
      "   micro avg       0.77      0.77      0.77       980\n",
      "   macro avg       0.39      0.50      0.44       980\n",
      "weighted avg       0.60      0.77      0.68       980\n",
      "\n"
     ]
    },
    {
     "name": "stdout",
     "output_type": "stream",
     "text": [
      "Accuracy: 0.7744897959183673\n",
      "Parametro 'C'= 10 y Parametro gamma 0.001\n",
      "              precision    recall  f1-score   support\n",
      "\n",
      "       False       0.77      1.00      0.87       759\n",
      "        True       0.00      0.00      0.00       221\n",
      "\n",
      "   micro avg       0.77      0.77      0.77       980\n",
      "   macro avg       0.39      0.50      0.44       980\n",
      "weighted avg       0.60      0.77      0.68       980\n",
      "\n",
      "Accuracy: 0.7744897959183673\n",
      "Parametro 'C'= 10 y Parametro gamma 0.0001\n",
      "              precision    recall  f1-score   support\n",
      "\n",
      "       False       0.77      1.00      0.87       759\n",
      "        True       0.00      0.00      0.00       221\n",
      "\n",
      "   micro avg       0.77      0.77      0.77       980\n",
      "   macro avg       0.39      0.50      0.44       980\n",
      "weighted avg       0.60      0.77      0.68       980\n",
      "\n"
     ]
    },
    {
     "name": "stdout",
     "output_type": "stream",
     "text": [
      "Accuracy: 0.7744897959183673\n",
      "Parametro 'C'= 100 y Parametro gamma 0.01\n",
      "              precision    recall  f1-score   support\n",
      "\n",
      "       False       0.77      1.00      0.87       759\n",
      "        True       0.00      0.00      0.00       221\n",
      "\n",
      "   micro avg       0.77      0.77      0.77       980\n",
      "   macro avg       0.39      0.50      0.44       980\n",
      "weighted avg       0.60      0.77      0.68       980\n",
      "\n",
      "Accuracy: 0.7744897959183673\n",
      "Parametro 'C'= 100 y Parametro gamma 0.001\n",
      "              precision    recall  f1-score   support\n",
      "\n",
      "       False       0.77      1.00      0.87       759\n",
      "        True       0.00      0.00      0.00       221\n",
      "\n",
      "   micro avg       0.77      0.77      0.77       980\n",
      "   macro avg       0.39      0.50      0.44       980\n",
      "weighted avg       0.60      0.77      0.68       980\n",
      "\n"
     ]
    },
    {
     "name": "stdout",
     "output_type": "stream",
     "text": [
      "Accuracy: 0.7744897959183673\n",
      "Parametro 'C'= 100 y Parametro gamma 0.0001\n",
      "              precision    recall  f1-score   support\n",
      "\n",
      "       False       0.77      1.00      0.87       759\n",
      "        True       0.00      0.00      0.00       221\n",
      "\n",
      "   micro avg       0.77      0.77      0.77       980\n",
      "   macro avg       0.39      0.50      0.44       980\n",
      "weighted avg       0.60      0.77      0.68       980\n",
      "\n"
     ]
    },
    {
     "name": "stdout",
     "output_type": "stream",
     "text": [
      "Accuracy: 0.7744897959183673\n",
      "Parametro 'C'= 1000 y Parametro gamma 0.01\n",
      "              precision    recall  f1-score   support\n",
      "\n",
      "       False       0.77      1.00      0.87       759\n",
      "        True       0.00      0.00      0.00       221\n",
      "\n",
      "   micro avg       0.77      0.77      0.77       980\n",
      "   macro avg       0.39      0.50      0.44       980\n",
      "weighted avg       0.60      0.77      0.68       980\n",
      "\n",
      "Accuracy: 0.773469387755102\n",
      "Parametro 'C'= 1000 y Parametro gamma 0.001\n",
      "              precision    recall  f1-score   support\n",
      "\n",
      "       False       0.77      1.00      0.87       759\n",
      "        True       0.00      0.00      0.00       221\n",
      "\n",
      "   micro avg       0.77      0.77      0.77       980\n",
      "   macro avg       0.39      0.50      0.44       980\n",
      "weighted avg       0.60      0.77      0.68       980\n",
      "\n"
     ]
    },
    {
     "name": "stdout",
     "output_type": "stream",
     "text": [
      "Accuracy: 0.7744897959183673\n",
      "Parametro 'C'= 1000 y Parametro gamma 0.0001\n",
      "              precision    recall  f1-score   support\n",
      "\n",
      "       False       0.77      1.00      0.87       759\n",
      "        True       0.00      0.00      0.00       221\n",
      "\n",
      "   micro avg       0.77      0.77      0.77       980\n",
      "   macro avg       0.39      0.50      0.44       980\n",
      "weighted avg       0.60      0.77      0.68       980\n",
      "\n"
     ]
    }
   ],
   "source": [
    "for c in C:\n",
    "    for g in gamma:\n",
    "        svclassifier_ = SVC(kernel='rbf',C=c,gamma=g).fit(X, y)\n",
    "        y_pred_ = svclassifier_.predict(X_test_)\n",
    "        print(\"Accuracy:\", accuracy_score(y_test_, y_pred_))\n",
    "        print(\"Parametro 'C'=\", c,\"y Parametro gamma\", g)\n",
    "        print(classification_report(y_test_, y_pred_))"
   ]
  },
  {
   "cell_type": "markdown",
   "metadata": {
    "collapsed": false
   },
   "source": [
    "- Usando el Gaussian Kernel  los parametros que dan mejor precisón son: Parametro 'C'= 1000 y Parametro gamma 0.0001"
   ]
  },
  {
   "cell_type": "markdown",
   "metadata": {
    "collapsed": false
   },
   "source": [
    "# Exercise 6.5\n",
    "\n",
    "Compare the results with other methods\n",
    " - Comparando con un modelo de regresión logística"
   ]
  },
  {
   "cell_type": "markdown",
   "metadata": {
    "collapsed": false
   },
   "source": [
    "#### VINO ROJO"
   ]
  },
  {
   "cell_type": "code",
   "execution_count": 42,
   "metadata": {
    "collapsed": false
   },
   "outputs": [
    {
     "name": "stdout",
     "output_type": "stream",
     "text": [
      "Accuracy: 0.84375\n",
      "[[256   9]\n",
      " [ 41  14]]\n",
      "              precision    recall  f1-score   support\n",
      "\n",
      "       False       0.86      0.97      0.91       265\n",
      "        True       0.61      0.25      0.36        55\n",
      "\n",
      "   micro avg       0.84      0.84      0.84       320\n",
      "   macro avg       0.74      0.61      0.64       320\n",
      "weighted avg       0.82      0.84      0.82       320\n",
      "\n"
     ]
    }
   ],
   "source": [
    "logreg = LogisticRegression(solver='liblinear',C=1e9).fit(X_train, y_train)\n",
    "y_pred = logreg.predict(X_test)\n",
    "print(\"Accuracy:\", accuracy_score(y_test, y_pred))\n",
    "print(confusion_matrix(y_test,y_pred))  \n",
    "print(classification_report(y_test,y_pred))"
   ]
  },
  {
   "cell_type": "markdown",
   "metadata": {
    "collapsed": false
   },
   "source": [
    "#### VINO BLANCO"
   ]
  },
  {
   "cell_type": "code",
   "execution_count": 43,
   "metadata": {
    "collapsed": false
   },
   "outputs": [
    {
     "name": "stdout",
     "output_type": "stream",
     "text": [
      "Accuracy: 0.7959183673469388\n",
      "[[719  40]\n",
      " [160  61]]\n",
      "              precision    recall  f1-score   support\n",
      "\n",
      "       False       0.82      0.95      0.88       759\n",
      "        True       0.60      0.28      0.38       221\n",
      "\n",
      "   micro avg       0.80      0.80      0.80       980\n",
      "   macro avg       0.71      0.61      0.63       980\n",
      "weighted avg       0.77      0.80      0.77       980\n",
      "\n"
     ]
    }
   ],
   "source": [
    "logreg_ = LogisticRegression(solver='liblinear',C=1e9).fit(X_train_, y_train_)\n",
    "y_pred_ = logreg_.predict(X_test_)\n",
    "print(\"Accuracy:\", accuracy_score(y_test_, y_pred_))\n",
    "print(confusion_matrix(y_test_, y_pred_))  \n",
    "print(classification_report(y_test_, y_pred_))"
   ]
  },
  {
   "cell_type": "markdown",
   "metadata": {
    "collapsed": false
   },
   "source": [
    "- Realizando la regresión logística, el comportamiento es similar para los dos tipos de vino, presentando mejor precisión en el modelo de regresión lineal que en el modelo usando SVM."
   ]
  },
  {
   "cell_type": "markdown",
   "metadata": {
    "collapsed": false
   },
   "source": [
    "# Regularization"
   ]
  },
  {
   "cell_type": "markdown",
   "metadata": {
    "collapsed": false
   },
   "source": [
    "# Exercise 6.6\n",
    "\n",
    "\n",
    "* Train a linear regression to predict wine quality (Continous)"
   ]
  },
  {
   "cell_type": "code",
   "execution_count": 44,
   "metadata": {
    "collapsed": false
   },
   "outputs": [
    {
     "data": {
      "text/html": [
       "<div>\n",
       "<style scoped>\n",
       "    .dataframe tbody tr th:only-of-type {\n",
       "        vertical-align: middle;\n",
       "    }\n",
       "\n",
       "    .dataframe tbody tr th {\n",
       "        vertical-align: top;\n",
       "    }\n",
       "\n",
       "    .dataframe thead th {\n",
       "        text-align: right;\n",
       "    }\n",
       "</style>\n",
       "<table border=\"1\" class=\"dataframe\">\n",
       "  <thead>\n",
       "    <tr style=\"text-align: right;\">\n",
       "      <th></th>\n",
       "      <th>fixed acidity</th>\n",
       "      <th>volatile acidity</th>\n",
       "      <th>citric acid</th>\n",
       "      <th>residual sugar</th>\n",
       "      <th>chlorides</th>\n",
       "      <th>free sulfur dioxide</th>\n",
       "      <th>total sulfur dioxide</th>\n",
       "      <th>density</th>\n",
       "      <th>pH</th>\n",
       "      <th>sulphates</th>\n",
       "      <th>alcohol</th>\n",
       "      <th>quality</th>\n",
       "      <th>type</th>\n",
       "      <th>quality2</th>\n",
       "    </tr>\n",
       "  </thead>\n",
       "  <tbody>\n",
       "    <tr>\n",
       "      <th>0</th>\n",
       "      <td>7.0</td>\n",
       "      <td>0.27</td>\n",
       "      <td>0.36</td>\n",
       "      <td>20.7</td>\n",
       "      <td>0.045</td>\n",
       "      <td>45.0</td>\n",
       "      <td>170.0</td>\n",
       "      <td>1.0010</td>\n",
       "      <td>3.00</td>\n",
       "      <td>0.45</td>\n",
       "      <td>8.8</td>\n",
       "      <td>False</td>\n",
       "      <td>white</td>\n",
       "      <td>6</td>\n",
       "    </tr>\n",
       "    <tr>\n",
       "      <th>1</th>\n",
       "      <td>6.3</td>\n",
       "      <td>0.30</td>\n",
       "      <td>0.34</td>\n",
       "      <td>1.6</td>\n",
       "      <td>0.049</td>\n",
       "      <td>14.0</td>\n",
       "      <td>132.0</td>\n",
       "      <td>0.9940</td>\n",
       "      <td>3.30</td>\n",
       "      <td>0.49</td>\n",
       "      <td>9.5</td>\n",
       "      <td>False</td>\n",
       "      <td>white</td>\n",
       "      <td>6</td>\n",
       "    </tr>\n",
       "    <tr>\n",
       "      <th>2</th>\n",
       "      <td>8.1</td>\n",
       "      <td>0.28</td>\n",
       "      <td>0.40</td>\n",
       "      <td>6.9</td>\n",
       "      <td>0.050</td>\n",
       "      <td>30.0</td>\n",
       "      <td>97.0</td>\n",
       "      <td>0.9951</td>\n",
       "      <td>3.26</td>\n",
       "      <td>0.44</td>\n",
       "      <td>10.1</td>\n",
       "      <td>False</td>\n",
       "      <td>white</td>\n",
       "      <td>6</td>\n",
       "    </tr>\n",
       "    <tr>\n",
       "      <th>3</th>\n",
       "      <td>7.2</td>\n",
       "      <td>0.23</td>\n",
       "      <td>0.32</td>\n",
       "      <td>8.5</td>\n",
       "      <td>0.058</td>\n",
       "      <td>47.0</td>\n",
       "      <td>186.0</td>\n",
       "      <td>0.9956</td>\n",
       "      <td>3.19</td>\n",
       "      <td>0.40</td>\n",
       "      <td>9.9</td>\n",
       "      <td>False</td>\n",
       "      <td>white</td>\n",
       "      <td>6</td>\n",
       "    </tr>\n",
       "    <tr>\n",
       "      <th>4</th>\n",
       "      <td>7.2</td>\n",
       "      <td>0.23</td>\n",
       "      <td>0.32</td>\n",
       "      <td>8.5</td>\n",
       "      <td>0.058</td>\n",
       "      <td>47.0</td>\n",
       "      <td>186.0</td>\n",
       "      <td>0.9956</td>\n",
       "      <td>3.19</td>\n",
       "      <td>0.40</td>\n",
       "      <td>9.9</td>\n",
       "      <td>False</td>\n",
       "      <td>white</td>\n",
       "      <td>6</td>\n",
       "    </tr>\n",
       "  </tbody>\n",
       "</table>\n",
       "</div>"
      ]
     },
     "execution_count": 44,
     "metadata": {
     },
     "output_type": "execute_result"
    }
   ],
   "source": [
    "# remove categorical features\n",
    "#data.drop(['type', 'quality'], axis=1, inplace=True)\n",
    "#data.dropna(inplace=True)\n",
    "data.head()"
   ]
  },
  {
   "cell_type": "code",
   "execution_count": 45,
   "metadata": {
    "collapsed": false
   },
   "outputs": [
   ],
   "source": [
    "X = data[['fixed acidity','volatile acidity','citric acid','residual sugar','chlorides','free sulfur dioxide','total sulfur dioxide','density','pH','sulphates','alcohol']]\n",
    "y = data['quality2']"
   ]
  },
  {
   "cell_type": "code",
   "execution_count": 46,
   "metadata": {
    "collapsed": false
   },
   "outputs": [
   ],
   "source": [
    "X_train, X_test, y_train, y_test = train_test_split(X, y, random_state=1)\n",
    "\n",
    "X_train = X_train.astype(float)\n",
    "X_test = X_test.astype(float)\n",
    "\n",
    "scaler.fit(X_train)\n",
    "X_train = scaler.transform(X_train)\n",
    "X_test = scaler.transform(X_test)"
   ]
  },
  {
   "cell_type": "code",
   "execution_count": 47,
   "metadata": {
    "collapsed": false
   },
   "outputs": [
   ],
   "source": [
    "linreg = LinearRegression().fit(X_train, y_train)\n",
    "y_pred = linreg.predict(X_test)"
   ]
  },
  {
   "cell_type": "code",
   "execution_count": 48,
   "metadata": {
    "collapsed": false
   },
   "outputs": [
    {
     "data": {
      "text/html": [
       "<div>\n",
       "<style scoped>\n",
       "    .dataframe tbody tr th:only-of-type {\n",
       "        vertical-align: middle;\n",
       "    }\n",
       "\n",
       "    .dataframe tbody tr th {\n",
       "        vertical-align: top;\n",
       "    }\n",
       "\n",
       "    .dataframe thead th {\n",
       "        text-align: right;\n",
       "    }\n",
       "</style>\n",
       "<table border=\"1\" class=\"dataframe\">\n",
       "  <thead>\n",
       "    <tr style=\"text-align: right;\">\n",
       "      <th></th>\n",
       "      <th>fixed acidity</th>\n",
       "      <th>volatile acidity</th>\n",
       "      <th>citric acid</th>\n",
       "      <th>residual sugar</th>\n",
       "      <th>chlorides</th>\n",
       "      <th>free sulfur dioxide</th>\n",
       "      <th>total sulfur dioxide</th>\n",
       "      <th>density</th>\n",
       "      <th>pH</th>\n",
       "      <th>sulphates</th>\n",
       "      <th>alcohol</th>\n",
       "      <th>quality</th>\n",
       "      <th>type</th>\n",
       "      <th>quality2</th>\n",
       "    </tr>\n",
       "  </thead>\n",
       "  <tbody>\n",
       "    <tr>\n",
       "      <th>0</th>\n",
       "      <td>7.0</td>\n",
       "      <td>0.27</td>\n",
       "      <td>0.36</td>\n",
       "      <td>20.7</td>\n",
       "      <td>0.045</td>\n",
       "      <td>45.0</td>\n",
       "      <td>170.0</td>\n",
       "      <td>1.0010</td>\n",
       "      <td>3.00</td>\n",
       "      <td>0.45</td>\n",
       "      <td>8.8</td>\n",
       "      <td>False</td>\n",
       "      <td>white</td>\n",
       "      <td>6</td>\n",
       "    </tr>\n",
       "    <tr>\n",
       "      <th>1</th>\n",
       "      <td>6.3</td>\n",
       "      <td>0.30</td>\n",
       "      <td>0.34</td>\n",
       "      <td>1.6</td>\n",
       "      <td>0.049</td>\n",
       "      <td>14.0</td>\n",
       "      <td>132.0</td>\n",
       "      <td>0.9940</td>\n",
       "      <td>3.30</td>\n",
       "      <td>0.49</td>\n",
       "      <td>9.5</td>\n",
       "      <td>False</td>\n",
       "      <td>white</td>\n",
       "      <td>6</td>\n",
       "    </tr>\n",
       "    <tr>\n",
       "      <th>2</th>\n",
       "      <td>8.1</td>\n",
       "      <td>0.28</td>\n",
       "      <td>0.40</td>\n",
       "      <td>6.9</td>\n",
       "      <td>0.050</td>\n",
       "      <td>30.0</td>\n",
       "      <td>97.0</td>\n",
       "      <td>0.9951</td>\n",
       "      <td>3.26</td>\n",
       "      <td>0.44</td>\n",
       "      <td>10.1</td>\n",
       "      <td>False</td>\n",
       "      <td>white</td>\n",
       "      <td>6</td>\n",
       "    </tr>\n",
       "    <tr>\n",
       "      <th>3</th>\n",
       "      <td>7.2</td>\n",
       "      <td>0.23</td>\n",
       "      <td>0.32</td>\n",
       "      <td>8.5</td>\n",
       "      <td>0.058</td>\n",
       "      <td>47.0</td>\n",
       "      <td>186.0</td>\n",
       "      <td>0.9956</td>\n",
       "      <td>3.19</td>\n",
       "      <td>0.40</td>\n",
       "      <td>9.9</td>\n",
       "      <td>False</td>\n",
       "      <td>white</td>\n",
       "      <td>6</td>\n",
       "    </tr>\n",
       "    <tr>\n",
       "      <th>4</th>\n",
       "      <td>7.2</td>\n",
       "      <td>0.23</td>\n",
       "      <td>0.32</td>\n",
       "      <td>8.5</td>\n",
       "      <td>0.058</td>\n",
       "      <td>47.0</td>\n",
       "      <td>186.0</td>\n",
       "      <td>0.9956</td>\n",
       "      <td>3.19</td>\n",
       "      <td>0.40</td>\n",
       "      <td>9.9</td>\n",
       "      <td>False</td>\n",
       "      <td>white</td>\n",
       "      <td>6</td>\n",
       "    </tr>\n",
       "  </tbody>\n",
       "</table>\n",
       "</div>"
      ]
     },
     "execution_count": 48,
     "metadata": {
     },
     "output_type": "execute_result"
    }
   ],
   "source": [
    "data.head()"
   ]
  },
  {
   "cell_type": "markdown",
   "metadata": {
    "collapsed": false
   },
   "source": [
    "* Analyze the coefficients"
   ]
  },
  {
   "cell_type": "code",
   "execution_count": 49,
   "metadata": {
    "collapsed": false
   },
   "outputs": [
    {
     "data": {
      "text/plain": [
       "[(0.10170329402356523, 'fixed acidity'),\n",
       " (-0.22413539715698688, 'volatile acidity'),\n",
       " (-0.029335163607170103, 'citric acid'),\n",
       " (0.2137163716272402, 'residual sugar'),\n",
       " (-0.015114269037877923, 'chlorides'),\n",
       " (0.0929454967849375, 'free sulfur dioxide'),\n",
       " (-0.13235220174879392, 'total sulfur dioxide'),\n",
       " (-0.17189226472924307, 'density'),\n",
       " (0.07299203681413294, 'pH'),\n",
       " (0.11315602615308655, 'sulphates'),\n",
       " (0.3089344513324735, 'alcohol')]"
      ]
     },
     "execution_count": 49,
     "metadata": {
     },
     "output_type": "execute_result"
    }
   ],
   "source": [
    "list(zip(linreg.coef_, data.columns))"
   ]
  },
  {
   "cell_type": "markdown",
   "metadata": {
    "collapsed": false
   },
   "source": [
    "- Analizando los coeficientes se identifica que el nivel de alcohol es la variable que tiene mayor afectación. "
   ]
  },
  {
   "cell_type": "markdown",
   "metadata": {
    "collapsed": false
   },
   "source": [
    "- Evaluate the RMSE"
   ]
  },
  {
   "cell_type": "code",
   "execution_count": 50,
   "metadata": {
    "collapsed": false
   },
   "outputs": [
    {
     "name": "stdout",
     "output_type": "stream",
     "text": [
      "0.7170517385288945\n"
     ]
    }
   ],
   "source": [
    "print(np.sqrt(metrics.mean_squared_error(y_test, y_pred)))"
   ]
  },
  {
   "cell_type": "markdown",
   "metadata": {
    "collapsed": false
   },
   "source": [
    "El RMSE toma el promedio del cuadrado de la diferencia entre los valores originales y los valores predichos."
   ]
  },
  {
   "cell_type": "markdown",
   "metadata": {
    "collapsed": false
   },
   "source": [
    "# Exercise 6.7\n",
    "\n",
    "* Estimate a ridge regression with alpha equals 0.1 and 1.\n",
    "* Compare the coefficients with the linear regression\n",
    "* Evaluate the RMSE"
   ]
  },
  {
   "cell_type": "code",
   "execution_count": 51,
   "metadata": {
    "collapsed": false
   },
   "outputs": [
    {
     "name": "stdout",
     "output_type": "stream",
     "text": [
      "0.7203295233692668\n"
     ]
    }
   ],
   "source": [
    "# alpha=0.1\n",
    "ridgereg = Ridge(alpha=0.1, normalize=True).fit(X_train, y_train)\n",
    "y_pred = ridgereg.predict(X_test)\n",
    "print(np.sqrt(metrics.mean_squared_error(y_test, y_pred)))"
   ]
  },
  {
   "cell_type": "markdown",
   "metadata": {
    "collapsed": false
   },
   "source": [
    "- El RMSE es mayor que el usando una regresión lineal"
   ]
  },
  {
   "cell_type": "code",
   "execution_count": 52,
   "metadata": {
    "collapsed": false
   },
   "outputs": [
    {
     "data": {
      "text/plain": [
       "[(0.04515783954940397, 'fixed acidity'),\n",
       " (-0.19688630741690105, 'volatile acidity'),\n",
       " (-0.007611887096904056, 'citric acid'),\n",
       " (0.12686013885823458, 'residual sugar'),\n",
       " (-0.033507390157222934, 'chlorides'),\n",
       " (0.07082333973190955, 'free sulfur dioxide'),\n",
       " (-0.09749806688977407, 'total sulfur dioxide'),\n",
       " (-0.0907534373608146, 'density'),\n",
       " (0.0402666874059643, 'pH'),\n",
       " (0.09542033889115942, 'sulphates'),\n",
       " (0.30343999238743563, 'alcohol')]"
      ]
     },
     "execution_count": 52,
     "metadata": {
     },
     "output_type": "execute_result"
    }
   ],
   "source": [
    "list(zip(ridgereg.coef_, data.columns))"
   ]
  },
  {
   "cell_type": "code",
   "execution_count": 53,
   "metadata": {
    "collapsed": false
   },
   "outputs": [
    {
     "name": "stdout",
     "output_type": "stream",
     "text": [
      "0.7607058336527054\n"
     ]
    }
   ],
   "source": [
    "# try alpha=1\n",
    "ridgereg = Ridge(alpha=1, normalize=True).fit(X_train, y_train)\n",
    "y_pred = ridgereg.predict(X_test)\n",
    "print(np.sqrt(metrics.mean_squared_error(y_test, y_pred)))"
   ]
  },
  {
   "cell_type": "markdown",
   "metadata": {
    "collapsed": false
   },
   "source": [
    "- El RMSE es mayor que el usando una regresión lineal"
   ]
  },
  {
   "cell_type": "code",
   "execution_count": 54,
   "metadata": {
    "collapsed": false
   },
   "outputs": [
    {
     "data": {
      "text/plain": [
       "[(0.001812758444931827, 'fixed acidity'),\n",
       " (-0.09719105501471262, 'volatile acidity'),\n",
       " (0.021642682840787686, 'citric acid'),\n",
       " (0.027157607507033936, 'residual sugar'),\n",
       " (-0.044099129702806175, 'chlorides'),\n",
       " (0.02306459978193872, 'free sulfur dioxide'),\n",
       " (-0.03276076849473246, 'total sulfur dioxide'),\n",
       " (-0.06700209874471388, 'density'),\n",
       " (0.013208758863247141, 'pH'),\n",
       " (0.04445544520651518, 'sulphates'),\n",
       " (0.1621037278968578, 'alcohol')]"
      ]
     },
     "execution_count": 54,
     "metadata": {
     },
     "output_type": "execute_result"
    }
   ],
   "source": [
    "list(zip(ridgereg.coef_, data.columns))"
   ]
  },
  {
   "cell_type": "markdown",
   "metadata": {
    "collapsed": false
   },
   "source": [
    "-  Con la regresión ridge, el RMSE aumenta en relación con el RMSE de la regresión lineal, sin embargo, reduce los coeficientes respectivamente."
   ]
  },
  {
   "cell_type": "markdown",
   "metadata": {
    "collapsed": false
   },
   "source": [
    "# Exercise 6.8\n",
    "\n",
    "* Estimate a lasso regression with alpha equals 0.01, 0.1 and 1.\n",
    "* Compare the coefficients with the linear regression\n",
    "* Evaluate the RMSE"
   ]
  },
  {
   "cell_type": "code",
   "execution_count": 55,
   "metadata": {
    "collapsed": false
   },
   "outputs": [
    {
     "data": {
      "text/plain": [
       "[(-0.0, 'fixed acidity'),\n",
       " (-0.0, 'volatile acidity'),\n",
       " (0.0, 'citric acid'),\n",
       " (-0.0, 'residual sugar'),\n",
       " (-0.0, 'chlorides'),\n",
       " (0.0, 'free sulfur dioxide'),\n",
       " (-0.0, 'total sulfur dioxide'),\n",
       " (-0.0, 'density'),\n",
       " (0.0, 'pH'),\n",
       " (0.0, 'sulphates'),\n",
       " (0.0, 'alcohol')]"
      ]
     },
     "execution_count": 55,
     "metadata": {
     },
     "output_type": "execute_result"
    }
   ],
   "source": [
    "lassoreg = Lasso(alpha=0.01, normalize=True).fit(X_train, y_train)\n",
    "y_pred = lassoreg.predict(X_test)\n",
    "list(zip(lassoreg.coef_, data.columns))"
   ]
  },
  {
   "cell_type": "code",
   "execution_count": 56,
   "metadata": {
    "collapsed": false
   },
   "outputs": [
    {
     "data": {
      "text/plain": [
       "[(-0.0, 'fixed acidity'),\n",
       " (-0.0, 'volatile acidity'),\n",
       " (0.0, 'citric acid'),\n",
       " (-0.0, 'residual sugar'),\n",
       " (-0.0, 'chlorides'),\n",
       " (0.0, 'free sulfur dioxide'),\n",
       " (-0.0, 'total sulfur dioxide'),\n",
       " (-0.0, 'density'),\n",
       " (0.0, 'pH'),\n",
       " (0.0, 'sulphates'),\n",
       " (0.0, 'alcohol')]"
      ]
     },
     "execution_count": 56,
     "metadata": {
     },
     "output_type": "execute_result"
    }
   ],
   "source": [
    "lassoreg = Lasso(alpha=0.1, normalize=True).fit(X_train, y_train)\n",
    "y_pred = lassoreg.predict(X_test)\n",
    "list(zip(lassoreg.coef_, data.columns))"
   ]
  },
  {
   "cell_type": "code",
   "execution_count": 57,
   "metadata": {
    "collapsed": false
   },
   "outputs": [
    {
     "data": {
      "text/plain": [
       "[(-0.0, 'fixed acidity'),\n",
       " (-0.0, 'volatile acidity'),\n",
       " (0.0, 'citric acid'),\n",
       " (-0.0, 'residual sugar'),\n",
       " (-0.0, 'chlorides'),\n",
       " (0.0, 'free sulfur dioxide'),\n",
       " (-0.0, 'total sulfur dioxide'),\n",
       " (-0.0, 'density'),\n",
       " (0.0, 'pH'),\n",
       " (0.0, 'sulphates'),\n",
       " (0.0, 'alcohol')]"
      ]
     },
     "execution_count": 57,
     "metadata": {
     },
     "output_type": "execute_result"
    }
   ],
   "source": [
    "lassoreg = Lasso(alpha=1, normalize=True).fit(X_train, y_train)\n",
    "y_pred = lassoreg.predict(X_test)\n",
    "list(zip(lassoreg.coef_, data.columns))"
   ]
  },
  {
   "cell_type": "markdown",
   "metadata": {
    "collapsed": false
   },
   "source": [
    "- Al realizar la regresión con el metodo Lasso con alpha=[0.01,0.1,1] los coeficientes no varian y ninguno presenta mayor afectación sobre la calidad del vino. Así como tampoco los RMSE´s cambian variando el alpha, sin embargo son más altos que el de la regresión lineal."
   ]
  },
  {
   "cell_type": "code",
   "execution_count": 58,
   "metadata": {
    "collapsed": false
   },
   "outputs": [
   ],
   "source": [
    "alpha=[0.01,0.1,1]"
   ]
  },
  {
   "cell_type": "code",
   "execution_count": 59,
   "metadata": {
    "collapsed": false
   },
   "outputs": [
    {
     "name": "stdout",
     "output_type": "stream",
     "text": [
      "Parametro 'alpha'= 0.01\n",
      "RMSE 0.8709345888926285\n",
      "Parametro 'alpha'= 0.1\n",
      "RMSE 0.8709345888926285\n",
      "Parametro 'alpha'= 1\n",
      "RMSE 0.8709345888926285\n"
     ]
    }
   ],
   "source": [
    "for a in alpha:\n",
    "        lassoreg = Lasso(alpha=a, normalize=True).fit(X_train, y_train)\n",
    "        y_pred = lassoreg.predict(X_test)\n",
    "        print(\"Parametro 'alpha'=\", a)\n",
    "        print(\"RMSE\",np.sqrt(metrics.mean_squared_error(y_test, y_pred)))"
   ]
  },
  {
   "cell_type": "markdown",
   "metadata": {
    "collapsed": false
   },
   "source": [
    "# Exercise 6.9\n",
    "\n",
    "* Create a binary target\n",
    "\n",
    "* Train a logistic regression to predict wine quality (binary)\n",
    "\n",
    "* Analyze the coefficients\n",
    "\n",
    "* Evaluate the f1score"
   ]
  },
  {
   "cell_type": "code",
   "execution_count": 60,
   "metadata": {
    "collapsed": false
   },
   "outputs": [
   ],
   "source": [
    "X = data[['fixed acidity','volatile acidity','citric acid','residual sugar','chlorides','free sulfur dioxide','total sulfur dioxide','density','pH','sulphates','alcohol']]\n",
    "y = data['quality']\n",
    "\n",
    "X_train, X_test, y_train, y_test = train_test_split(X, y, random_state=1)\n",
    "\n",
    "X_train = X_train.astype(float)\n",
    "X_test = X_test.astype(float)\n",
    "\n",
    "scaler.fit(X_train)\n",
    "X_train = scaler.transform(X_train)\n",
    "X_test = scaler.transform(X_test)\n"
   ]
  },
  {
   "cell_type": "code",
   "execution_count": 61,
   "metadata": {
    "collapsed": false
   },
   "outputs": [
    {
     "name": "stdout",
     "output_type": "stream",
     "text": [
      "Accuracy: 0.8178461538461539\n",
      "[[1237   53]\n",
      " [ 243   92]]\n"
     ]
    }
   ],
   "source": [
    "logreg = LogisticRegression(solver='liblinear',C=1e9).fit(X_train, y_train)\n",
    "y_pred = logreg.predict(X_test)\n",
    "print(\"Accuracy:\", accuracy_score(y_test, y_pred))\n",
    "print(confusion_matrix(y_test,y_pred))"
   ]
  },
  {
   "cell_type": "code",
   "execution_count": 62,
   "metadata": {
    "collapsed": false
   },
   "outputs": [
    {
     "name": "stdout",
     "output_type": "stream",
     "text": [
      "[[ 0.59312348 -0.53570656 -0.07113704  0.83529613 -0.25721834  0.19944132\n",
      "  -0.34490719 -0.89698585  0.39935637  0.3527559   0.65706125]]\n"
     ]
    }
   ],
   "source": [
    "print(logreg.coef_)"
   ]
  },
  {
   "cell_type": "markdown",
   "metadata": {
    "collapsed": false
   },
   "source": [
    "- Analizando los coeficientes se identifica que el nivel alcohol es la variable que tiene mayor afectación. "
   ]
  },
  {
   "cell_type": "code",
   "execution_count": 63,
   "metadata": {
    "collapsed": false
   },
   "outputs": [
    {
     "name": "stdout",
     "output_type": "stream",
     "text": [
      "              precision    recall  f1-score   support\n",
      "\n",
      "       False       0.84      0.96      0.89      1290\n",
      "        True       0.63      0.27      0.38       335\n",
      "\n",
      "   micro avg       0.82      0.82      0.82      1625\n",
      "   macro avg       0.74      0.62      0.64      1625\n",
      "weighted avg       0.79      0.82      0.79      1625\n",
      "\n"
     ]
    }
   ],
   "source": [
    "print(classification_report(y_test,y_pred))"
   ]
  },
  {
   "cell_type": "markdown",
   "metadata": {
    "collapsed": false
   },
   "source": [
    "El f1score varia indicando un rendimiento del modelo."
   ]
  },
  {
   "cell_type": "code",
   "execution_count": 64,
   "metadata": {
    "collapsed": false
   },
   "outputs": [
    {
     "data": {
      "text/html": [
       "<div>\n",
       "<style scoped>\n",
       "    .dataframe tbody tr th:only-of-type {\n",
       "        vertical-align: middle;\n",
       "    }\n",
       "\n",
       "    .dataframe tbody tr th {\n",
       "        vertical-align: top;\n",
       "    }\n",
       "\n",
       "    .dataframe thead th {\n",
       "        text-align: right;\n",
       "    }\n",
       "</style>\n",
       "<table border=\"1\" class=\"dataframe\">\n",
       "  <thead>\n",
       "    <tr style=\"text-align: right;\">\n",
       "      <th></th>\n",
       "      <th>fixed acidity</th>\n",
       "      <th>volatile acidity</th>\n",
       "      <th>citric acid</th>\n",
       "      <th>residual sugar</th>\n",
       "      <th>chlorides</th>\n",
       "      <th>free sulfur dioxide</th>\n",
       "      <th>total sulfur dioxide</th>\n",
       "      <th>density</th>\n",
       "      <th>pH</th>\n",
       "      <th>sulphates</th>\n",
       "      <th>alcohol</th>\n",
       "      <th>quality</th>\n",
       "      <th>type</th>\n",
       "      <th>quality2</th>\n",
       "    </tr>\n",
       "  </thead>\n",
       "  <tbody>\n",
       "    <tr>\n",
       "      <th>0</th>\n",
       "      <td>7.0</td>\n",
       "      <td>0.27</td>\n",
       "      <td>0.36</td>\n",
       "      <td>20.7</td>\n",
       "      <td>0.045</td>\n",
       "      <td>45.0</td>\n",
       "      <td>170.0</td>\n",
       "      <td>1.0010</td>\n",
       "      <td>3.00</td>\n",
       "      <td>0.45</td>\n",
       "      <td>8.8</td>\n",
       "      <td>False</td>\n",
       "      <td>white</td>\n",
       "      <td>6</td>\n",
       "    </tr>\n",
       "    <tr>\n",
       "      <th>1</th>\n",
       "      <td>6.3</td>\n",
       "      <td>0.30</td>\n",
       "      <td>0.34</td>\n",
       "      <td>1.6</td>\n",
       "      <td>0.049</td>\n",
       "      <td>14.0</td>\n",
       "      <td>132.0</td>\n",
       "      <td>0.9940</td>\n",
       "      <td>3.30</td>\n",
       "      <td>0.49</td>\n",
       "      <td>9.5</td>\n",
       "      <td>False</td>\n",
       "      <td>white</td>\n",
       "      <td>6</td>\n",
       "    </tr>\n",
       "    <tr>\n",
       "      <th>2</th>\n",
       "      <td>8.1</td>\n",
       "      <td>0.28</td>\n",
       "      <td>0.40</td>\n",
       "      <td>6.9</td>\n",
       "      <td>0.050</td>\n",
       "      <td>30.0</td>\n",
       "      <td>97.0</td>\n",
       "      <td>0.9951</td>\n",
       "      <td>3.26</td>\n",
       "      <td>0.44</td>\n",
       "      <td>10.1</td>\n",
       "      <td>False</td>\n",
       "      <td>white</td>\n",
       "      <td>6</td>\n",
       "    </tr>\n",
       "    <tr>\n",
       "      <th>3</th>\n",
       "      <td>7.2</td>\n",
       "      <td>0.23</td>\n",
       "      <td>0.32</td>\n",
       "      <td>8.5</td>\n",
       "      <td>0.058</td>\n",
       "      <td>47.0</td>\n",
       "      <td>186.0</td>\n",
       "      <td>0.9956</td>\n",
       "      <td>3.19</td>\n",
       "      <td>0.40</td>\n",
       "      <td>9.9</td>\n",
       "      <td>False</td>\n",
       "      <td>white</td>\n",
       "      <td>6</td>\n",
       "    </tr>\n",
       "    <tr>\n",
       "      <th>4</th>\n",
       "      <td>7.2</td>\n",
       "      <td>0.23</td>\n",
       "      <td>0.32</td>\n",
       "      <td>8.5</td>\n",
       "      <td>0.058</td>\n",
       "      <td>47.0</td>\n",
       "      <td>186.0</td>\n",
       "      <td>0.9956</td>\n",
       "      <td>3.19</td>\n",
       "      <td>0.40</td>\n",
       "      <td>9.9</td>\n",
       "      <td>False</td>\n",
       "      <td>white</td>\n",
       "      <td>6</td>\n",
       "    </tr>\n",
       "  </tbody>\n",
       "</table>\n",
       "</div>"
      ]
     },
     "execution_count": 64,
     "metadata": {
     },
     "output_type": "execute_result"
    }
   ],
   "source": [
    "data.head()"
   ]
  },
  {
   "cell_type": "markdown",
   "metadata": {
    "collapsed": false
   },
   "source": [
    "# Exercise 6.10\n",
    "\n",
    "* Estimate a regularized logistic regression using:\n",
    "* C = 0.01, 0.1 & 1.0\n",
    "* penalty = ['l1, 'l2']\n",
    "* Compare the coefficients and the f1score"
   ]
  },
  {
   "cell_type": "code",
   "execution_count": 65,
   "metadata": {
    "collapsed": false
   },
   "outputs": [
   ],
   "source": [
    "C=[0.01, 0.1, 1]\n",
    "penalty = ['l1', 'l2']"
   ]
  },
  {
   "cell_type": "code",
   "execution_count": 66,
   "metadata": {
    "collapsed": false
   },
   "outputs": [
    {
     "name": "stdout",
     "output_type": "stream",
     "text": [
      "Accuracy: 0.7959183673469388\n",
      "Parametro 'C'= 0.01 y Penalty l1\n",
      "              precision    recall  f1-score   support\n",
      "\n",
      "       False       0.82      0.95      0.88       759\n",
      "        True       0.60      0.28      0.38       221\n",
      "\n",
      "   micro avg       0.80      0.80      0.80       980\n",
      "   macro avg       0.71      0.61      0.63       980\n",
      "weighted avg       0.77      0.80      0.77       980\n",
      "\n",
      "Coeficientes: [[ 0.         -0.26203498  0.          0.          0.          0.\n",
      "   0.          0.          0.          0.01822901  0.77118696]]\n",
      "Accuracy: 0.7959183673469388\n",
      "Parametro 'C'= 0.01 y Penalty l2\n",
      "              precision    recall  f1-score   support\n",
      "\n",
      "       False       0.82      0.95      0.88       759\n",
      "        True       0.60      0.28      0.38       221\n",
      "\n",
      "   micro avg       0.80      0.80      0.80       980\n",
      "   macro avg       0.71      0.61      0.63       980\n",
      "weighted avg       0.77      0.80      0.77       980\n",
      "\n",
      "Coeficientes: [[ 0.16983683 -0.33357089  0.02004888  0.2713157  -0.2104919   0.11264497\n",
      "  -0.17296422 -0.27062207  0.13531634  0.20690045  0.65108468]]\n",
      "Accuracy: 0.7959183673469388\n",
      "Parametro 'C'= 0.1 y Penalty l1\n",
      "              precision    recall  f1-score   support\n",
      "\n",
      "       False       0.82      0.95      0.88       759\n",
      "        True       0.60      0.28      0.38       221\n",
      "\n",
      "   micro avg       0.80      0.80      0.80       980\n",
      "   macro avg       0.71      0.61      0.63       980\n",
      "weighted avg       0.77      0.80      0.77       980\n",
      "\n",
      "Coeficientes: [[ 0.29468269 -0.51679998 -0.01055909  0.45707072 -0.27266028  0.14192965\n",
      "  -0.23169839 -0.36650871  0.2216784   0.27221756  0.8370803 ]]\n"
     ]
    },
    {
     "name": "stdout",
     "output_type": "stream",
     "text": [
      "Accuracy: 0.7959183673469388\n",
      "Parametro 'C'= 0.1 y Penalty l2\n",
      "              precision    recall  f1-score   support\n",
      "\n",
      "       False       0.82      0.95      0.88       759\n",
      "        True       0.60      0.28      0.38       221\n",
      "\n",
      "   micro avg       0.80      0.80      0.80       980\n",
      "   macro avg       0.71      0.61      0.63       980\n",
      "weighted avg       0.77      0.80      0.77       980\n",
      "\n",
      "Coeficientes: [[ 0.4375043  -0.51431614 -0.04996592  0.62614408 -0.28064981  0.18325519\n",
      "  -0.30025829 -0.60993186  0.30447318  0.30950057  0.73280542]]\n",
      "Accuracy: 0.7959183673469388\n",
      "Parametro 'C'= 1 y Penalty l1\n",
      "              precision    recall  f1-score   support\n",
      "\n",
      "       False       0.82      0.95      0.88       759\n",
      "        True       0.60      0.28      0.38       221\n",
      "\n",
      "   micro avg       0.80      0.80      0.80       980\n",
      "   macro avg       0.71      0.61      0.63       980\n",
      "weighted avg       0.77      0.80      0.77       980\n",
      "\n",
      "Coeficientes: [[ 0.56080706 -0.53375643 -0.06464439  0.79447169 -0.25919764  0.19338667\n",
      "  -0.33294804 -0.83902792  0.38021395  0.34409657  0.67660841]]\n",
      "Accuracy: 0.7959183673469388\n",
      "Parametro 'C'= 1 y Penalty l2\n",
      "              precision    recall  f1-score   support\n",
      "\n",
      "       False       0.82      0.95      0.88       759\n",
      "        True       0.60      0.28      0.38       221\n",
      "\n",
      "   micro avg       0.80      0.80      0.80       980\n",
      "   macro avg       0.71      0.61      0.63       980\n",
      "weighted avg       0.77      0.80      0.77       980\n",
      "\n",
      "Coeficientes: [[ 0.56984526 -0.53471561 -0.06863037  0.80379798 -0.26259165  0.19763252\n",
      "  -0.33905249 -0.85146694  0.38523459  0.34658632  0.67127941]]\n"
     ]
    }
   ],
   "source": [
    "for c in C:\n",
    "    for p in penalty :\n",
    "        logreg = LogisticRegression(C=c, penalty=p,solver='liblinear').fit(X_train, y_train)\n",
    "        print(\"Accuracy:\", accuracy_score(y_test_, y_pred_))\n",
    "        print(\"Parametro 'C'=\", c,\"y Penalty\", p)\n",
    "        print(classification_report(y_test_, y_pred_))\n",
    "        print(\"Coeficientes:\",logreg.coef_)"
   ]
  },
  {
   "cell_type": "markdown",
   "metadata": {
    "collapsed": false
   },
   "source": [
    "- El f1score no cambia variando los parametros de 'C' y penalty indicando un rendimiento similar del modelo, sin embargo, los coeficientes si varian dependiendo de los parametros ingresados, siendo el nivel alcohol la variable que tiene mayor afectación."
   ]
  },
  {
   "cell_type": "code",
   "execution_count": 0,
   "metadata": {
    "collapsed": false
   },
   "outputs": [
   ],
   "source": [
   ]
  }
 ],
 "metadata": {
  "kernelspec": {
   "display_name": "Python 3 (Ubuntu Linux)",
   "language": "python",
   "name": "python3"
  },
  "language_info": {
   "codemirror_mode": {
    "name": "ipython",
    "version": 3
   },
   "file_extension": ".py",
   "mimetype": "text/x-python",
   "name": "python",
   "nbconvert_exporter": "python",
   "pygments_lexer": "ipython3",
   "version": "3.6.7"
  }
 },
 "nbformat": 4,
 "nbformat_minor": 0
}