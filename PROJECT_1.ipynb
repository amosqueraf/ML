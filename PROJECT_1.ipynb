{
 "cells": [
  {
   "cell_type": "markdown",
   "metadata": {},
   "source": [
    "## Machine Learning\n",
    "#### MIIA 4200 (2019-I) - Proyecto 1\n",
    "## Predicción de precios de vehículos usados\n",
    "\n",
    "<p>Profesor:  Alejandro Correa Bahnsen</p>\n",
    "<p>Estudiantes: Cristina Sierra Alcala - Oscar Andrés Mosquera - Eduardo Daniel Chain</p>"
   ]
  },
  {
   "cell_type": "markdown",
   "metadata": {},
   "source": [
    "## Exploración preliminar de datos\n",
    "#### Carga de los datos\n",
    "\n",
    "- Se realiza la carga de los datos y la respectivas librerias"
   ]
  },
  {
   "cell_type": "code",
   "execution_count": 34,
   "metadata": {},
   "outputs": [],
   "source": [
    "%matplotlib inline\n",
    "import pandas as pd\n",
    "import numpy as np\n",
    "import matplotlib.pyplot as plt\n",
    "import seaborn as sns\n",
    "import category_encoders as ce\n",
    "\n",
    "from sklearn.decomposition import PCA\n",
    "from sklearn.preprocessing import StandardScaler\n",
    "from sklearn.linear_model import LogisticRegression, LinearRegression, Ridge, Lasso\n",
    "from sklearn.tree import DecisionTreeRegressor\n",
    "from sklearn import metrics, neighbors\n",
    "from sklearn.metrics import mean_squared_error\n",
    "from sklearn.externals import joblib\n",
    "from sklearn.model_selection import train_test_split, cross_val_score, GridSearchCV, RandomizedSearchCV, cross_validate\n",
    "from sklearn.ensemble import RandomForestRegressor\n",
    "\n",
    "from matplotlib.legend_handler import HandlerLine2D\n",
    "\n",
    "from pprint import pprint\n",
    "from flask import Flask\n",
    "from flask_restplus import Api, Resource, fields\n",
    "\n",
    "import dash\n",
    "import dash_core_components as dcc\n",
    "import dash_html_components as html\n",
    "\n",
    "import pickle\n",
    "\n",
    "import warnings\n",
    "warnings.filterwarnings('ignore')\n",
    "\n",
    "# plot styles\n",
    "plt.style.use('seaborn-whitegrid')\n",
    "sns.set_style('whitegrid')"
   ]
  },
  {
   "cell_type": "markdown",
   "metadata": {},
   "source": [
    "### Descrpción\n",
    "\n",
    "- 1.2 millones de listados extraídos de TrueCar.com - Conjunto de datos de precios, kilometraje, marca y modelo de Kaggle: [datos](https://www.kaggle.com/jpayne/852k-used-car-listings)\n",
    "- Cada observación representa el precio de un automóvil usado."
   ]
  },
  {
   "cell_type": "code",
   "execution_count": 2,
   "metadata": {},
   "outputs": [],
   "source": [
    "data = pd.read_csv('dataTrain_carListings.csv')"
   ]
  },
  {
   "cell_type": "markdown",
   "metadata": {},
   "source": [
    "- Explorar los campos y columnas de los dataframe"
   ]
  },
  {
   "cell_type": "code",
   "execution_count": 3,
   "metadata": {},
   "outputs": [
    {
     "data": {
      "text/html": [
       "<div>\n",
       "<style scoped>\n",
       "    .dataframe tbody tr th:only-of-type {\n",
       "        vertical-align: middle;\n",
       "    }\n",
       "\n",
       "    .dataframe tbody tr th {\n",
       "        vertical-align: top;\n",
       "    }\n",
       "\n",
       "    .dataframe thead th {\n",
       "        text-align: right;\n",
       "    }\n",
       "</style>\n",
       "<table border=\"1\" class=\"dataframe\">\n",
       "  <thead>\n",
       "    <tr style=\"text-align: right;\">\n",
       "      <th></th>\n",
       "      <th>Price</th>\n",
       "      <th>Year</th>\n",
       "      <th>Mileage</th>\n",
       "      <th>State</th>\n",
       "      <th>Make</th>\n",
       "      <th>Model</th>\n",
       "    </tr>\n",
       "  </thead>\n",
       "  <tbody>\n",
       "    <tr>\n",
       "      <th>0</th>\n",
       "      <td>21490</td>\n",
       "      <td>2014</td>\n",
       "      <td>31909</td>\n",
       "      <td>MD</td>\n",
       "      <td>Nissan</td>\n",
       "      <td>MuranoAWD</td>\n",
       "    </tr>\n",
       "    <tr>\n",
       "      <th>1</th>\n",
       "      <td>21250</td>\n",
       "      <td>2016</td>\n",
       "      <td>25741</td>\n",
       "      <td>KY</td>\n",
       "      <td>Chevrolet</td>\n",
       "      <td>CamaroCoupe</td>\n",
       "    </tr>\n",
       "    <tr>\n",
       "      <th>2</th>\n",
       "      <td>20925</td>\n",
       "      <td>2016</td>\n",
       "      <td>24633</td>\n",
       "      <td>SC</td>\n",
       "      <td>Hyundai</td>\n",
       "      <td>Santa</td>\n",
       "    </tr>\n",
       "    <tr>\n",
       "      <th>3</th>\n",
       "      <td>14500</td>\n",
       "      <td>2012</td>\n",
       "      <td>84026</td>\n",
       "      <td>OK</td>\n",
       "      <td>Jeep</td>\n",
       "      <td>Grand</td>\n",
       "    </tr>\n",
       "    <tr>\n",
       "      <th>4</th>\n",
       "      <td>32488</td>\n",
       "      <td>2013</td>\n",
       "      <td>22816</td>\n",
       "      <td>TN</td>\n",
       "      <td>Jeep</td>\n",
       "      <td>Wrangler</td>\n",
       "    </tr>\n",
       "  </tbody>\n",
       "</table>\n",
       "</div>"
      ],
      "text/plain": [
       "   Price  Year  Mileage State       Make        Model\n",
       "0  21490  2014    31909    MD     Nissan    MuranoAWD\n",
       "1  21250  2016    25741    KY  Chevrolet  CamaroCoupe\n",
       "2  20925  2016    24633    SC    Hyundai        Santa\n",
       "3  14500  2012    84026    OK       Jeep        Grand\n",
       "4  32488  2013    22816    TN       Jeep     Wrangler"
      ]
     },
     "execution_count": 3,
     "metadata": {},
     "output_type": "execute_result"
    }
   ],
   "source": [
    "data.head()"
   ]
  },
  {
   "cell_type": "markdown",
   "metadata": {},
   "source": [
    "- Revisión de dimensiones del dataframe"
   ]
  },
  {
   "cell_type": "code",
   "execution_count": 4,
   "metadata": {},
   "outputs": [
    {
     "data": {
      "text/plain": [
       "(500000, 6)"
      ]
     },
     "execution_count": 4,
     "metadata": {},
     "output_type": "execute_result"
    }
   ],
   "source": [
    "data.shape"
   ]
  },
  {
   "cell_type": "markdown",
   "metadata": {},
   "source": [
    "- Identificar las características de los atributos númericos"
   ]
  },
  {
   "cell_type": "code",
   "execution_count": 5,
   "metadata": {},
   "outputs": [
    {
     "data": {
      "text/html": [
       "<div>\n",
       "<style scoped>\n",
       "    .dataframe tbody tr th:only-of-type {\n",
       "        vertical-align: middle;\n",
       "    }\n",
       "\n",
       "    .dataframe tbody tr th {\n",
       "        vertical-align: top;\n",
       "    }\n",
       "\n",
       "    .dataframe thead th {\n",
       "        text-align: right;\n",
       "    }\n",
       "</style>\n",
       "<table border=\"1\" class=\"dataframe\">\n",
       "  <thead>\n",
       "    <tr style=\"text-align: right;\">\n",
       "      <th></th>\n",
       "      <th>Price</th>\n",
       "      <th>Year</th>\n",
       "      <th>Mileage</th>\n",
       "    </tr>\n",
       "  </thead>\n",
       "  <tbody>\n",
       "    <tr>\n",
       "      <th>count</th>\n",
       "      <td>500000.000000</td>\n",
       "      <td>500000.000000</td>\n",
       "      <td>5.000000e+05</td>\n",
       "    </tr>\n",
       "    <tr>\n",
       "      <th>mean</th>\n",
       "      <td>21144.186304</td>\n",
       "      <td>2013.197174</td>\n",
       "      <td>5.507643e+04</td>\n",
       "    </tr>\n",
       "    <tr>\n",
       "      <th>std</th>\n",
       "      <td>10753.259704</td>\n",
       "      <td>3.290135</td>\n",
       "      <td>4.089704e+04</td>\n",
       "    </tr>\n",
       "    <tr>\n",
       "      <th>min</th>\n",
       "      <td>5001.000000</td>\n",
       "      <td>1997.000000</td>\n",
       "      <td>5.000000e+00</td>\n",
       "    </tr>\n",
       "    <tr>\n",
       "      <th>25%</th>\n",
       "      <td>13499.000000</td>\n",
       "      <td>2012.000000</td>\n",
       "      <td>2.585500e+04</td>\n",
       "    </tr>\n",
       "    <tr>\n",
       "      <th>50%</th>\n",
       "      <td>18450.000000</td>\n",
       "      <td>2014.000000</td>\n",
       "      <td>4.299000e+04</td>\n",
       "    </tr>\n",
       "    <tr>\n",
       "      <th>75%</th>\n",
       "      <td>26998.000000</td>\n",
       "      <td>2016.000000</td>\n",
       "      <td>7.740600e+04</td>\n",
       "    </tr>\n",
       "    <tr>\n",
       "      <th>max</th>\n",
       "      <td>79999.000000</td>\n",
       "      <td>2018.000000</td>\n",
       "      <td>2.457832e+06</td>\n",
       "    </tr>\n",
       "  </tbody>\n",
       "</table>\n",
       "</div>"
      ],
      "text/plain": [
       "               Price           Year       Mileage\n",
       "count  500000.000000  500000.000000  5.000000e+05\n",
       "mean    21144.186304    2013.197174  5.507643e+04\n",
       "std     10753.259704       3.290135  4.089704e+04\n",
       "min      5001.000000    1997.000000  5.000000e+00\n",
       "25%     13499.000000    2012.000000  2.585500e+04\n",
       "50%     18450.000000    2014.000000  4.299000e+04\n",
       "75%     26998.000000    2016.000000  7.740600e+04\n",
       "max     79999.000000    2018.000000  2.457832e+06"
      ]
     },
     "execution_count": 5,
     "metadata": {},
     "output_type": "execute_result"
    }
   ],
   "source": [
    "data.describe()"
   ]
  },
  {
   "cell_type": "markdown",
   "metadata": {},
   "source": [
    "Se observa que el precio de los carros de la base de datos oscilan entre 5000 y 80000 mil dólares. También se observa que el carro más antiguo es modelo 1997 mientras que el más reciente es del año 2018. Por último, se destaca que existe una elevada dispersión en el kilometraje de los automóviles."
   ]
  },
  {
   "cell_type": "markdown",
   "metadata": {},
   "source": [
    "- Identificar la cantidad de Missing Values para cada columna"
   ]
  },
  {
   "cell_type": "code",
   "execution_count": 6,
   "metadata": {},
   "outputs": [
    {
     "data": {
      "text/plain": [
       "Price      0\n",
       "Year       0\n",
       "Mileage    0\n",
       "State      0\n",
       "Make       0\n",
       "Model      0\n",
       "dtype: int64"
      ]
     },
     "execution_count": 6,
     "metadata": {},
     "output_type": "execute_result"
    }
   ],
   "source": [
    "missing_values = data.isnull().sum()\n",
    "missing_values"
   ]
  },
  {
   "cell_type": "markdown",
   "metadata": {},
   "source": [
    "- Verificar los valores de los atributos categóricos"
   ]
  },
  {
   "cell_type": "code",
   "execution_count": 7,
   "metadata": {},
   "outputs": [
    {
     "name": "stdout",
     "output_type": "stream",
     "text": [
      "['State']  :  [' MD' ' KY' ' SC' ' OK' ' TN' ' FL' ' NH' ' WI' ' NY' ' TX' ' NJ' ' MI'\n",
      " ' AL' ' CA' ' NC' ' GA' ' OR' ' OH' ' AR' ' VA' ' WA' ' IL' ' AZ' ' MA'\n",
      " ' CO' ' MN' ' KS' ' PA' ' MO' ' SD' ' IN' ' NE' ' UT' ' NM' ' HI' ' NV'\n",
      " ' DE' ' MS' ' ID' ' IA' ' ME' ' CT' ' MT' ' VT' ' WV' ' LA' ' ND' ' AK'\n",
      " ' RI' ' WY' ' DC']\n",
      "['Make']  :  ['Nissan' 'Chevrolet' 'Hyundai' 'Jeep' 'Ford' 'Kia' 'Mercedes-Benz'\n",
      " 'Dodge' 'GMC' 'Toyota' 'Honda' 'Volkswagen' 'Cadillac' 'Volvo' 'BMW'\n",
      " 'Subaru' 'Chrysler' 'Buick' 'Ram' 'Lexus' 'Porsche' 'Audi' 'Lincoln'\n",
      " 'MINI' 'INFINITI' 'Scion' 'Land' 'Acura' 'Mazda' 'Mercury' 'Mitsubishi'\n",
      " 'Pontiac' 'Jaguar' 'Bentley' 'Suzuki' 'FIAT' 'Tesla' 'Freightliner']\n",
      "['Model']  :  ['MuranoAWD' 'CamaroCoupe' 'Santa' 'Grand' 'Wrangler' 'F-1504WD'\n",
      " 'ExplorerXLT' 'Sonata4dr' 'SorentoSX' 'M-ClassML350' 'JourneyFWD' 'Super'\n",
      " 'Sierra' 'Silverado' 'CamryLE' 'OdysseyEX-L' 'Pathfinder4WD' 'AcadiaFWD'\n",
      " 'EscapeSE' 'Express' 'F-150XLT' 'EdgeSEL' 'Passat4dr' 'EdgeSport'\n",
      " 'FlexLimited' 'CTS' 'S60T5' 'CompassSport' '5' 'Impreza' 'RogueFWD'\n",
      " 'Civic' 'CruzeSedan' 'Accord' 'AccordLX' 'PriusTwo' 'SorentoEX'\n",
      " 'PilotEX-L' 'Town' 'Legacy' 'RegalTurbo' 'Yukon2WD' '25004WD' 'IS'\n",
      " 'Tacoma2WD' 'X3xDrive28i' 'Ranger2WD' 'Focus4dr' 'Escape4WD'\n",
      " 'SonataLimited' '200Limited' 'CR-VLX' 'CayenneAWD' 'MalibuLT'\n",
      " 'CherokeeLimited' 'TundraSR5' 'F-150Lariat' 'Impala4dr' 'Q7quattro'\n",
      " 'Tiguan2WD' 'CR-VEX' 'Suburban4WD' 'F-350XLT' 'Regal4dr' '350Z2dr'\n",
      " 'XC60T6' 'ElantraLimited' '300Touring' 'Camry4dr' 'Liberty4WD'\n",
      " 'MustangPremium' 'Legacy2.5i' 'RX' 'FusionSE' 'F-150STX' 'Armada4WD'\n",
      " 'Ram' 'Jetta' 'Yukon' 'Altima4dr' 'CivicLX' 'GS' 'Tacoma4WD' 'CorollaS'\n",
      " 'ExplorerLimited' 'DurangoAWD' 'Navigator4dr' 'CorollaLE' 'TT2dr'\n",
      " 'SedonaLX' 'CivicEX-L' 'EscapeFWD' 'Sentra4dr' 'LX' '3004dr'\n",
      " 'EnclaveLeather' 'Tahoe4dr' '300300S' 'Maxima4dr' 'Legacy3.6R'\n",
      " 'EdgeLimited' 'CamrySE' '3' 'AcadiaAWD' 'Malibu1LT' 'Sorento2WD'\n",
      " 'F-1502WD' 'E-ClassE' 'Cooper' 'Soul+' 'RAV4FWD' 'CamaroConvertible'\n",
      " 'AvalonLimited' 'OptimaLX' 'G37' 'Tundra' 'ExpeditionXLT' 'FocusSE'\n",
      " 'F-150FX4' 'EquinoxAWD' 'PatriotSport' 'EquinoxFWD' 'SequoiaPlatinum'\n",
      " 'Tahoe2WD' 'TaurusSEL' 'Explorer4WD' 'tC2dr' 'ChargerSXT'\n",
      " 'ExpeditionLimited' '15004WD' 'Elantra' 'Corvette2dr' 'CompassLatitude'\n",
      " 'Suburban2WD' 'SiennaSE' 'MalibuLS' 'PatriotLatitude' 'CamryXLE'\n",
      " 'TundraLimited' 'TerrainAWD' 'Elantra4dr' 'Durango2WD' 'Rover'\n",
      " 'MustangGT' 'FJ' 'Malibu' 'XC90AWD' '6' 'EnclavePremium' 'Challenger2dr'\n",
      " 'ES' 'TL4dr' '4Runner4WD' 'F-250XLT' 'Dakota2WD' 'Expedition4WD' 'ISIS'\n",
      " 'AccordEX-L' 'CTS4dr' '200LX' 'Mustang2dr' 'WRXPremium' 'CX-9Grand'\n",
      " 'ForteLX' 'Frontier4WD' 'CanyonCrew' 'Outback2.5i' 'Titan2WD' 'Transit'\n",
      " 'Forester2.5X' 'CX-7FWD' 'LibertySport' 'CorollaL' 'Prius5dr' 'Milan4dr'\n",
      " 'OdysseyEX' 'EscaladeAWD' 'CTS-V' 'PacificaTouring' 'A64dr' 'E-ClassE350'\n",
      " '35004WD' 'Sienna5dr' 'DTS4dr' 'A44dr' 'Q5quattro' 'RAV44WD' 'LS'\n",
      " 'CR-VSE' 'TacomaBase' 'Camaro2dr' 'LaCrosse4dr' 'SportageLX' 'SRXLuxury'\n",
      " 'Titan' 'C-Class4dr' 'Passat' 'C-ClassC' 'PriusThree' 'GXGX' 'SonicSedan'\n",
      " 'Yukon4WD' 'Mazda64dr' 'CR-V4WD' 'C-ClassC300' 'Camry' 'LXLX'\n",
      " '300Limited' 'TraverseFWD' 'FiestaSE' 'CamryL' 'SonicHatch' 'ImpalaLT'\n",
      " 'CorvetteCoupe' 'Escalade' 'Excursion137\"' 'Murano2WD' '1500Tradesman'\n",
      " 'RidgelineRTL' 'WranglerSahara' '4RunnerSR5' 'OptimaEX' 'Highlander4WD'\n",
      " 'TucsonAWD' 'CivicEX' 'FX35AWD' 'SorentoLX' 'PilotLX' 'Mazda35dr' 'LSLS'\n",
      " 'SonataSE' '15002WD' 'Eclipse3dr' 'JourneyAWD' 'Outlander' 'F-150XL'\n",
      " 'ImprezaSport' 'FlexSEL' 'Tahoe4WD' 'AccordLX-S' 'FusionS' 'CR-VEX-L'\n",
      " 'SiennaXLE' 'Corolla4dr' 'Prius' 'MDXAWD' 'Malibu4dr' 'Tundra2WD' 'X5AWD'\n",
      " 'Pilot4WD' 'X3AWD' 'WranglerSport' 'TLAutomatic' 'Impreza2.0i' 'Sprinter'\n",
      " 'Wrangler2dr' 'OptimaSX' 'MDX4WD' 'HighlanderFWD' '1500Laramie'\n",
      " 'SportageAWD' 'X5xDrive35i' 'SL-ClassSL500' 'TerrainFWD' 'EscapeS'\n",
      " 'SoulBase' 'RXRX' 'FusionHybrid' 'RegalPremium' 'Expedition'\n",
      " 'F-150Platinum' 'Forester4dr' 'Colorado2WD' 'TahoeLT' 'RDXAWD'\n",
      " 'Fusion4dr' 'SequoiaSR5' 'HighlanderLimited' 'TSXAutomatic' 'Frontier2WD'\n",
      " 'SiennaLimited' 'JourneySXT' 'PriusFour' 'TucsonLimited' '1' 'CruzeLT'\n",
      " 'Durango4dr' 'GX' 'OdysseyTouring' 'Navigator' 'SC' 'F-150SuperCrew'\n",
      " 'ExplorerBase' 'Xterra4WD' 'ColoradoCrew' 'RioLX' 'Optima4dr'\n",
      " 'Charger4dr' 'RAV4LE' 'Savana' 'TucsonFWD' 'MustangDeluxe' 'Escalade2WD'\n",
      " 'MustangBase' 'GSGS' 'Colorado4WD' 'Titan4WD' '300Base' 'Wrangler4WD'\n",
      " 'GTI4dr' 'Navigator2WD' 'QX564WD' 'Pilot2WD' 'TundraBase' 'TaurusLimited'\n",
      " '200S' 'Econoline' 'LaCrosseFWD' 'WranglerX' 'SportageEX' 'FocusTitanium'\n",
      " 'ESES' 'Mazda34dr' 'RDXFWD' 'Eos2dr' 'RidgelineSport' 'New' 'Compass4WD'\n",
      " 'ChallengerR/T' 'Lucerne4dr' 'AvalonXLE' 'YarisBase' 'Taurus4dr'\n",
      " 'PriusOne' 'MX5' 'EnclaveConvenience' 'F-250XL' 'Avalon4dr' 'CR-V2WD'\n",
      " 'Golf' 'Navigator4WD' 'TiguanS' 'Avalanche4WD' '9112dr' '4Runner4dr'\n",
      " 'Escalade4dr' '7' 'TacomaPreRunner' 'Versa4dr' '300300C' 'C702dr'\n",
      " 'AccordEX' 'TiguanSEL' 'Touareg4dr' 'ImpalaLS' 'MKXAWD' 'FocusSEL'\n",
      " 'MustangShelby' 'PilotEX' 'ForteEX' 'PilotTouring' 'DurangoSXT' 'RAV4XLE'\n",
      " '4RunnerLimited' 'CherokeeSport' 'S2000Manual' 'F-150FX2' 'TraverseAWD'\n",
      " 'RX-84dr' 'PathfinderS' 'xB5dr' 'OdysseyLX' '4RunnerRWD' 'A34dr'\n",
      " 'XC60AWD' 'MKZ4dr' 'WranglerRubicon' 'Monte' 'RangerSuperCab'\n",
      " 'SequoiaLimited' 'ChargerSE' 'Sequoia4dr' 'Forte' 'CC4dr' 'GTI2dr'\n",
      " 'EdgeSE' 'Yaris' 'C-ClassC350' 'Matrix5dr' 'G35' '4RunnerTrail' 'S804dr'\n",
      " 'G64dr' '911' 'Highlander' 'Boxster2dr' 'Element4WD' 'CTCT' 'RAV4Sport'\n",
      " 'EscapeXLT' 'ForteSX' 'Focus5dr' 'F-250Lariat' 'ExplorerFWD'\n",
      " 'HighlanderBase' 'CX-9FWD' 'Dakota4WD' 'FocusS' 'Yukon4dr' 'Outback3.6R'\n",
      " 'Quest4dr' 'MuranoS' 'X1xDrive28i' 'Ranger4WD' 'RAV4Base' 'RAV4'\n",
      " 'CX-9AWD' 'Highlander4dr' 'CivicSi' 'XJ4dr' 'F-250King' 'CT'\n",
      " 'Sportage2WD' 'WRXSTI' 'AccordSE' 'FlexSE' 'A8' 'S44dr' 'Continental'\n",
      " 'AvalonTouring' 'TiguanSE' 'F-350Lariat' 'Escape4dr' 'QX562WD'\n",
      " 'Outlander4WD' 'Caliber4dr' 'Armada2WD' 'Element2WD' 'CamryBase'\n",
      " '4Runner2WD' 'Tundra4WD' 'RAV4Limited' 'Suburban4dr' 'Frontier' 'Genesis'\n",
      " 'F-350XL' 'SedonaEX' 'Accent4dr' 'FusionSEL' 'Vibe4dr' 'PilotSE' 'MKXFWD'\n",
      " 'XC704dr' 'WRXBase' 'PacificaLimited' 'SiennaLE' 'CR-ZEX' 'LaCrosseAWD'\n",
      " 'PatriotLimited' 'ColoradoExtended' 'Explorer' 'SportageSX' 'FitSport'\n",
      " '500Pop' 'RAV44dr' 'Galant4dr' 'F-150Limited' 'PT' 'Sequoia4WD'\n",
      " 'Expedition2WD' 'Pathfinder2WD' 'E-ClassE320' 'Land' 'GLI4dr'\n",
      " 'PathfinderSE' 'Xterra4dr' 'CX-9Touring' 'RegalGS' 'CorvetteConvertible'\n",
      " 'F-150King' 'Sedona4dr' 'EscapeLImited' 'TaurusSE' 'Avalanche2WD'\n",
      " 'Versa5dr' 'YarisLE' 'Cayman2dr' 'Cobalt4dr' 'Canyon4WD' 'XF4dr'\n",
      " 'PriusBase' 'Explorer4dr' 'VeracruzFWD' 'xD5dr' 'Lancer4dr' 'XC60FWD'\n",
      " 'TaurusSHO' 'CompassLimited' '200Touring' 'STS4dr' 'TahoeLS'\n",
      " 'CanyonExtended' 'Azera4dr' 'Cobalt2dr' 'PriusFive' 'Model' 'WRXLimited'\n",
      " 'FocusST' 'Canyon2WD' 'HighlanderSE' 'Patriot4WD' 'Outlander2WD'\n",
      " 'VeracruzAWD' 'F-350King' 'SLK-ClassSLK350' 'EscapeLimited' '25002WD'\n",
      " 'Xterra2WD' 'ExplorerEddie' 'XC90FWD' 'Yaris4dr' 'LibertyLimited' 'XK2dr'\n",
      " 'XC90T6' 'FiestaS']\n"
     ]
    }
   ],
   "source": [
    "cat_val = [\"State\", \"Make\", \"Model\"]\n",
    "\n",
    "for col in cat_val:\n",
    "    print ([col],\" : \",data[col].unique())"
   ]
  },
  {
   "cell_type": "markdown",
   "metadata": {},
   "source": [
    "## Visualización\n",
    "### Matriz de dispersión e Histograma de \"precios\""
   ]
  },
  {
   "cell_type": "code",
   "execution_count": 8,
   "metadata": {},
   "outputs": [
    {
     "data": {
      "text/plain": [
       "array([[<matplotlib.axes._subplots.AxesSubplot object at 0x00000230B1DA62B0>,\n",
       "        <matplotlib.axes._subplots.AxesSubplot object at 0x00000230B1E05470>,\n",
       "        <matplotlib.axes._subplots.AxesSubplot object at 0x00000230B1E2BAC8>],\n",
       "       [<matplotlib.axes._subplots.AxesSubplot object at 0x00000230B1E5B128>,\n",
       "        <matplotlib.axes._subplots.AxesSubplot object at 0x00000230B1BE3B00>,\n",
       "        <matplotlib.axes._subplots.AxesSubplot object at 0x00000230B1EA9940>],\n",
       "       [<matplotlib.axes._subplots.AxesSubplot object at 0x00000230B1ED72E8>,\n",
       "        <matplotlib.axes._subplots.AxesSubplot object at 0x00000230B1EFBC88>,\n",
       "        <matplotlib.axes._subplots.AxesSubplot object at 0x00000230B1EFBCC0>]],\n",
       "      dtype=object)"
      ]
     },
     "execution_count": 8,
     "metadata": {},
     "output_type": "execute_result"
    },
    {
     "data": {
      "image/png": "[encoded data removed]",
      "text/plain": [
       "<Figure size 864x576 with 9 Axes>"
      ]
     },
     "metadata": {
      "needs_background": "light"
     },
     "output_type": "display_data"
    }
   ],
   "source": [
    "num_attributes = [\"Price\", \"Year\", \"Mileage\"]\n",
    "pd.plotting.scatter_matrix(data[num_attributes], figsize = (12,8), alpha = 0.1)"
   ]
  },
  {
   "cell_type": "markdown",
   "metadata": {},
   "source": [
    "Se observa que existe una relación entre año y precio, los automóviles más recientes tienen ejemplares que alcanzan precios más elevados que los modelos antiguos, cabe mencionar que la mayor parte de automóviles son del 2012 en adelante. Adicionalmente, existe una relación entre millas y precio, en la que se resalta que aquellos automóviles con mayor kilometraje tienen precios más bajos."
   ]
  },
  {
   "cell_type": "markdown",
   "metadata": {},
   "source": [
    "data[\"Price\"].hist(bins = 50, log = True)"
   ]
  },
  {
   "cell_type": "markdown",
   "metadata": {},
   "source": [
    "## Limpieza de datos"
   ]
  },
  {
   "cell_type": "markdown",
   "metadata": {},
   "source": [
    "- Convertir el año a int"
   ]
  },
  {
   "cell_type": "code",
   "execution_count": 9,
   "metadata": {},
   "outputs": [],
   "source": [
    "data.Year = data.Year.astype('int')"
   ]
  },
  {
   "cell_type": "markdown",
   "metadata": {},
   "source": [
    "- A continuación se analiza la variable millas, puesto que presenta valores muy bajos  y muy alejados, consecuente con la alta dispersión ya observada."
   ]
  },
  {
   "cell_type": "code",
   "execution_count": 10,
   "metadata": {},
   "outputs": [
    {
     "data": {
      "text/html": [
       "<div>\n",
       "<style scoped>\n",
       "    .dataframe tbody tr th:only-of-type {\n",
       "        vertical-align: middle;\n",
       "    }\n",
       "\n",
       "    .dataframe tbody tr th {\n",
       "        vertical-align: top;\n",
       "    }\n",
       "\n",
       "    .dataframe thead th {\n",
       "        text-align: right;\n",
       "    }\n",
       "</style>\n",
       "<table border=\"1\" class=\"dataframe\">\n",
       "  <thead>\n",
       "    <tr style=\"text-align: right;\">\n",
       "      <th></th>\n",
       "      <th>Year</th>\n",
       "      <th>Make</th>\n",
       "      <th>Model</th>\n",
       "      <th>Mileage</th>\n",
       "    </tr>\n",
       "  </thead>\n",
       "  <tbody>\n",
       "    <tr>\n",
       "      <th>155188</th>\n",
       "      <td>2016</td>\n",
       "      <td>Kia</td>\n",
       "      <td>RioLX</td>\n",
       "      <td>5</td>\n",
       "    </tr>\n",
       "    <tr>\n",
       "      <th>365405</th>\n",
       "      <td>2017</td>\n",
       "      <td>Ford</td>\n",
       "      <td>EscapeFWD</td>\n",
       "      <td>5</td>\n",
       "    </tr>\n",
       "    <tr>\n",
       "      <th>245854</th>\n",
       "      <td>2017</td>\n",
       "      <td>Dodge</td>\n",
       "      <td>JourneySXT</td>\n",
       "      <td>5</td>\n",
       "    </tr>\n",
       "    <tr>\n",
       "      <th>387449</th>\n",
       "      <td>2016</td>\n",
       "      <td>Chevrolet</td>\n",
       "      <td>Silverado</td>\n",
       "      <td>5</td>\n",
       "    </tr>\n",
       "    <tr>\n",
       "      <th>42835</th>\n",
       "      <td>2013</td>\n",
       "      <td>Chevrolet</td>\n",
       "      <td>EquinoxFWD</td>\n",
       "      <td>5</td>\n",
       "    </tr>\n",
       "  </tbody>\n",
       "</table>\n",
       "</div>"
      ],
      "text/plain": [
       "        Year       Make       Model  Mileage\n",
       "155188  2016        Kia       RioLX        5\n",
       "365405  2017       Ford   EscapeFWD        5\n",
       "245854  2017      Dodge  JourneySXT        5\n",
       "387449  2016  Chevrolet   Silverado        5\n",
       "42835   2013  Chevrolet  EquinoxFWD        5"
      ]
     },
     "execution_count": 10,
     "metadata": {},
     "output_type": "execute_result"
    }
   ],
   "source": [
    "data[['Year','Make','Model','Mileage']].sort_values(by='Mileage',ascending=True).head(5)"
   ]
  },
  {
   "cell_type": "code",
   "execution_count": 11,
   "metadata": {},
   "outputs": [
    {
     "data": {
      "text/html": [
       "<div>\n",
       "<style scoped>\n",
       "    .dataframe tbody tr th:only-of-type {\n",
       "        vertical-align: middle;\n",
       "    }\n",
       "\n",
       "    .dataframe tbody tr th {\n",
       "        vertical-align: top;\n",
       "    }\n",
       "\n",
       "    .dataframe thead th {\n",
       "        text-align: right;\n",
       "    }\n",
       "</style>\n",
       "<table border=\"1\" class=\"dataframe\">\n",
       "  <thead>\n",
       "    <tr style=\"text-align: right;\">\n",
       "      <th></th>\n",
       "      <th>Year</th>\n",
       "      <th>Make</th>\n",
       "      <th>Model</th>\n",
       "      <th>Mileage</th>\n",
       "    </tr>\n",
       "  </thead>\n",
       "  <tbody>\n",
       "    <tr>\n",
       "      <th>96163</th>\n",
       "      <td>2013</td>\n",
       "      <td>Chevrolet</td>\n",
       "      <td>Silverado</td>\n",
       "      <td>2457832</td>\n",
       "    </tr>\n",
       "    <tr>\n",
       "      <th>110216</th>\n",
       "      <td>2005</td>\n",
       "      <td>Ford</td>\n",
       "      <td>Super</td>\n",
       "      <td>1428913</td>\n",
       "    </tr>\n",
       "    <tr>\n",
       "      <th>115646</th>\n",
       "      <td>2008</td>\n",
       "      <td>GMC</td>\n",
       "      <td>Sierra</td>\n",
       "      <td>1401471</td>\n",
       "    </tr>\n",
       "    <tr>\n",
       "      <th>202266</th>\n",
       "      <td>2006</td>\n",
       "      <td>Ford</td>\n",
       "      <td>Super</td>\n",
       "      <td>999999</td>\n",
       "    </tr>\n",
       "    <tr>\n",
       "      <th>451313</th>\n",
       "      <td>2011</td>\n",
       "      <td>Chevrolet</td>\n",
       "      <td>Silverado</td>\n",
       "      <td>999999</td>\n",
       "    </tr>\n",
       "  </tbody>\n",
       "</table>\n",
       "</div>"
      ],
      "text/plain": [
       "        Year       Make      Model  Mileage\n",
       "96163   2013  Chevrolet  Silverado  2457832\n",
       "110216  2005       Ford      Super  1428913\n",
       "115646  2008        GMC     Sierra  1401471\n",
       "202266  2006       Ford      Super   999999\n",
       "451313  2011  Chevrolet  Silverado   999999"
      ]
     },
     "execution_count": 11,
     "metadata": {},
     "output_type": "execute_result"
    }
   ],
   "source": [
    "data[['Year','Make','Model','Mileage']].sort_values(by='Mileage',ascending=False).head(5)"
   ]
  },
  {
   "cell_type": "markdown",
   "metadata": {},
   "source": [
    "- Se podría limitar las millas a por lo menos 500 para descartar algunos \"nuevos\" autos usados y a no más de 300k"
   ]
  },
  {
   "cell_type": "code",
   "execution_count": 12,
   "metadata": {},
   "outputs": [
    {
     "name": "stdout",
     "output_type": "stream",
     "text": [
      "Autos con menos de 500 millas: 2608\n",
      "\n",
      "Autos con más de 300K millas: 202\n"
     ]
    }
   ],
   "source": [
    "print ('Autos con menos de 500 millas: %s' % data.Mileage[data.Mileage < 500].count())\n",
    "print ('\\nAutos con más de 300K millas: %s' % data.Mileage[data.Mileage > 300000].count())"
   ]
  },
  {
   "cell_type": "markdown",
   "metadata": {},
   "source": [
    "- Revisar los precios más altos / más bajos y ver si tienen sentido."
   ]
  },
  {
   "cell_type": "code",
   "execution_count": 13,
   "metadata": {},
   "outputs": [
    {
     "data": {
      "text/html": [
       "<div>\n",
       "<style scoped>\n",
       "    .dataframe tbody tr th:only-of-type {\n",
       "        vertical-align: middle;\n",
       "    }\n",
       "\n",
       "    .dataframe tbody tr th {\n",
       "        vertical-align: top;\n",
       "    }\n",
       "\n",
       "    .dataframe thead th {\n",
       "        text-align: right;\n",
       "    }\n",
       "</style>\n",
       "<table border=\"1\" class=\"dataframe\">\n",
       "  <thead>\n",
       "    <tr style=\"text-align: right;\">\n",
       "      <th></th>\n",
       "      <th>Year</th>\n",
       "      <th>Make</th>\n",
       "      <th>Model</th>\n",
       "      <th>Mileage</th>\n",
       "      <th>Price</th>\n",
       "    </tr>\n",
       "  </thead>\n",
       "  <tbody>\n",
       "    <tr>\n",
       "      <th>134981</th>\n",
       "      <td>2018</td>\n",
       "      <td>Land</td>\n",
       "      <td>Rover</td>\n",
       "      <td>649</td>\n",
       "      <td>79999</td>\n",
       "    </tr>\n",
       "    <tr>\n",
       "      <th>159375</th>\n",
       "      <td>2016</td>\n",
       "      <td>Lexus</td>\n",
       "      <td>LXLX</td>\n",
       "      <td>16118</td>\n",
       "      <td>79999</td>\n",
       "    </tr>\n",
       "    <tr>\n",
       "      <th>85765</th>\n",
       "      <td>2014</td>\n",
       "      <td>Land</td>\n",
       "      <td>Rover</td>\n",
       "      <td>33168</td>\n",
       "      <td>79999</td>\n",
       "    </tr>\n",
       "    <tr>\n",
       "      <th>394342</th>\n",
       "      <td>2016</td>\n",
       "      <td>Land</td>\n",
       "      <td>Rover</td>\n",
       "      <td>30055</td>\n",
       "      <td>79999</td>\n",
       "    </tr>\n",
       "    <tr>\n",
       "      <th>439227</th>\n",
       "      <td>2015</td>\n",
       "      <td>Land</td>\n",
       "      <td>Rover</td>\n",
       "      <td>33780</td>\n",
       "      <td>79999</td>\n",
       "    </tr>\n",
       "  </tbody>\n",
       "</table>\n",
       "</div>"
      ],
      "text/plain": [
       "        Year   Make  Model  Mileage  Price\n",
       "134981  2018   Land  Rover      649  79999\n",
       "159375  2016  Lexus   LXLX    16118  79999\n",
       "85765   2014   Land  Rover    33168  79999\n",
       "394342  2016   Land  Rover    30055  79999\n",
       "439227  2015   Land  Rover    33780  79999"
      ]
     },
     "execution_count": 13,
     "metadata": {},
     "output_type": "execute_result"
    }
   ],
   "source": [
    "data[['Year','Make','Model','Mileage','Price']].sort_values(by='Price',ascending=False).head(5)"
   ]
  },
  {
   "cell_type": "code",
   "execution_count": 14,
   "metadata": {},
   "outputs": [
    {
     "data": {
      "text/html": [
       "<div>\n",
       "<style scoped>\n",
       "    .dataframe tbody tr th:only-of-type {\n",
       "        vertical-align: middle;\n",
       "    }\n",
       "\n",
       "    .dataframe tbody tr th {\n",
       "        vertical-align: top;\n",
       "    }\n",
       "\n",
       "    .dataframe thead th {\n",
       "        text-align: right;\n",
       "    }\n",
       "</style>\n",
       "<table border=\"1\" class=\"dataframe\">\n",
       "  <thead>\n",
       "    <tr style=\"text-align: right;\">\n",
       "      <th></th>\n",
       "      <th>Year</th>\n",
       "      <th>Make</th>\n",
       "      <th>Model</th>\n",
       "      <th>Mileage</th>\n",
       "      <th>Price</th>\n",
       "    </tr>\n",
       "  </thead>\n",
       "  <tbody>\n",
       "    <tr>\n",
       "      <th>486979</th>\n",
       "      <td>2009</td>\n",
       "      <td>Hyundai</td>\n",
       "      <td>Accent4dr</td>\n",
       "      <td>109607</td>\n",
       "      <td>5001</td>\n",
       "    </tr>\n",
       "    <tr>\n",
       "      <th>281977</th>\n",
       "      <td>2011</td>\n",
       "      <td>Kia</td>\n",
       "      <td>Forte</td>\n",
       "      <td>124271</td>\n",
       "      <td>5001</td>\n",
       "    </tr>\n",
       "    <tr>\n",
       "      <th>153008</th>\n",
       "      <td>2009</td>\n",
       "      <td>Ford</td>\n",
       "      <td>Escape4WD</td>\n",
       "      <td>169579</td>\n",
       "      <td>5001</td>\n",
       "    </tr>\n",
       "    <tr>\n",
       "      <th>149778</th>\n",
       "      <td>2005</td>\n",
       "      <td>Toyota</td>\n",
       "      <td>Camry4dr</td>\n",
       "      <td>164552</td>\n",
       "      <td>5002</td>\n",
       "    </tr>\n",
       "    <tr>\n",
       "      <th>146677</th>\n",
       "      <td>2008</td>\n",
       "      <td>Honda</td>\n",
       "      <td>CivicLX</td>\n",
       "      <td>189174</td>\n",
       "      <td>5002</td>\n",
       "    </tr>\n",
       "  </tbody>\n",
       "</table>\n",
       "</div>"
      ],
      "text/plain": [
       "        Year     Make      Model  Mileage  Price\n",
       "486979  2009  Hyundai  Accent4dr   109607   5001\n",
       "281977  2011      Kia      Forte   124271   5001\n",
       "153008  2009     Ford  Escape4WD   169579   5001\n",
       "149778  2005   Toyota   Camry4dr   164552   5002\n",
       "146677  2008    Honda    CivicLX   189174   5002"
      ]
     },
     "execution_count": 14,
     "metadata": {},
     "output_type": "execute_result"
    }
   ],
   "source": [
    "data[['Year','Make','Model','Mileage','Price']].sort_values(by='Price',ascending=True).head(5)"
   ]
  },
  {
   "cell_type": "code",
   "execution_count": 15,
   "metadata": {},
   "outputs": [
    {
     "data": {
      "text/html": [
       "<div>\n",
       "<style scoped>\n",
       "    .dataframe tbody tr th:only-of-type {\n",
       "        vertical-align: middle;\n",
       "    }\n",
       "\n",
       "    .dataframe tbody tr th {\n",
       "        vertical-align: top;\n",
       "    }\n",
       "\n",
       "    .dataframe thead th {\n",
       "        text-align: right;\n",
       "    }\n",
       "</style>\n",
       "<table border=\"1\" class=\"dataframe\">\n",
       "  <thead>\n",
       "    <tr style=\"text-align: right;\">\n",
       "      <th></th>\n",
       "      <th>count</th>\n",
       "      <th>mean</th>\n",
       "      <th>std</th>\n",
       "      <th>min</th>\n",
       "      <th>25%</th>\n",
       "      <th>50%</th>\n",
       "      <th>75%</th>\n",
       "      <th>max</th>\n",
       "    </tr>\n",
       "  </thead>\n",
       "  <tbody>\n",
       "    <tr>\n",
       "      <th>Price</th>\n",
       "      <td>500000.0</td>\n",
       "      <td>21144.186304</td>\n",
       "      <td>10753.259704</td>\n",
       "      <td>5001.0</td>\n",
       "      <td>13499.0</td>\n",
       "      <td>18450.0</td>\n",
       "      <td>26998.0</td>\n",
       "      <td>79999.0</td>\n",
       "    </tr>\n",
       "    <tr>\n",
       "      <th>Mileage</th>\n",
       "      <td>500000.0</td>\n",
       "      <td>55076.426352</td>\n",
       "      <td>40897.041303</td>\n",
       "      <td>5.0</td>\n",
       "      <td>25855.0</td>\n",
       "      <td>42990.0</td>\n",
       "      <td>77406.0</td>\n",
       "      <td>2457832.0</td>\n",
       "    </tr>\n",
       "  </tbody>\n",
       "</table>\n",
       "</div>"
      ],
      "text/plain": [
       "            count          mean           std     min      25%      50%  \\\n",
       "Price    500000.0  21144.186304  10753.259704  5001.0  13499.0  18450.0   \n",
       "Mileage  500000.0  55076.426352  40897.041303     5.0  25855.0  42990.0   \n",
       "\n",
       "             75%        max  \n",
       "Price    26998.0    79999.0  \n",
       "Mileage  77406.0  2457832.0  "
      ]
     },
     "execution_count": 15,
     "metadata": {},
     "output_type": "execute_result"
    }
   ],
   "source": [
    "data[['Price','Mileage']].describe().T"
   ]
  },
  {
   "cell_type": "markdown",
   "metadata": {},
   "source": [
    "## Análisis exploratorio de datos"
   ]
  },
  {
   "cell_type": "markdown",
   "metadata": {},
   "source": [
    "- Identificar cuantos años, fabricantes y modelos hay en el datset"
   ]
  },
  {
   "cell_type": "code",
   "execution_count": 16,
   "metadata": {},
   "outputs": [
    {
     "name": "stdout",
     "output_type": "stream",
     "text": [
      "Número de años unicos; 22\n",
      "Número de fabricantes unicos: 38\n",
      "Número de modelos unicos: 525\n"
     ]
    }
   ],
   "source": [
    "print ('Número de años unicos; %s' % len(data.Year.unique()))\n",
    "print ('Número de fabricantes unicos: %s' % len(data.Make.unique()))\n",
    "print ('Número de modelos unicos: %s' % len(data.Model.unique()))"
   ]
  },
  {
   "cell_type": "markdown",
   "metadata": {},
   "source": [
    "- Distribución de datos vs año."
   ]
  },
  {
   "cell_type": "code",
   "execution_count": 17,
   "metadata": {},
   "outputs": [
    {
     "data": {
      "image/png": "[encoded data removed]",
      "text/plain": [
       "<Figure size 576x360 with 1 Axes>"
      ]
     },
     "metadata": {
      "needs_background": "light"
     },
     "output_type": "display_data"
    }
   ],
   "source": [
    "fig = plt.figure(figsize=(8,5))\n",
    "ax = fig.gca()\n",
    "sns.distplot(data.Year,kde=False, hist_kws={\"alpha\":0.7,'width':0.6})\n",
    "plt.title('Autos por año',fontsize=16)\n",
    "plt.xticks(sorted(data.Year.unique()),horizontalalignment='left')\n",
    "plt.ylabel('Número de Autos',fontsize=14)\n",
    "plt.xlabel('Año', fontsize=14)\n",
    "plt.xlim(2007.5,2018.5)\n",
    "plt.show()"
   ]
  },
  {
   "cell_type": "markdown",
   "metadata": {},
   "source": [
    "Se observa que la mayor concentración de automóviles está en los modelos de 2015 a 2017."
   ]
  },
  {
   "cell_type": "markdown",
   "metadata": {},
   "source": [
    "- Revisar la distribución general de millas"
   ]
  },
  {
   "cell_type": "code",
   "execution_count": 18,
   "metadata": {},
   "outputs": [
    {
     "data": {
      "image/png": "[encoded data removed]",
      "text/plain": [
       "<Figure size 576x360 with 1 Axes>"
      ]
     },
     "metadata": {
      "needs_background": "light"
     },
     "output_type": "display_data"
    }
   ],
   "source": [
    "fig = plt.figure(figsize=(8,5))\n",
    "ax = fig.gca()\n",
    "sns.distplot(data.Mileage,kde=False)\n",
    "plt.xlabel('Millas',fontsize=14,fontweight=\"bold\")\n",
    "plt.axvline(data.Mileage.mean(),lw=3,ls='dashed',\n",
    "            color='black',label='Promedio de millas:'+'{0:.0f}'.format(np.mean(data.Mileage)))\n",
    "plt.title('Distribución general de millas',fontsize=18,fontweight=\"bold\")\n",
    "plt.legend(loc='upper right',fontsize=16)\n",
    "plt.xlim(-1000,250000)\n",
    "plt.show()"
   ]
  },
  {
   "cell_type": "markdown",
   "metadata": {},
   "source": [
    "En general, la mayoría de automóviles tienen kilometraje inferior a 50000 millas lo cual tiene sentido con los hallazgos anteriores, en los que la mayoría de carros son modelos recientes, lo que haría esperar que estos carros tengan menor kilometraje y por eso los resultados de esta gráfica."
   ]
  },
  {
   "cell_type": "markdown",
   "metadata": {},
   "source": [
    "- Distribución de millas por año. Diagrama de caja para tener una mejor idea de los rangos y los posibles valores."
   ]
  },
  {
   "cell_type": "code",
   "execution_count": 19,
   "metadata": {},
   "outputs": [
    {
     "data": {
      "image/png": "[encoded data removed]",
      "text/plain": [
       "<Figure size 720x360 with 1 Axes>"
      ]
     },
     "metadata": {
      "needs_background": "light"
     },
     "output_type": "display_data"
    }
   ],
   "source": [
    "fig = plt.figure(figsize=(10,5))\n",
    "ax = fig.gca()\n",
    "sns.boxplot(x='Mileage',y='Year',data=data,notch=True,orient='h')\n",
    "plt.xlabel('Millas',fontsize=14,fontweight=\"bold\")\n",
    "ax.set_yticklabels(sorted(data.Year.unique()))\n",
    "plt.ylabel('Año',fontsize=14,fontweight=\"bold\")\n",
    "plt.title('Distribución de millas por año',fontsize=18,fontweight=\"bold\")\n",
    "plt.xlim(-5000,500000)\n",
    "plt.show()"
   ]
  },
  {
   "cell_type": "markdown",
   "metadata": {},
   "source": [
    "Como se mencionó anteriormente la relación esperada entre año y millas se cumple, en la que los carros más recientes tienen menor kilometraje. Sin embargo, existe alta dispersión para los automóviles modelo 2006-2011 con un rango de precios muy volátil."
   ]
  },
  {
   "cell_type": "markdown",
   "metadata": {},
   "source": [
    "- Se analiza las millas por fabricante y se gráfican los precios altos para que sea más informativo."
   ]
  },
  {
   "cell_type": "code",
   "execution_count": 20,
   "metadata": {},
   "outputs": [
    {
     "data": {
      "image/png": "[encoded data removed]",
      "text/plain": [
       "<Figure size 1152x792 with 1 Axes>"
      ]
     },
     "metadata": {
      "needs_background": "light"
     },
     "output_type": "display_data"
    }
   ],
   "source": [
    "fig = plt.figure(figsize=(16,11))\n",
    "ax = fig.gca()\n",
    "sns.boxplot(x='Mileage',y='Make',data=data, order=sorted(data.Make.unique()),notch=True,orient='h')\n",
    "plt.xlabel('Precio ($)',fontsize=14,fontweight=\"bold\")\n",
    "plt.ylabel('Fabricante',fontsize=14,fontweight=\"bold\")\n",
    "plt.title('Distribución de millas por fabricante',fontsize=18,fontweight=\"bold\")\n",
    "plt.show()"
   ]
  },
  {
   "cell_type": "markdown",
   "metadata": {},
   "source": [
    "- Distribución general de precios. Limitando los datos utilizados para este gráfico a 80k en el extremo superior, ya que se reduce bastante para alcanzar el precio más alto de $ 2M."
   ]
  },
  {
   "cell_type": "code",
   "execution_count": 21,
   "metadata": {},
   "outputs": [
    {
     "data": {
      "image/png": "[encoded data removed]",
      "text/plain": [
       "<Figure size 576x360 with 1 Axes>"
      ]
     },
     "metadata": {
      "needs_background": "light"
     },
     "output_type": "display_data"
    }
   ],
   "source": [
    "fig = plt.figure(figsize=(8,5))\n",
    "ax = fig.gca()\n",
    "sns.distplot(data.Price,kde=False,bins=300)\n",
    "plt.xlabel('Precio',fontsize=14,fontweight=\"bold\")\n",
    "plt.axvline(data.Price.mean(),lw=3,ls='dashed', color='black',label='Precio promedio:'+'{0:.0f}'.format(np.mean(data.Price)))\n",
    "plt.title('Distribución de precios',fontsize=18,fontweight=\"bold\")\n",
    "plt.legend(loc='upper right',fontsize=16)\n",
    "plt.xlim(-1000,80000)\n",
    "plt.show()"
   ]
  },
  {
   "cell_type": "markdown",
   "metadata": {},
   "source": [
    "- Distribución de precios por año"
   ]
  },
  {
   "cell_type": "code",
   "execution_count": 22,
   "metadata": {},
   "outputs": [
    {
     "data": {
      "image/png": "[encoded data removed]",
      "text/plain": [
       "<Figure size 720x360 with 1 Axes>"
      ]
     },
     "metadata": {
      "needs_background": "light"
     },
     "output_type": "display_data"
    }
   ],
   "source": [
    "fig = plt.figure(figsize=(10,5))\n",
    "ax = fig.gca()\n",
    "sns.boxplot(x='Price',y='Year',data=data[data.Price < 80000],\n",
    "            order=sorted(data.Year.unique()),notch=True,orient='h')\n",
    "plt.xlabel('Precio ($)',fontsize=14,fontweight=\"bold\")\n",
    "plt.ylabel('Año',fontsize=14,fontweight=\"bold\")\n",
    "plt.title('Distribución de precios por año',fontsize=18,fontweight=\"bold\")\n",
    "plt.show()"
   ]
  },
  {
   "cell_type": "markdown",
   "metadata": {},
   "source": [
    "A nivel general, se observa que existe una relación positiva entre precio y año, tal y como se espera. Sin embargo, existen varios casos que generan ruido, especialmente los modelos de carros muy antiguos con precios tan elevados como los más recientes. "
   ]
  },
  {
   "cell_type": "markdown",
   "metadata": {},
   "source": [
    "- Precios por fabricante"
   ]
  },
  {
   "cell_type": "code",
   "execution_count": 23,
   "metadata": {},
   "outputs": [
    {
     "data": {
      "image/png": "[encoded data removed]",
      "text/plain": [
       "<Figure size 1152x792 with 1 Axes>"
      ]
     },
     "metadata": {
      "needs_background": "light"
     },
     "output_type": "display_data"
    }
   ],
   "source": [
    "fig = plt.figure(figsize=(16,11))\n",
    "ax = fig.gca()\n",
    "sns.boxplot(x='Price',y='Make',data=data[data.Price < 150000],\n",
    "            order=sorted(data.Make.unique()),notch=True,orient='h')\n",
    "plt.xlabel('Precio ($)',fontsize=14,fontweight=\"bold\")\n",
    "plt.ylabel('Fabricante',fontsize=14,fontweight=\"bold\")\n",
    "plt.title('Distribución de precios por fabricante',fontsize=18,fontweight=\"bold\")\n",
    "plt.show()"
   ]
  },
  {
   "cell_type": "markdown",
   "metadata": {},
   "source": [
    "La gráfica anterior muestra que incluso con una marca específica, puede haber variaciones de precios muy grandes. De hecho, son muy pocos los casos en los que todos los datos hacen parte de la distribución sin alejarse significativamente de la media, como lo son Suzuki, Tesla, Bentley y Acura, pero en el resto de los casos existe una alta dispersión en los precios, por lo que es necesario el análisis de otras variables para entender el comportamiento del precio. "
   ]
  },
  {
   "cell_type": "markdown",
   "metadata": {},
   "source": [
    "## Modelamiento"
   ]
  },
  {
   "cell_type": "markdown",
   "metadata": {},
   "source": [
    "- Codificación de variables categícas usando BinaryEncoder"
   ]
  },
  {
   "cell_type": "markdown",
   "metadata": {},
   "source": [
    "* El BinaryEncoder puede considerarse como un híbrido de codificadores de hashing y hot-one. Binary crea menos funciones que one-hot, al tiempo que conserva algunos valores únicos en la columna.\n",
    "    + Las categorías están codificadas por OrdinalEncoder si aún no están en forma numérica.\n",
    "    + Luego esos números enteros se convierten en código binario, por lo que, por ejemplo, 5 se convierte en 101 y 10 en 1010.\n",
    "    + Los dígitos de esa cadena binaria se dividen en columnas separadas. Entonces, si hay 4–7 valores en una columna ordinal, entonces se crean 3 nuevas columnas: una para el primer bit, una para el segundo y otra para el tercero.\n",
    "    + Cada observación se codifica a través de las columnas en su forma binaria."
   ]
  },
  {
   "cell_type": "code",
   "execution_count": 3,
   "metadata": {},
   "outputs": [],
   "source": [
    "X = ce.BinaryEncoder().fit_transform(data.drop(['Price'], axis=1))\n",
    "y = data['Price']"
   ]
  },
  {
   "cell_type": "code",
   "execution_count": 25,
   "metadata": {},
   "outputs": [],
   "source": [
    "#data = data[(data.Mileage >= 500) & (data.Mileager <= 300000)]"
   ]
  },
  {
   "cell_type": "markdown",
   "metadata": {},
   "source": [
    "### Test-Train Split"
   ]
  },
  {
   "cell_type": "markdown",
   "metadata": {},
   "source": [
    "- Para probar el rendimiento de los algoritmos, se divide el conjunto de datos en dos conjuntos distintos de train y test."
   ]
  },
  {
   "cell_type": "code",
   "execution_count": 4,
   "metadata": {},
   "outputs": [],
   "source": [
    "X_train, X_test, y_train, y_test = train_test_split(X, y, test_size = 0.20, random_state=42)"
   ]
  },
  {
   "cell_type": "markdown",
   "metadata": {},
   "source": [
    "- Para predecir el precio de un auto usado se probaran tres métodos básicos de Machine Learning: regresión lineal, árboles de decisión y bosques aleatorios. RMSE será la principal métrica para evaluar el rendimiento de los modelos. La validación cruzada también se utilizará para seleccionar el modelo con el mejor rendimiento, que luego se afinará."
   ]
  },
  {
   "cell_type": "code",
   "execution_count": 27,
   "metadata": {},
   "outputs": [
    {
     "data": {
      "text/plain": [
       "DecisionTreeRegressor(criterion='mse', max_depth=None, max_features=None,\n",
       "           max_leaf_nodes=None, min_impurity_decrease=0.0,\n",
       "           min_impurity_split=None, min_samples_leaf=1,\n",
       "           min_samples_split=2, min_weight_fraction_leaf=0.0,\n",
       "           presort=False, random_state=None, splitter='best')"
      ]
     },
     "execution_count": 27,
     "metadata": {},
     "output_type": "execute_result"
    }
   ],
   "source": [
    "#Entrenar un modelo de árboles de decisión\n",
    "tree = DecisionTreeRegressor()\n",
    "tree.fit(X_train, y_train)"
   ]
  },
  {
   "cell_type": "code",
   "execution_count": 5,
   "metadata": {},
   "outputs": [
    {
     "data": {
      "text/plain": [
       "RandomForestRegressor(bootstrap=True, criterion='mse', max_depth=None,\n",
       "           max_features='auto', max_leaf_nodes=None,\n",
       "           min_impurity_decrease=0.0, min_impurity_split=None,\n",
       "           min_samples_leaf=1, min_samples_split=2,\n",
       "           min_weight_fraction_leaf=0.0, n_estimators=10, n_jobs=-1,\n",
       "           oob_score=False, random_state=None, verbose=0, warm_start=False)"
      ]
     },
     "execution_count": 5,
     "metadata": {},
     "output_type": "execute_result"
    }
   ],
   "source": [
    "#Entrenar un modelo de bosques aleatorios\n",
    "forest = RandomForestRegressor(n_jobs=-1)\n",
    "forest.fit(X_train, y_train)"
   ]
  },
  {
   "cell_type": "code",
   "execution_count": 29,
   "metadata": {},
   "outputs": [
    {
     "data": {
      "text/plain": [
       "LinearRegression(copy_X=True, fit_intercept=True, n_jobs=-1, normalize=False)"
      ]
     },
     "execution_count": 29,
     "metadata": {},
     "output_type": "execute_result"
    }
   ],
   "source": [
    "##Entrenar un modelo de regresión lineal\n",
    "lin_reg = LinearRegression(n_jobs=-1)\n",
    "lin_reg.fit(X_train, y_train)"
   ]
  },
  {
   "cell_type": "markdown",
   "metadata": {},
   "source": [
    "- Se prueban los modelos en los datos de test, y se evalua en términos de MSE"
   ]
  },
  {
   "cell_type": "code",
   "execution_count": 30,
   "metadata": {},
   "outputs": [
    {
     "name": "stdout",
     "output_type": "stream",
     "text": [
      "RMSE of lin_reg = 8765.95\n",
      "RMSE of random forest = 3954.02\n",
      "RMSE of decision tree = 4998.68\n"
     ]
    }
   ],
   "source": [
    "models= [('lin_reg', lin_reg), ('random forest', forest), ('decision tree', tree)]\n",
    "\n",
    "for i, model in models:    \n",
    "    predictions = model.predict(X_test)\n",
    "    MSE = mean_squared_error(y_test, predictions)\n",
    "    RMSE = np.sqrt(MSE)\n",
    "    msg = \"%s = %.2f\" % (i, round(RMSE, 2))\n",
    "    print('RMSE of', msg)"
   ]
  },
  {
   "cell_type": "markdown",
   "metadata": {},
   "source": [
    "- Se puede usar el error porcentual absoluto promedio (MAPE) para calcular una medida de precisión que sea más inmediata de entender."
   ]
  },
  {
   "cell_type": "code",
   "execution_count": 31,
   "metadata": {},
   "outputs": [
    {
     "name": "stdout",
     "output_type": "stream",
     "text": [
      "Accuracy of lin_reg= 63.16 %\n",
      "Accuracy of random forest= 87.87 %\n",
      "Accuracy of decision tree= 84.85 %\n"
     ]
    }
   ],
   "source": [
    "for i, model in models:\n",
    "    # Realizar predicciones sobre los datos de entrenamiento.\n",
    "    predictions = model.predict(X_test)\n",
    "    # Metricas de desempeño\n",
    "    errors = abs(predictions - y_test)\n",
    "    # Calcular el porcentaje de error absoluto (MAPE)\n",
    "    mape = np.mean(100 * (errors / y_test))\n",
    "    # Calcular el accuracy\n",
    "    accuracy = 100 - mape\n",
    "    \n",
    "    msg = \"%s= %.2f\"% (i, round(accuracy, 2))\n",
    "    print('Accuracy of', msg,'%')"
   ]
  },
  {
   "cell_type": "markdown",
   "metadata": {},
   "source": [
    "- Al parecer que el modelo de Random Forest es el mejor modelo, ya que su error es el más bajo. Sin embargo, solo se estan evaluando los parametros por default. Para entender mejor el rendimiento de los modelos se usará cross-validation."
   ]
  },
  {
   "cell_type": "markdown",
   "metadata": {},
   "source": [
    "### Comparación de modelos"
   ]
  },
  {
   "cell_type": "markdown",
   "metadata": {},
   "source": [
    "- Para cada modelo se prueban tres métricas de puntuación diferentes. Por lo tanto, los resultados [0] serán lin_reg x MSE,\n",
    " resultados [1] lin_reg x MSE y así sucesivamente hasta resultados [8]."
   ]
  },
  {
   "cell_type": "code",
   "execution_count": 32,
   "metadata": {},
   "outputs": [],
   "source": [
    "models= [('lin_reg', lin_reg), ('forest', forest), ('dt', tree)]\n",
    "scoring = ['neg_mean_squared_error', 'neg_mean_absolute_error', 'r2']\n",
    "\n",
    "results= []\n",
    "metric= []\n",
    "for name, model in models:\n",
    "    for i in scoring:\n",
    "        scores = cross_validate(model, X_train, y_train, scoring=i, cv=10, return_train_score=True)\n",
    "        results.append(scores)"
   ]
  },
  {
   "cell_type": "code",
   "execution_count": 33,
   "metadata": {},
   "outputs": [
    {
     "data": {
      "text/plain": [
       "{'fit_time': array([2.32167053, 2.37154436, 2.37019658, 2.41301799, 2.43806052,\n",
       "        2.39066601, 2.51576304, 2.60209608, 2.31513238, 2.49954224]),\n",
       " 'score_time': array([0.03048134, 0.03148103, 0.0304811 , 0.03248024, 0.03098226,\n",
       "        0.03197885, 0.03297853, 0.03397918, 0.03048158, 0.03497791]),\n",
       " 'test_score': array([0.79217844, 0.79500573, 0.78491212, 0.78320416, 0.78522923,\n",
       "        0.79298076, 0.79572346, 0.79352554, 0.78379428, 0.79339874]),\n",
       " 'train_score': array([0.99982258, 0.99982693, 0.99981486, 0.99984676, 0.99980204,\n",
       "        0.99983624, 0.9998098 , 0.99981398, 0.99981242, 0.99982516])}"
      ]
     },
     "execution_count": 33,
     "metadata": {},
     "output_type": "execute_result"
    }
   ],
   "source": [
    "results[8]"
   ]
  },
  {
   "cell_type": "markdown",
   "metadata": {},
   "source": [
    "- Se calcula para cada combinación la media y la desviación estándar, y se almacena en dataframe todas las métricas para compararlas."
   ]
  },
  {
   "cell_type": "code",
   "execution_count": 34,
   "metadata": {},
   "outputs": [],
   "source": [
    "#Regresión Lineal\n",
    "\n",
    "LR_RMSE_mean = np.sqrt(-results[0]['test_score'].mean())\n",
    "LR_RMSE_std= results[0]['test_score'].std()\n",
    "\n",
    "# Ajuste de signos\n",
    "LR_MAE_mean = -results[1]['test_score'].mean()\n",
    "LR_MAE_std= results[1]['test_score'].std()\n",
    "LR_r2_mean = results[2]['test_score'].mean()\n",
    "LR_r2_std = results[2]['test_score'].std()\n",
    "\n",
    "#Random Forest\n",
    "RF_RMSE_mean = np.sqrt(-results[3]['test_score'].mean())\n",
    "RF_RMSE_std= results[3]['test_score'].std()\n",
    "RF_MAE_mean = -results[4]['test_score'].mean()\n",
    "RF_MAE_std= results[4]['test_score'].std()\n",
    "RF_r2_mean = results[5]['test_score'].mean()\n",
    "RF_r2_std = results[5]['test_score'].std()\n",
    "\n",
    "#Arboles de desición\n",
    "DT_RMSE_mean = np.sqrt(-results[6]['test_score'].mean())\n",
    "DT_RMSE_std= results[6]['test_score'].std()\n",
    "DT_MAE_mean = -results[7]['test_score'].mean()\n",
    "DT_MAE_std= results[7]['test_score'].std()\n",
    "DT_r2_mean = results[8]['test_score'].mean()\n",
    "DT_r2_std = results[8]['test_score'].std()"
   ]
  },
  {
   "cell_type": "code",
   "execution_count": 35,
   "metadata": {},
   "outputs": [
    {
     "data": {
      "text/html": [
       "<div>\n",
       "<style scoped>\n",
       "    .dataframe tbody tr th:only-of-type {\n",
       "        vertical-align: middle;\n",
       "    }\n",
       "\n",
       "    .dataframe tbody tr th {\n",
       "        vertical-align: top;\n",
       "    }\n",
       "\n",
       "    .dataframe thead th {\n",
       "        text-align: right;\n",
       "    }\n",
       "</style>\n",
       "<table border=\"1\" class=\"dataframe\">\n",
       "  <thead>\n",
       "    <tr style=\"text-align: right;\">\n",
       "      <th></th>\n",
       "      <th>Model</th>\n",
       "      <th>RMSE_mean</th>\n",
       "      <th>RMSE_std</th>\n",
       "      <th>MAE_mean</th>\n",
       "      <th>MAE_std</th>\n",
       "      <th>r2_mean</th>\n",
       "      <th>r2_std</th>\n",
       "    </tr>\n",
       "  </thead>\n",
       "  <tbody>\n",
       "    <tr>\n",
       "      <th>1</th>\n",
       "      <td>Random Forest</td>\n",
       "      <td>3870.007551</td>\n",
       "      <td>177636.782286</td>\n",
       "      <td>2438.468915</td>\n",
       "      <td>15.362704</td>\n",
       "      <td>0.869843</td>\n",
       "      <td>0.002166</td>\n",
       "    </tr>\n",
       "    <tr>\n",
       "      <th>2</th>\n",
       "      <td>Decision Trees</td>\n",
       "      <td>4920.065158</td>\n",
       "      <td>502986.214211</td>\n",
       "      <td>3059.460748</td>\n",
       "      <td>20.246805</td>\n",
       "      <td>0.789995</td>\n",
       "      <td>0.004783</td>\n",
       "    </tr>\n",
       "    <tr>\n",
       "      <th>0</th>\n",
       "      <td>Linear Regression</td>\n",
       "      <td>8731.708292</td>\n",
       "      <td>686790.402756</td>\n",
       "      <td>6690.975693</td>\n",
       "      <td>20.066882</td>\n",
       "      <td>0.339162</td>\n",
       "      <td>0.004187</td>\n",
       "    </tr>\n",
       "  </tbody>\n",
       "</table>\n",
       "</div>"
      ],
      "text/plain": [
       "               Model    RMSE_mean       RMSE_std     MAE_mean    MAE_std  \\\n",
       "1      Random Forest  3870.007551  177636.782286  2438.468915  15.362704   \n",
       "2     Decision Trees  4920.065158  502986.214211  3059.460748  20.246805   \n",
       "0  Linear Regression  8731.708292  686790.402756  6690.975693  20.066882   \n",
       "\n",
       "    r2_mean    r2_std  \n",
       "1  0.869843  0.002166  \n",
       "2  0.789995  0.004783  \n",
       "0  0.339162  0.004187  "
      ]
     },
     "execution_count": 35,
     "metadata": {},
     "output_type": "execute_result"
    }
   ],
   "source": [
    "modelDF = pd.DataFrame({\n",
    "    'Model'       : ['Linear Regression', 'Random Forest', 'Decision Trees'],\n",
    "    'RMSE_mean'    : [LR_RMSE_mean, RF_RMSE_mean, DT_RMSE_mean],\n",
    "    'RMSE_std'    : [LR_RMSE_std, RF_RMSE_std, DT_RMSE_std],\n",
    "    'MAE_mean'   : [LR_MAE_mean, RF_MAE_mean, DT_MAE_mean],\n",
    "    'MAE_std'   : [LR_MAE_std, RF_MAE_std, DT_MAE_std],\n",
    "    'r2_mean'      : [LR_r2_mean, RF_r2_mean, DT_r2_mean],\n",
    "    'r2_std'      : [LR_r2_std, RF_r2_std, DT_r2_std],\n",
    "    }, columns = ['Model', 'RMSE_mean', 'RMSE_std', 'MAE_mean', 'MAE_std', 'r2_mean', 'r2_std'])\n",
    "\n",
    "modelDF.sort_values(by='r2_mean', ascending=False)"
   ]
  },
  {
   "cell_type": "markdown",
   "metadata": {},
   "source": [
    "- Se gráfica la media del RMSE para comparar los modelos"
   ]
  },
  {
   "cell_type": "code",
   "execution_count": 36,
   "metadata": {},
   "outputs": [
    {
     "data": {
      "text/plain": [
       "<seaborn.axisgrid.FacetGrid at 0x230b40dddd8>"
      ]
     },
     "execution_count": 36,
     "metadata": {},
     "output_type": "execute_result"
    },
    {
     "data": {
      "image/png": "[encoded data removed]",
      "text/plain": [
       "<Figure size 360x360 with 1 Axes>"
      ]
     },
     "metadata": {
      "needs_background": "light"
     },
     "output_type": "display_data"
    }
   ],
   "source": [
    "sns.factorplot(x= 'Model', y= 'RMSE_mean', data= modelDF, kind='bar', legend='True')"
   ]
  },
  {
   "cell_type": "markdown",
   "metadata": {},
   "source": [
    "- Se observa que los árboles de decisión no son tan buenos en comparación con los otros dos métodos, tanto en términos de error como de varianza. El mejor modelo es el random forest."
   ]
  },
  {
   "cell_type": "markdown",
   "metadata": {},
   "source": [
    "## Ajuste del Random Forest"
   ]
  },
  {
   "cell_type": "markdown",
   "metadata": {},
   "source": [
    "### Grid Search\n",
    "    Utilizando Grid Search se prueban diferentes combinaciones de hiperparámetros de Random Forest\n",
    "    \n",
    "* Los hiperparámetros más importantes del Random Forest:\n",
    "\n",
    "    + n_estimadores = número de árboles\n",
    "    + max_features = número máximo de funciones consideradas para dividir un nodo\n",
    "    + max_depth = número máximo de niveles en cada árbol de decisión\n",
    "    + min_samples_split = número mínimo de puntos de datos colocados en un nodo antes de dividir el nodo\n",
    "    + min_samples_leaf = número mínimo de puntos de datos permitidos en un nodo hoja\n",
    "    + bootstrap = método para muestrear puntos de datos (con o sin reemplazo)"
   ]
  },
  {
   "cell_type": "code",
   "execution_count": 37,
   "metadata": {},
   "outputs": [
    {
     "data": {
      "text/plain": [
       "GridSearchCV(cv=10, error_score='raise-deprecating',\n",
       "       estimator=RandomForestRegressor(bootstrap=True, criterion='mse', max_depth=None,\n",
       "           max_features='auto', max_leaf_nodes=None,\n",
       "           min_impurity_decrease=0.0, min_impurity_split=None,\n",
       "           min_samples_leaf=1, min_samples_split=2,\n",
       "           min_weight_fraction_leaf=0.0, n_estimators=10, n_jobs=-1,\n",
       "           oob_score=False, random_state=None, verbose=0, warm_start=False),\n",
       "       fit_params=None, iid='warn', n_jobs=None,\n",
       "       param_grid=[{'n_estimators': [50, 66, 83, 100, 116, 133, 150, 166, 183, 200], 'max_features': ['auto', 'sqrt'], 'max_depth': [20, 35, 50, None], 'bootstrap': [True, False]}],\n",
       "       pre_dispatch='2*n_jobs', refit=True, return_train_score='warn',\n",
       "       scoring='neg_mean_squared_error', verbose=0)"
      ]
     },
     "execution_count": 37,
     "metadata": {},
     "output_type": "execute_result"
    }
   ],
   "source": [
    "# Número de arboles\n",
    "n_estimators = [int(x) for x in np.linspace(start = 50, stop = 200, num = 10)]\n",
    "# número máximo de funciones consideradas para dividir un nodo\n",
    "max_features = ['auto', 'sqrt']\n",
    "# número máximo de niveles en cada árbol de decisión\n",
    "max_depth = [int(x) for x in np.linspace(20, 50, num = 3)]\n",
    "max_depth.append(None)\n",
    "# número mínimo de puntos de datos colocados en un nodo antes de dividir el nodo\n",
    "#min_samples_split = [5, 10]\n",
    "\n",
    "param_grid = [\n",
    "{'n_estimators': n_estimators,\n",
    " 'max_features': max_features,\n",
    " 'max_depth': max_depth,\n",
    " 'bootstrap': [True, False]}\n",
    "]\n",
    "\n",
    "grid_search_forest = GridSearchCV(forest, param_grid, cv=10, scoring='neg_mean_squared_error')\n",
    "grid_search_forest.fit(X_train, y_train)"
   ]
  },
  {
   "cell_type": "markdown",
   "metadata": {},
   "source": [
    "- Visualización del cambio del RMSE para cada configuración de parámetros"
   ]
  },
  {
   "cell_type": "code",
   "execution_count": 38,
   "metadata": {},
   "outputs": [
    {
     "name": "stdout",
     "output_type": "stream",
     "text": [
      "3607.8122558607333 {'bootstrap': True, 'max_depth': 20, 'max_features': 'auto', 'n_estimators': 50}\n",
      "3600.862073184064 {'bootstrap': True, 'max_depth': 20, 'max_features': 'auto', 'n_estimators': 66}\n",
      "3599.2307940819414 {'bootstrap': True, 'max_depth': 20, 'max_features': 'auto', 'n_estimators': 83}\n",
      "3596.1484876194822 {'bootstrap': True, 'max_depth': 20, 'max_features': 'auto', 'n_estimators': 100}\n",
      "3594.8643687043864 {'bootstrap': True, 'max_depth': 20, 'max_features': 'auto', 'n_estimators': 116}\n",
      "3594.572837575032 {'bootstrap': True, 'max_depth': 20, 'max_features': 'auto', 'n_estimators': 133}\n",
      "3593.607230223606 {'bootstrap': True, 'max_depth': 20, 'max_features': 'auto', 'n_estimators': 150}\n",
      "3593.5466859919266 {'bootstrap': True, 'max_depth': 20, 'max_features': 'auto', 'n_estimators': 166}\n",
      "3592.8830087106253 {'bootstrap': True, 'max_depth': 20, 'max_features': 'auto', 'n_estimators': 183}\n",
      "3592.2711127689745 {'bootstrap': True, 'max_depth': 20, 'max_features': 'auto', 'n_estimators': 200}\n",
      "3557.822337841402 {'bootstrap': True, 'max_depth': 20, 'max_features': 'sqrt', 'n_estimators': 50}\n",
      "3553.8589249869747 {'bootstrap': True, 'max_depth': 20, 'max_features': 'sqrt', 'n_estimators': 66}\n",
      "3545.1385520606245 {'bootstrap': True, 'max_depth': 20, 'max_features': 'sqrt', 'n_estimators': 83}\n",
      "3546.997578842487 {'bootstrap': True, 'max_depth': 20, 'max_features': 'sqrt', 'n_estimators': 100}\n",
      "3542.958261398149 {'bootstrap': True, 'max_depth': 20, 'max_features': 'sqrt', 'n_estimators': 116}\n",
      "3539.996708078575 {'bootstrap': True, 'max_depth': 20, 'max_features': 'sqrt', 'n_estimators': 133}\n",
      "3540.389370069736 {'bootstrap': True, 'max_depth': 20, 'max_features': 'sqrt', 'n_estimators': 150}\n",
      "3537.817391685495 {'bootstrap': True, 'max_depth': 20, 'max_features': 'sqrt', 'n_estimators': 166}\n",
      "3537.4069904632784 {'bootstrap': True, 'max_depth': 20, 'max_features': 'sqrt', 'n_estimators': 183}\n",
      "3536.0428945453655 {'bootstrap': True, 'max_depth': 20, 'max_features': 'sqrt', 'n_estimators': 200}\n",
      "3753.547473382856 {'bootstrap': True, 'max_depth': 35, 'max_features': 'auto', 'n_estimators': 50}\n",
      "3745.8118278591537 {'bootstrap': True, 'max_depth': 35, 'max_features': 'auto', 'n_estimators': 66}\n",
      "3741.920218493008 {'bootstrap': True, 'max_depth': 35, 'max_features': 'auto', 'n_estimators': 83}\n",
      "3740.8351701262186 {'bootstrap': True, 'max_depth': 35, 'max_features': 'auto', 'n_estimators': 100}\n",
      "3737.494068585468 {'bootstrap': True, 'max_depth': 35, 'max_features': 'auto', 'n_estimators': 116}\n",
      "3735.919884445734 {'bootstrap': True, 'max_depth': 35, 'max_features': 'auto', 'n_estimators': 133}\n",
      "3733.1128214400014 {'bootstrap': True, 'max_depth': 35, 'max_features': 'auto', 'n_estimators': 150}\n",
      "3731.92357129823 {'bootstrap': True, 'max_depth': 35, 'max_features': 'auto', 'n_estimators': 166}\n",
      "3733.093906373788 {'bootstrap': True, 'max_depth': 35, 'max_features': 'auto', 'n_estimators': 183}\n",
      "3730.7122151703124 {'bootstrap': True, 'max_depth': 35, 'max_features': 'auto', 'n_estimators': 200}\n",
      "3804.3429357585205 {'bootstrap': True, 'max_depth': 35, 'max_features': 'sqrt', 'n_estimators': 50}\n",
      "3797.6955336890887 {'bootstrap': True, 'max_depth': 35, 'max_features': 'sqrt', 'n_estimators': 66}\n",
      "3793.4348717349053 {'bootstrap': True, 'max_depth': 35, 'max_features': 'sqrt', 'n_estimators': 83}\n",
      "3788.966732586857 {'bootstrap': True, 'max_depth': 35, 'max_features': 'sqrt', 'n_estimators': 100}\n",
      "3788.512762789394 {'bootstrap': True, 'max_depth': 35, 'max_features': 'sqrt', 'n_estimators': 116}\n",
      "3787.9550790793014 {'bootstrap': True, 'max_depth': 35, 'max_features': 'sqrt', 'n_estimators': 133}\n",
      "3783.235003020753 {'bootstrap': True, 'max_depth': 35, 'max_features': 'sqrt', 'n_estimators': 150}\n",
      "3783.8416999133087 {'bootstrap': True, 'max_depth': 35, 'max_features': 'sqrt', 'n_estimators': 166}\n",
      "3782.6706997680917 {'bootstrap': True, 'max_depth': 35, 'max_features': 'sqrt', 'n_estimators': 183}\n",
      "3781.452326327934 {'bootstrap': True, 'max_depth': 35, 'max_features': 'sqrt', 'n_estimators': 200}\n",
      "3756.4221273933244 {'bootstrap': True, 'max_depth': 50, 'max_features': 'auto', 'n_estimators': 50}\n",
      "3750.590840008179 {'bootstrap': True, 'max_depth': 50, 'max_features': 'auto', 'n_estimators': 66}\n",
      "3743.8847400358577 {'bootstrap': True, 'max_depth': 50, 'max_features': 'auto', 'n_estimators': 83}\n",
      "3741.358577692396 {'bootstrap': True, 'max_depth': 50, 'max_features': 'auto', 'n_estimators': 100}\n",
      "3740.781938833378 {'bootstrap': True, 'max_depth': 50, 'max_features': 'auto', 'n_estimators': 116}\n",
      "3739.7614586274362 {'bootstrap': True, 'max_depth': 50, 'max_features': 'auto', 'n_estimators': 133}\n",
      "3735.3867458732034 {'bootstrap': True, 'max_depth': 50, 'max_features': 'auto', 'n_estimators': 150}\n",
      "3737.0629563494645 {'bootstrap': True, 'max_depth': 50, 'max_features': 'auto', 'n_estimators': 166}\n",
      "3735.0959682982025 {'bootstrap': True, 'max_depth': 50, 'max_features': 'auto', 'n_estimators': 183}\n",
      "3735.1012215859387 {'bootstrap': True, 'max_depth': 50, 'max_features': 'auto', 'n_estimators': 200}\n",
      "3808.9060395089905 {'bootstrap': True, 'max_depth': 50, 'max_features': 'sqrt', 'n_estimators': 50}\n",
      "3801.13009048425 {'bootstrap': True, 'max_depth': 50, 'max_features': 'sqrt', 'n_estimators': 66}\n",
      "3796.932304954632 {'bootstrap': True, 'max_depth': 50, 'max_features': 'sqrt', 'n_estimators': 83}\n",
      "3791.8558540413933 {'bootstrap': True, 'max_depth': 50, 'max_features': 'sqrt', 'n_estimators': 100}\n",
      "3788.998812377424 {'bootstrap': True, 'max_depth': 50, 'max_features': 'sqrt', 'n_estimators': 116}\n",
      "3788.6519741788334 {'bootstrap': True, 'max_depth': 50, 'max_features': 'sqrt', 'n_estimators': 133}\n",
      "3787.06247997918 {'bootstrap': True, 'max_depth': 50, 'max_features': 'sqrt', 'n_estimators': 150}\n",
      "3783.9197597181665 {'bootstrap': True, 'max_depth': 50, 'max_features': 'sqrt', 'n_estimators': 166}\n",
      "3783.516320327711 {'bootstrap': True, 'max_depth': 50, 'max_features': 'sqrt', 'n_estimators': 183}\n",
      "3784.71932457724 {'bootstrap': True, 'max_depth': 50, 'max_features': 'sqrt', 'n_estimators': 200}\n",
      "3753.5343383858985 {'bootstrap': True, 'max_depth': None, 'max_features': 'auto', 'n_estimators': 50}\n",
      "3750.658027917538 {'bootstrap': True, 'max_depth': None, 'max_features': 'auto', 'n_estimators': 66}\n",
      "3745.330393763403 {'bootstrap': True, 'max_depth': None, 'max_features': 'auto', 'n_estimators': 83}\n",
      "3742.6015583695403 {'bootstrap': True, 'max_depth': None, 'max_features': 'auto', 'n_estimators': 100}\n",
      "3741.607931359642 {'bootstrap': True, 'max_depth': None, 'max_features': 'auto', 'n_estimators': 116}\n",
      "3736.9857004886962 {'bootstrap': True, 'max_depth': None, 'max_features': 'auto', 'n_estimators': 133}\n",
      "3736.6741980665925 {'bootstrap': True, 'max_depth': None, 'max_features': 'auto', 'n_estimators': 150}\n",
      "3735.1386546696335 {'bootstrap': True, 'max_depth': None, 'max_features': 'auto', 'n_estimators': 166}\n",
      "3735.0096114088287 {'bootstrap': True, 'max_depth': None, 'max_features': 'auto', 'n_estimators': 183}\n",
      "3734.106320357959 {'bootstrap': True, 'max_depth': None, 'max_features': 'auto', 'n_estimators': 200}\n",
      "3808.6327615228347 {'bootstrap': True, 'max_depth': None, 'max_features': 'sqrt', 'n_estimators': 50}\n",
      "3799.265404294639 {'bootstrap': True, 'max_depth': None, 'max_features': 'sqrt', 'n_estimators': 66}\n",
      "3796.5822604628797 {'bootstrap': True, 'max_depth': None, 'max_features': 'sqrt', 'n_estimators': 83}\n",
      "3791.6386301750385 {'bootstrap': True, 'max_depth': None, 'max_features': 'sqrt', 'n_estimators': 100}\n",
      "3791.0472977308013 {'bootstrap': True, 'max_depth': None, 'max_features': 'sqrt', 'n_estimators': 116}\n",
      "3788.389709403159 {'bootstrap': True, 'max_depth': None, 'max_features': 'sqrt', 'n_estimators': 133}\n",
      "3786.6017491437456 {'bootstrap': True, 'max_depth': None, 'max_features': 'sqrt', 'n_estimators': 150}\n",
      "3784.320428707902 {'bootstrap': True, 'max_depth': None, 'max_features': 'sqrt', 'n_estimators': 166}\n",
      "3785.3541695218532 {'bootstrap': True, 'max_depth': None, 'max_features': 'sqrt', 'n_estimators': 183}\n",
      "3784.251141937788 {'bootstrap': True, 'max_depth': None, 'max_features': 'sqrt', 'n_estimators': 200}\n",
      "4238.658952866268 {'bootstrap': False, 'max_depth': 20, 'max_features': 'auto', 'n_estimators': 50}\n",
      "4238.694854307258 {'bootstrap': False, 'max_depth': 20, 'max_features': 'auto', 'n_estimators': 66}\n",
      "4238.8799729809025 {'bootstrap': False, 'max_depth': 20, 'max_features': 'auto', 'n_estimators': 83}\n",
      "4238.316782170111 {'bootstrap': False, 'max_depth': 20, 'max_features': 'auto', 'n_estimators': 100}\n",
      "4238.55124556753 {'bootstrap': False, 'max_depth': 20, 'max_features': 'auto', 'n_estimators': 116}\n",
      "4238.3641674537475 {'bootstrap': False, 'max_depth': 20, 'max_features': 'auto', 'n_estimators': 133}\n",
      "4238.587377802458 {'bootstrap': False, 'max_depth': 20, 'max_features': 'auto', 'n_estimators': 150}\n",
      "4238.373285696543 {'bootstrap': False, 'max_depth': 20, 'max_features': 'auto', 'n_estimators': 166}\n",
      "4238.279991607828 {'bootstrap': False, 'max_depth': 20, 'max_features': 'auto', 'n_estimators': 183}\n",
      "4237.868211854493 {'bootstrap': False, 'max_depth': 20, 'max_features': 'auto', 'n_estimators': 200}\n",
      "3594.127826867847 {'bootstrap': False, 'max_depth': 20, 'max_features': 'sqrt', 'n_estimators': 50}\n",
      "3592.6037122327366 {'bootstrap': False, 'max_depth': 20, 'max_features': 'sqrt', 'n_estimators': 66}\n",
      "3588.389275126486 {'bootstrap': False, 'max_depth': 20, 'max_features': 'sqrt', 'n_estimators': 83}\n",
      "3584.4225402921497 {'bootstrap': False, 'max_depth': 20, 'max_features': 'sqrt', 'n_estimators': 100}\n",
      "3585.849424132455 {'bootstrap': False, 'max_depth': 20, 'max_features': 'sqrt', 'n_estimators': 116}\n",
      "3581.562897025264 {'bootstrap': False, 'max_depth': 20, 'max_features': 'sqrt', 'n_estimators': 133}\n",
      "3580.9129793834004 {'bootstrap': False, 'max_depth': 20, 'max_features': 'sqrt', 'n_estimators': 150}\n",
      "3582.15499727015 {'bootstrap': False, 'max_depth': 20, 'max_features': 'sqrt', 'n_estimators': 166}\n",
      "3579.7350458564383 {'bootstrap': False, 'max_depth': 20, 'max_features': 'sqrt', 'n_estimators': 183}\n",
      "3579.577453710313 {'bootstrap': False, 'max_depth': 20, 'max_features': 'sqrt', 'n_estimators': 200}\n",
      "4806.297018300785 {'bootstrap': False, 'max_depth': 35, 'max_features': 'auto', 'n_estimators': 50}\n",
      "4806.275747633072 {'bootstrap': False, 'max_depth': 35, 'max_features': 'auto', 'n_estimators': 66}\n",
      "4805.414699991769 {'bootstrap': False, 'max_depth': 35, 'max_features': 'auto', 'n_estimators': 83}\n",
      "4804.88765237084 {'bootstrap': False, 'max_depth': 35, 'max_features': 'auto', 'n_estimators': 100}\n",
      "4805.143577407963 {'bootstrap': False, 'max_depth': 35, 'max_features': 'auto', 'n_estimators': 116}\n",
      "4805.417451428846 {'bootstrap': False, 'max_depth': 35, 'max_features': 'auto', 'n_estimators': 133}\n",
      "4805.0693529536475 {'bootstrap': False, 'max_depth': 35, 'max_features': 'auto', 'n_estimators': 150}\n",
      "4805.0299523266385 {'bootstrap': False, 'max_depth': 35, 'max_features': 'auto', 'n_estimators': 166}\n",
      "4805.196912271207 {'bootstrap': False, 'max_depth': 35, 'max_features': 'auto', 'n_estimators': 183}\n",
      "4804.943344753502 {'bootstrap': False, 'max_depth': 35, 'max_features': 'auto', 'n_estimators': 200}\n",
      "4179.6611151287225 {'bootstrap': False, 'max_depth': 35, 'max_features': 'sqrt', 'n_estimators': 50}\n",
      "4176.049545079575 {'bootstrap': False, 'max_depth': 35, 'max_features': 'sqrt', 'n_estimators': 66}\n",
      "4171.234460233587 {'bootstrap': False, 'max_depth': 35, 'max_features': 'sqrt', 'n_estimators': 83}\n",
      "4168.295312281291 {'bootstrap': False, 'max_depth': 35, 'max_features': 'sqrt', 'n_estimators': 100}\n",
      "4169.329885733208 {'bootstrap': False, 'max_depth': 35, 'max_features': 'sqrt', 'n_estimators': 116}\n",
      "4167.065534625524 {'bootstrap': False, 'max_depth': 35, 'max_features': 'sqrt', 'n_estimators': 133}\n",
      "4166.1148919263715 {'bootstrap': False, 'max_depth': 35, 'max_features': 'sqrt', 'n_estimators': 150}\n",
      "4166.978284937625 {'bootstrap': False, 'max_depth': 35, 'max_features': 'sqrt', 'n_estimators': 166}\n",
      "4164.905059573978 {'bootstrap': False, 'max_depth': 35, 'max_features': 'sqrt', 'n_estimators': 183}\n",
      "4165.651644693738 {'bootstrap': False, 'max_depth': 35, 'max_features': 'sqrt', 'n_estimators': 200}\n",
      "4820.087527585652 {'bootstrap': False, 'max_depth': 50, 'max_features': 'auto', 'n_estimators': 50}\n",
      "4819.617908370033 {'bootstrap': False, 'max_depth': 50, 'max_features': 'auto', 'n_estimators': 66}\n",
      "4819.212178744959 {'bootstrap': False, 'max_depth': 50, 'max_features': 'auto', 'n_estimators': 83}\n",
      "4819.257188051285 {'bootstrap': False, 'max_depth': 50, 'max_features': 'auto', 'n_estimators': 100}\n",
      "4818.7189801832865 {'bootstrap': False, 'max_depth': 50, 'max_features': 'auto', 'n_estimators': 116}\n",
      "4818.70929985247 {'bootstrap': False, 'max_depth': 50, 'max_features': 'auto', 'n_estimators': 133}\n",
      "4818.809611929826 {'bootstrap': False, 'max_depth': 50, 'max_features': 'auto', 'n_estimators': 150}\n",
      "4818.3630002135 {'bootstrap': False, 'max_depth': 50, 'max_features': 'auto', 'n_estimators': 166}\n",
      "4818.756366837482 {'bootstrap': False, 'max_depth': 50, 'max_features': 'auto', 'n_estimators': 183}\n",
      "4818.62529379465 {'bootstrap': False, 'max_depth': 50, 'max_features': 'auto', 'n_estimators': 200}\n",
      "4188.096285109008 {'bootstrap': False, 'max_depth': 50, 'max_features': 'sqrt', 'n_estimators': 50}\n",
      "4184.2555708484215 {'bootstrap': False, 'max_depth': 50, 'max_features': 'sqrt', 'n_estimators': 66}\n",
      "4182.101209625454 {'bootstrap': False, 'max_depth': 50, 'max_features': 'sqrt', 'n_estimators': 83}\n",
      "4178.554760926158 {'bootstrap': False, 'max_depth': 50, 'max_features': 'sqrt', 'n_estimators': 100}\n",
      "4177.90073741967 {'bootstrap': False, 'max_depth': 50, 'max_features': 'sqrt', 'n_estimators': 116}\n",
      "4176.654593265411 {'bootstrap': False, 'max_depth': 50, 'max_features': 'sqrt', 'n_estimators': 133}\n",
      "4174.007521452672 {'bootstrap': False, 'max_depth': 50, 'max_features': 'sqrt', 'n_estimators': 150}\n",
      "4175.161046321752 {'bootstrap': False, 'max_depth': 50, 'max_features': 'sqrt', 'n_estimators': 166}\n",
      "4175.461475062768 {'bootstrap': False, 'max_depth': 50, 'max_features': 'sqrt', 'n_estimators': 183}\n",
      "4174.323541719684 {'bootstrap': False, 'max_depth': 50, 'max_features': 'sqrt', 'n_estimators': 200}\n",
      "4819.505756700598 {'bootstrap': False, 'max_depth': None, 'max_features': 'auto', 'n_estimators': 50}\n",
      "4819.397844850221 {'bootstrap': False, 'max_depth': None, 'max_features': 'auto', 'n_estimators': 66}\n",
      "4818.7171799750295 {'bootstrap': False, 'max_depth': None, 'max_features': 'auto', 'n_estimators': 83}\n",
      "4818.218436119804 {'bootstrap': False, 'max_depth': None, 'max_features': 'auto', 'n_estimators': 100}\n",
      "4818.490947021433 {'bootstrap': False, 'max_depth': None, 'max_features': 'auto', 'n_estimators': 116}\n",
      "4818.54494400313 {'bootstrap': False, 'max_depth': None, 'max_features': 'auto', 'n_estimators': 133}\n",
      "4818.851684638203 {'bootstrap': False, 'max_depth': None, 'max_features': 'auto', 'n_estimators': 150}\n",
      "4818.616199280888 {'bootstrap': False, 'max_depth': None, 'max_features': 'auto', 'n_estimators': 166}\n",
      "4818.861401741438 {'bootstrap': False, 'max_depth': None, 'max_features': 'auto', 'n_estimators': 183}\n",
      "4818.345784804777 {'bootstrap': False, 'max_depth': None, 'max_features': 'auto', 'n_estimators': 200}\n",
      "4188.774302508229 {'bootstrap': False, 'max_depth': None, 'max_features': 'sqrt', 'n_estimators': 50}\n",
      "4185.108757446591 {'bootstrap': False, 'max_depth': None, 'max_features': 'sqrt', 'n_estimators': 66}\n",
      "4182.067914233181 {'bootstrap': False, 'max_depth': None, 'max_features': 'sqrt', 'n_estimators': 83}\n",
      "4178.604995545026 {'bootstrap': False, 'max_depth': None, 'max_features': 'sqrt', 'n_estimators': 100}\n",
      "4177.102405366771 {'bootstrap': False, 'max_depth': None, 'max_features': 'sqrt', 'n_estimators': 116}\n",
      "4175.898673660674 {'bootstrap': False, 'max_depth': None, 'max_features': 'sqrt', 'n_estimators': 133}\n",
      "4176.871435684469 {'bootstrap': False, 'max_depth': None, 'max_features': 'sqrt', 'n_estimators': 150}\n",
      "4174.2711877996035 {'bootstrap': False, 'max_depth': None, 'max_features': 'sqrt', 'n_estimators': 166}\n",
      "4176.154658893511 {'bootstrap': False, 'max_depth': None, 'max_features': 'sqrt', 'n_estimators': 183}\n",
      "4173.899392607847 {'bootstrap': False, 'max_depth': None, 'max_features': 'sqrt', 'n_estimators': 200}\n"
     ]
    }
   ],
   "source": [
    "cvres = grid_search_forest.cv_results_\n",
    "for mean_score, params in zip(cvres[\"mean_test_score\"], cvres[\"params\"]):\n",
    "    print(np.sqrt(-mean_score), params)"
   ]
  },
  {
   "cell_type": "markdown",
   "metadata": {},
   "source": [
    "- Visualizar el mejor modelo a partir de la Grid Search"
   ]
  },
  {
   "cell_type": "code",
   "execution_count": 39,
   "metadata": {},
   "outputs": [
    {
     "data": {
      "text/plain": [
       "RandomForestRegressor(bootstrap=True, criterion='mse', max_depth=20,\n",
       "           max_features='sqrt', max_leaf_nodes=None,\n",
       "           min_impurity_decrease=0.0, min_impurity_split=None,\n",
       "           min_samples_leaf=1, min_samples_split=2,\n",
       "           min_weight_fraction_leaf=0.0, n_estimators=200, n_jobs=-1,\n",
       "           oob_score=False, random_state=None, verbose=0, warm_start=False)"
      ]
     },
     "execution_count": 39,
     "metadata": {},
     "output_type": "execute_result"
    }
   ],
   "source": [
    "grid_search_forest.best_estimator_"
   ]
  },
  {
   "cell_type": "code",
   "execution_count": 40,
   "metadata": {},
   "outputs": [
    {
     "name": "stdout",
     "output_type": "stream",
     "text": [
      "El mejor modelo de Grid Search tiene una precisión de 88.74 %\n"
     ]
    }
   ],
   "source": [
    "# Metricas de desempeño\n",
    "grid_best= grid_search_forest.best_estimator_.predict(X_test)\n",
    "errors = abs(grid_best - y_test)\n",
    "\n",
    "# Calcular el porcentaje de error absoluto (MAPE)\n",
    "mape = np.mean(100 * (errors / y_test))\n",
    "\n",
    "# Calcular el accuracy\n",
    "accuracy = 100 - mape\n",
    "\n",
    "print('El mejor modelo de Grid Search tiene una precisión de', round(accuracy, 2),'%')"
   ]
  },
  {
   "cell_type": "code",
   "execution_count": 41,
   "metadata": {},
   "outputs": [
    {
     "name": "stdout",
     "output_type": "stream",
     "text": [
      "El mejor modelo de Grid Search tiene un RMSE de 3606.69\n"
     ]
    }
   ],
   "source": [
    "#RMSE\n",
    "\n",
    "grid_mse = mean_squared_error(y_test, grid_best)\n",
    "grid_rmse = np.sqrt(grid_mse)\n",
    "print('El mejor modelo de Grid Search tiene un RMSE de', round(grid_rmse, 2))"
   ]
  },
  {
   "cell_type": "markdown",
   "metadata": {},
   "source": [
    "### Búsqueda aleatoria"
   ]
  },
  {
   "cell_type": "markdown",
   "metadata": {},
   "source": [
    "- La búsqueda del Grid Search es demasiado costoso en tiempo de máquina, ya que se prueban muchas combinaciones. Se prueba una búsqueda aleatoria, que evalúa solo un número definido de combinaciones aleatorias para cada hiperparámetro en cada iteración."
   ]
  },
  {
   "cell_type": "code",
   "execution_count": 7,
   "metadata": {},
   "outputs": [
    {
     "name": "stdout",
     "output_type": "stream",
     "text": [
      "{'max_depth': [20, 21, 23],\n",
      " 'max_features': ['auto', 'sqrt'],\n",
      " 'min_samples_split': [2, 10],\n",
      " 'n_estimators': [50, 125, 200]}\n"
     ]
    }
   ],
   "source": [
    "# Número de arboles en el random forest\n",
    "n_estimators = [int(x) for x in np.linspace(start = 50, stop = 200, num = 3)]\n",
    "# número máximo de funciones consideradas para dividir un nodo\n",
    "max_features = ['auto', 'sqrt']\n",
    "# número máximo de niveles en cada árbol de decisión\n",
    "max_depth = [int(x) for x in np.linspace(20, 23, num = 3)]\n",
    "# número mínimo de puntos de datos colocados en un nodo antes de dividir el nodo\n",
    "min_samples_split = [2, 10]\n",
    "\n",
    "# Crear el random grid\n",
    "random_grid = {'n_estimators': n_estimators,\n",
    "               'max_features': max_features,\n",
    "               'max_depth': max_depth,\n",
    "               'min_samples_split': min_samples_split}\n",
    "\n",
    "pprint(random_grid)"
   ]
  },
  {
   "cell_type": "markdown",
   "metadata": {},
   "source": [
    "- Se usa la \"grid\" aleatoria para buscar los mejores parámetros."
   ]
  },
  {
   "cell_type": "code",
   "execution_count": 9,
   "metadata": {},
   "outputs": [
    {
     "name": "stdout",
     "output_type": "stream",
     "text": [
      "Fitting 2 folds for each of 10 candidates, totalling 20 fits\n"
     ]
    },
    {
     "name": "stderr",
     "output_type": "stream",
     "text": [
      "[Parallel(n_jobs=-1)]: Done  20 out of  20 | elapsed: 63.3min finished\n"
     ]
    },
    {
     "data": {
      "text/plain": [
       "RandomizedSearchCV(cv=2, error_score='raise',\n",
       "          estimator=RandomForestRegressor(bootstrap=True, criterion='mse', max_depth=None,\n",
       "           max_features='auto', max_leaf_nodes=None,\n",
       "           min_impurity_decrease=0.0, min_impurity_split=None,\n",
       "           min_samples_leaf=1, min_samples_split=2,\n",
       "           min_weight_fraction_leaf=0.0, n_estimators=10, n_jobs=-1,\n",
       "           oob_score=False, random_state=None, verbose=0, warm_start=False),\n",
       "          fit_params=None, iid=True, n_iter=10, n_jobs=-1,\n",
       "          param_distributions={'n_estimators': [50, 125, 200], 'max_features': ['auto', 'sqrt'], 'max_depth': [20, 21, 23], 'min_samples_split': [2, 10]},\n",
       "          pre_dispatch='2*n_jobs', random_state=42, refit=True,\n",
       "          return_train_score='warn', scoring='neg_mean_squared_error',\n",
       "          verbose=2)"
      ]
     },
     "execution_count": 9,
     "metadata": {},
     "output_type": "execute_result"
    }
   ],
   "source": [
    "# Búsqueda aleatoria de parámetros, utilizando 3 veces la validación cruzada\n",
    "# Busca en 100 combinaciones diferentes y usa todos los núcleos disponibles\n",
    "\n",
    "rf_random = RandomizedSearchCV(estimator = forest, param_distributions = random_grid, n_iter = 10, cv = 2, verbose=2, random_state=42, n_jobs = -1, scoring='neg_mean_squared_error')\n",
    "\n",
    "# Ajustar el modelo de búsqueda aleatoria.\n",
    "rf_random.fit(X_train, y_train)"
   ]
  },
  {
   "cell_type": "markdown",
   "metadata": {},
   "source": [
    "- Visualización del cambio del RMSE para cada configuración de parámetro"
   ]
  },
  {
   "cell_type": "code",
   "execution_count": 10,
   "metadata": {},
   "outputs": [
    {
     "name": "stdout",
     "output_type": "stream",
     "text": [
      "3657.0456413250968 {'n_estimators': 200, 'min_samples_split': 10, 'max_features': 'sqrt', 'max_depth': 23}\n",
      "3691.996985401381 {'n_estimators': 125, 'min_samples_split': 2, 'max_features': 'auto', 'max_depth': 21}\n",
      "3723.0725625640957 {'n_estimators': 200, 'min_samples_split': 2, 'max_features': 'auto', 'max_depth': 23}\n",
      "3755.662949402274 {'n_estimators': 50, 'min_samples_split': 2, 'max_features': 'sqrt', 'max_depth': 23}\n",
      "3634.7022047263067 {'n_estimators': 125, 'min_samples_split': 10, 'max_features': 'auto', 'max_depth': 21}\n",
      "3728.0553441937004 {'n_estimators': 125, 'min_samples_split': 2, 'max_features': 'sqrt', 'max_depth': 23}\n",
      "3664.892076356276 {'n_estimators': 50, 'min_samples_split': 10, 'max_features': 'sqrt', 'max_depth': 21}\n",
      "3710.8958519433427 {'n_estimators': 50, 'min_samples_split': 2, 'max_features': 'auto', 'max_depth': 21}\n",
      "3629.834057501125 {'n_estimators': 200, 'min_samples_split': 2, 'max_features': 'sqrt', 'max_depth': 20}\n",
      "3629.6191813848236 {'n_estimators': 200, 'min_samples_split': 10, 'max_features': 'auto', 'max_depth': 21}\n"
     ]
    }
   ],
   "source": [
    "cvres2 = rf_random.cv_results_\n",
    "for mean_score, params in zip(cvres2[\"mean_test_score\"], cvres2[\"params\"]):\n",
    "    print(np.sqrt(-mean_score), params)"
   ]
  },
  {
   "cell_type": "markdown",
   "metadata": {},
   "source": [
    "- Mejor modelo aleatorio"
   ]
  },
  {
   "cell_type": "code",
   "execution_count": 11,
   "metadata": {},
   "outputs": [
    {
     "data": {
      "text/plain": [
       "RandomForestRegressor(bootstrap=True, criterion='mse', max_depth=21,\n",
       "           max_features='auto', max_leaf_nodes=None,\n",
       "           min_impurity_decrease=0.0, min_impurity_split=None,\n",
       "           min_samples_leaf=1, min_samples_split=10,\n",
       "           min_weight_fraction_leaf=0.0, n_estimators=200, n_jobs=-1,\n",
       "           oob_score=False, random_state=None, verbose=0, warm_start=False)"
      ]
     },
     "execution_count": 11,
     "metadata": {},
     "output_type": "execute_result"
    }
   ],
   "source": [
    "rf_random.best_estimator_"
   ]
  },
  {
   "cell_type": "markdown",
   "metadata": {},
   "source": [
    "- Mejor combinación de parametros según la busqueda aleatoria"
   ]
  },
  {
   "cell_type": "code",
   "execution_count": 12,
   "metadata": {},
   "outputs": [
    {
     "data": {
      "text/plain": [
       "{'n_estimators': 200,\n",
       " 'min_samples_split': 10,\n",
       " 'max_features': 'auto',\n",
       " 'max_depth': 21}"
      ]
     },
     "execution_count": 12,
     "metadata": {},
     "output_type": "execute_result"
    }
   ],
   "source": [
    "rf_random.best_params_"
   ]
  },
  {
   "cell_type": "markdown",
   "metadata": {},
   "source": [
    "- Se evaluan las métricas de rendimiento de el mejor modelo encontrado: MAPE y RMSE."
   ]
  },
  {
   "cell_type": "code",
   "execution_count": 13,
   "metadata": {},
   "outputs": [
    {
     "name": "stdout",
     "output_type": "stream",
     "text": [
      "El mejor modelo de Grid Search tiene una precisión de 88.81 %\n"
     ]
    }
   ],
   "source": [
    "# Metricas de desempeño (MAPE)\n",
    "random_best= rf_random.best_estimator_.predict(X_test)\n",
    "errors = abs(random_best - y_test)\n",
    "\n",
    "# Calcular el porcentaje de error absoluto (MAPE)\n",
    "mape = np.mean(100 * (errors / y_test))\n",
    "\n",
    "# Calcular el accuracy\n",
    "accuracy = 100 - mape\n",
    "\n",
    "print('El mejor modelo de Grid Search tiene una precisión de', round(accuracy, 2),'%')"
   ]
  },
  {
   "cell_type": "code",
   "execution_count": 21,
   "metadata": {},
   "outputs": [
    {
     "name": "stdout",
     "output_type": "stream",
     "text": [
      "El mejor modelo de Grid Search tiene un RMSE de 3629.59\n"
     ]
    }
   ],
   "source": [
    "#RMSE\n",
    "\n",
    "final_mse = mean_squared_error(y_test, random_best)\n",
    "final_rmse = np.sqrt(final_mse)\n",
    "print('El mejor modelo de Grid Search tiene un RMSE de', round(final_rmse, 2))"
   ]
  },
  {
   "cell_type": "markdown",
   "metadata": {},
   "source": [
    "- En conclusión, para este caso la busqueda aleatoria tiene mejores metricas que la de la grid."
   ]
  },
  {
   "cell_type": "markdown",
   "metadata": {},
   "source": [
    "### Importancia de las características"
   ]
  },
  {
   "cell_type": "code",
   "execution_count": 15,
   "metadata": {},
   "outputs": [
    {
     "name": "stdout",
     "output_type": "stream",
     "text": [
      "    importance   feature\n",
      "0     0.272623      Year\n",
      "1     0.109696   Mileage\n",
      "2     0.068510    Make_3\n",
      "3     0.060557    Make_6\n",
      "4     0.050263    Make_4\n",
      "5     0.047390   Model_6\n",
      "6     0.046098   Model_2\n",
      "7     0.044199   Model_9\n",
      "8     0.043297  Model_10\n",
      "9     0.038289   Model_8\n",
      "10    0.037965   Model_5\n",
      "11    0.036527   Model_3\n",
      "12    0.033647   Model_7\n",
      "13    0.033429    Make_2\n",
      "14    0.029968   Model_4\n",
      "15    0.026524    Make_5\n",
      "16    0.004041    Make_1\n",
      "17    0.002883   Model_1\n",
      "18    0.002656   State_6\n",
      "19    0.002573   State_3\n",
      "20    0.002311   State_5\n",
      "21    0.002294   State_4\n",
      "22    0.002286   State_2\n",
      "23    0.001974   State_1\n",
      "24    0.000000   State_0\n",
      "25    0.000000   Model_0\n",
      "26    0.000000    Make_0\n"
     ]
    }
   ],
   "source": [
    "# Extraer los valores numéricos de importancia de la características de la grid search\n",
    "importances = rf_random.best_estimator_.feature_importances_\n",
    "\n",
    "#Crear una lista de características del conjunto de datos original (lista de columnas)\n",
    "feature_list = list(X.columns)\n",
    "\n",
    "#Crear una lista de tuplas\n",
    "feature_importance= sorted(zip(importances, feature_list), reverse=True)\n",
    "\n",
    "#Crear dos listas de la lista anterior de tuplas\n",
    "df = pd.DataFrame(feature_importance, columns=['importance', 'feature'])\n",
    "importance= list(df['importance'])\n",
    "feature= list(df['feature'])\n",
    "\n",
    "print(df)"
   ]
  },
  {
   "cell_type": "code",
   "execution_count": 18,
   "metadata": {},
   "outputs": [
    {
     "data": {
      "image/png": "[encoded data removed]",
      "text/plain": [
       "<Figure size 1080x720 with 1 Axes>"
      ]
     },
     "metadata": {},
     "output_type": "display_data"
    }
   ],
   "source": [
    "plt.style.use('bmh')\n",
    "\n",
    "x_values = list(range(len(feature_importance)))\n",
    "\n",
    "plt.figure(figsize=(15,10))\n",
    "plt.bar(x_values, importance, orientation = 'vertical')\n",
    "plt.xticks(x_values, feature, rotation='vertical')\n",
    "\n",
    "plt.ylabel('Importancia'); plt.xlabel('Variable'); plt.title('Importancia de variables');"
   ]
  },
  {
   "cell_type": "markdown",
   "metadata": {},
   "source": [
    "- Las mejores características para predecir de manera confiable el precio de una auto usado son el año y las millas de recorrido"
   ]
  },
  {
   "cell_type": "markdown",
   "metadata": {},
   "source": [
    "### Evaluar el mejor modelo en el test set"
   ]
  },
  {
   "cell_type": "code",
   "execution_count": 19,
   "metadata": {},
   "outputs": [
    {
     "name": "stdout",
     "output_type": "stream",
     "text": [
      "El RMSE final en los datos de test es 3629.59\n"
     ]
    }
   ],
   "source": [
    "final_model = rf_random.best_estimator_\n",
    "\n",
    "# Predecir en los datos de test\n",
    "final_pred = final_model.predict(X_test)\n",
    "final_mse = mean_squared_error(y_test, final_pred)\n",
    "final_rmse = np.sqrt(final_mse)\n",
    "print('El RMSE final en los datos de test es', round(final_rmse, 2))"
   ]
  },
  {
   "cell_type": "code",
   "execution_count": 20,
   "metadata": {},
   "outputs": [
    {
     "name": "stdout",
     "output_type": "stream",
     "text": [
      "El mejor modelo logrado en la prueba establece una precisión de 88.81 %\n"
     ]
    }
   ],
   "source": [
    "#Calcular el accuracy\n",
    "errors = abs(final_pred - y_test)\n",
    "\n",
    "# Calcular el porcentaje de error absoluto (MAPE)\n",
    "mape = np.mean(100 * (errors / y_test))\n",
    "\n",
    "accuracy = 100 - mape    \n",
    "\n",
    "print('El mejor modelo logrado en la prueba establece una precisión de', round(accuracy, 2),'%')"
   ]
  },
  {
   "cell_type": "markdown",
   "metadata": {},
   "source": [
    "### Probando otros modelos ..."
   ]
  },
  {
   "cell_type": "code",
   "execution_count": 36,
   "metadata": {},
   "outputs": [
    {
     "name": "stdout",
     "output_type": "stream",
     "text": [
      "9641.806146755966\n"
     ]
    }
   ],
   "source": [
    "knn = neighbors.KNeighborsRegressor(n_neighbors=6).fit(X_train, y_train)\n",
    "\n",
    "y_pred = knn.predict(X_test)\n",
    "print(np.sqrt(metrics.mean_squared_error(y_test, y_pred)))"
   ]
  },
  {
   "cell_type": "code",
   "execution_count": 22,
   "metadata": {},
   "outputs": [
    {
     "name": "stdout",
     "output_type": "stream",
     "text": [
      "3639.5116184019935\n"
     ]
    }
   ],
   "source": [
    "regr = RandomForestRegressor(\n",
    "    random_state=42,\n",
    "    n_jobs = -1, \n",
    "    n_estimators=65, \n",
    "    min_samples_split=10, \n",
    "    max_depth=23, \n",
    "    max_features='sqrt',\n",
    "    #min_samples_leaf=2,\n",
    "    bootstrap=True).fit(X_train, y_train)\n",
    "\n",
    "y_pred = regr.predict(X_test)\n",
    "print(np.sqrt(metrics.mean_squared_error(y_test, y_pred)))"
   ]
  },
  {
   "cell_type": "code",
   "execution_count": 23,
   "metadata": {},
   "outputs": [
    {
     "name": "stdout",
     "output_type": "stream",
     "text": [
      "3625.1480258645165\n"
     ]
    }
   ],
   "source": [
    "regr = RandomForestRegressor(\n",
    "    random_state=42,\n",
    "    n_jobs = -1, \n",
    "    n_estimators=400, \n",
    "    min_samples_split=20, \n",
    "    max_depth=23, \n",
    "    max_features='auto',\n",
    "    #min_samples_leaf=2,\n",
    "    bootstrap=True).fit(X_train, y_train)\n",
    "\n",
    "y_pred = regr.predict(X_test)\n",
    "print(np.sqrt(metrics.mean_squared_error(y_test, y_pred)))"
   ]
  },
  {
   "cell_type": "code",
   "execution_count": 5,
   "metadata": {},
   "outputs": [
    {
     "name": "stdout",
     "output_type": "stream",
     "text": [
      "3658.8100997497518\n"
     ]
    }
   ],
   "source": [
    "regr = RandomForestRegressor(\n",
    "    random_state=42,\n",
    "    n_jobs = -1, \n",
    "    n_estimators=65, \n",
    "    min_samples_split=10, \n",
    "    max_depth=20, \n",
    "    max_features='sqrt',\n",
    "    #min_samples_leaf=2,\n",
    "    bootstrap=True).fit(X_train, y_train)\n",
    "\n",
    "y_pred = regr.predict(X_test)\n",
    "print(np.sqrt(metrics.mean_squared_error(y_test, y_pred)))"
   ]
  },
  {
   "cell_type": "code",
   "execution_count": 27,
   "metadata": {},
   "outputs": [
    {
     "name": "stdout",
     "output_type": "stream",
     "text": [
      "3605.1327758835982\n"
     ]
    }
   ],
   "source": [
    "regr = RandomForestRegressor(\n",
    "    n_estimators=322,\n",
    "    min_samples_split=2,\n",
    "    max_depth=20,\n",
    "    max_features='sqrt',\n",
    "    bootstrap=True,\n",
    "    min_samples_leaf=1,\n",
    "    random_state=None,\n",
    "    criterion='mse', \n",
    "    max_leaf_nodes=None,\n",
    "    min_impurity_decrease=0.0,\n",
    "    min_impurity_split=None,\n",
    "    min_weight_fraction_leaf=0.0,\n",
    "    n_jobs=-1,\n",
    "    oob_score=False,\n",
    "    verbose=0, \n",
    "    warm_start=False).fit(X_train, y_train)\n",
    "\n",
    "y_pred = regr.predict(X_test)\n",
    "print(np.sqrt(metrics.mean_squared_error(y_test, y_pred)))"
   ]
  },
  {
   "cell_type": "markdown",
   "metadata": {},
   "source": [
    "### Visualizar hiperparámetros del Random Forest"
   ]
  },
  {
   "cell_type": "markdown",
   "metadata": {},
   "source": [
    "- max_depth\n",
    "    + Max_depth indica qué tan profundo puede ser el árbol. Cuanto más profundo es el árbol, más divisiones tiene y captura más información sobre los datos. Se compara el resultado del entrenamiento con el tets."
   ]
  },
  {
   "cell_type": "code",
   "execution_count": 24,
   "metadata": {},
   "outputs": [
    {
     "data": {
      "text/plain": [
       "Text(0.5,0,'Tree depth')"
      ]
     },
     "execution_count": 24,
     "metadata": {},
     "output_type": "execute_result"
    },
    {
     "data": {
      "image/png": "[encoded data removed]",
      "text/plain": [
       "<Figure size 432x288 with 1 Axes>"
      ]
     },
     "metadata": {},
     "output_type": "display_data"
    }
   ],
   "source": [
    "max_depths = np.linspace(1, 23, 23, endpoint=True)\n",
    "\n",
    "train_results = []\n",
    "test_results = []\n",
    "\n",
    "for i in max_depths:\n",
    "    dt = RandomForestRegressor(max_depth=i)\n",
    "    dt.fit(X_train, y_train)    \n",
    "  \n",
    "    housing_tree = dt.predict(X_train)\n",
    "    errors = abs(housing_tree - y_train)\n",
    "    # Calcular el porcentaje de error absoluto (MAPE)\n",
    "    mape = 100 * (errors / y_train)\n",
    "    # Calcular el accuracy\n",
    "    accuracy = 100 - np.mean(mape)\n",
    " \n",
    "    train_results.append(accuracy)\n",
    "    \n",
    "   \n",
    "    housing_tree = dt.predict(X_test)\n",
    "    errors = abs(housing_tree - y_test)\n",
    "    # Calcular el porcentaje de error absoluto (MAPE)\n",
    "    mape = 100 * (errors / y_test)\n",
    "     # Calcular el accuracy\n",
    "    accuracy = 100 - np.mean(mape)\n",
    "    \n",
    "    test_results.append(accuracy)\n",
    "    \n",
    "\n",
    "line1, = plt.plot(max_depths, train_results, 'b', label='Train accuracy')\n",
    "line2, = plt.plot(max_depths, test_results, 'r', label= 'Test accuracy')\n",
    "\n",
    "plt.legend(handler_map={line1: HandlerLine2D(numpoints=2)})\n",
    "plt.ylabel('Accuracy score')\n",
    "plt.xlabel('Tree depth')"
   ]
  },
  {
   "cell_type": "markdown",
   "metadata": {},
   "source": [
    "### Evaluación sobre los datos de envío\n",
    "- Carga de datos de envío para prueba"
   ]
  },
  {
   "cell_type": "code",
   "execution_count": 10,
   "metadata": {},
   "outputs": [],
   "source": [
    "data_test = pd.read_csv('dataTest_carListings.csv', index_col=0)"
   ]
  },
  {
   "cell_type": "markdown",
   "metadata": {},
   "source": [
    "- Codificación de variables categícas usando BinaryEncoder"
   ]
  },
  {
   "cell_type": "code",
   "execution_count": 11,
   "metadata": {},
   "outputs": [
    {
     "data": {
      "text/plain": [
       "BinaryEncoder(cols=['State', 'Make', 'Model'], drop_invariant=False,\n",
       "       handle_unknown='impute', impute_missing=True, return_df=True,\n",
       "       verbose=0)"
      ]
     },
     "execution_count": 11,
     "metadata": {},
     "output_type": "execute_result"
    }
   ],
   "source": [
    "encoder = ce.BinaryEncoder()\n",
    "encoder.fit(data.drop(['Price'], axis=1))"
   ]
  },
  {
   "cell_type": "code",
   "execution_count": 12,
   "metadata": {},
   "outputs": [],
   "source": [
    "data_test = encoder.transform(data_test)"
   ]
  },
  {
   "cell_type": "markdown",
   "metadata": {},
   "source": [
    "- Predicción del precio en los datos de envío"
   ]
  },
  {
   "cell_type": "code",
   "execution_count": 14,
   "metadata": {},
   "outputs": [],
   "source": [
    "y_pred = regr.predict(data_test)\n",
    "y_pred = pd.DataFrame(y_pred, index=data_test.index, columns=['Price'])\n",
    "y_pred.to_csv('test_submission.csv', index_label='ID')"
   ]
  },
  {
   "cell_type": "markdown",
   "metadata": {},
   "source": [
    "## Creando el API.py"
   ]
  },
  {
   "cell_type": "markdown",
   "metadata": {},
   "source": [
    "### Cargar el dataset"
   ]
  },
  {
   "cell_type": "code",
   "execution_count": null,
   "metadata": {},
   "outputs": [],
   "source": [
    "train1 = pd.read_csv('https://github.com/albahnsen/PracticalMachineLearningClass/raw/master/datasets/dataTrain_carListings.zip')\n",
    "test1 =  pd.read_csv('https://github.com/albahnsen/PracticalMachineLearningClass/raw/master/datasets/dataTest_carListings.zip', index_col=0)\n",
    "train1['source']='train'\n",
    "test1['source']='test'\n",
    "data = pd.concat([train1, test1],sort=True)\n",
    "data.to_pickle(\"df_price_car.pkl\")\n",
    "\n",
    "data = pd.read_pickle(\"df_price_car.pkl\")"
   ]
  },
  {
   "cell_type": "markdown",
   "metadata": {},
   "source": [
    "### Creación del encoder"
   ]
  },
  {
   "cell_type": "code",
   "execution_count": null,
   "metadata": {},
   "outputs": [],
   "source": [
    "encoder = ce.BinaryEncoder(cols=['Model','State','Make'])\n",
    "encoder.fit_transform(data)\n",
    "data=encoder.fit_transform(data)\n",
    "pickle.dump(encoder, open( 'encoder.sav', \"wb\" ) )\n",
    "\n",
    "encoder = pickle.load( open( 'encoder.sav', \"rb\" ) )"
   ]
  },
  {
   "cell_type": "markdown",
   "metadata": {},
   "source": [
    "### Entrenar el modelo"
   ]
  },
  {
   "cell_type": "code",
   "execution_count": null,
   "metadata": {},
   "outputs": [],
   "source": [
    "train = data.loc[data['source']==\"train\"]\n",
    "test = data.loc[data['source']==\"test\"]\n",
    "\n",
    "#Drop unnecessary columns:\n",
    "test.drop(['Price','source'],axis=1,inplace=True)\n",
    "train.drop(['source'],axis=1,inplace=True)\n",
    "\n",
    "# ### X e y, definición de  train y test para entremaiento\n",
    "X = train.drop(['Price'], axis=1)\n",
    "y = train['Price']\n",
    "X_train, X_test, y_train, y_test = train_test_split(X, y, test_size = 0.20, random_state=42)\n",
    "\n",
    "## Entrenamiento modelo \n",
    "regr = RandomForestRegressor(\n",
    "     max_depth=20, \n",
    "     random_state=42,\n",
    "     n_jobs = -1, \n",
    "     n_estimators=322, \n",
    "     min_samples_split=10, \n",
    "     max_features='sqrt',\n",
    "     bootstrap=True).fit(X_train, y_train)\n"
   ]
  },
  {
   "cell_type": "markdown",
   "metadata": {},
   "source": [
    "### Salvar el modelo\n",
    "    - Se salva el modelo como modelRandom.sav para usarlo en el API"
   ]
  },
  {
   "cell_type": "code",
   "execution_count": 6,
   "metadata": {},
   "outputs": [],
   "source": [
    "filename = 'modelRandom.sav'\n",
    "pickle.dump(regr, open(filename, 'wb'))"
   ]
  },
  {
   "cell_type": "markdown",
   "metadata": {},
   "source": [
    "### Cargar el modelo"
   ]
  },
  {
   "cell_type": "code",
   "execution_count": null,
   "metadata": {},
   "outputs": [],
   "source": [
    "model = pickle.load(open('modelRandom.sav', 'rb'))"
   ]
  },
  {
   "cell_type": "markdown",
   "metadata": {},
   "source": [
    "### Crear el dash"
   ]
  },
  {
   "cell_type": "code",
   "execution_count": null,
   "metadata": {},
   "outputs": [],
   "source": [
    "external_stylesheets = ['https://codepen.io/chriddyp/pen/bWLwgP.css']\n",
    "app = dash.Dash(__name__, external_stylesheets=external_stylesheets)\n",
    "app.config['suppress_callback_exceptions']=True \n",
    "\n",
    "app = dash.Dash()\n",
    "\n",
    "sup_izq = html.Div([     \n",
    "\n",
    "\t\t\t\thtml.Div([   \n",
    "                        html.Label('Seleccione el año:'),\n",
    "\t\t\t\t\t\t\tdcc.Dropdown(id='Year',\n",
    "\t\t\t\t\t\t\toptions=[{'label': i, 'value': i} for i in sorted(data['Year'].unique())],\n",
    "\t\t\t\t\t\t\tvalue=2014,\n",
    "\t\t\t\t\t\t\t#style={'margin':'auto','width': '50%', 'display': 'inline-block'}\n",
    "\t\t\t\t\t\t\t)\n",
    "\t\t\t\t\t\t],\n",
    "\t\t\t\t\t\tstyle={'margin':'auto','width': '33%', 'display': 'inline-block','backgroundColor': 'white'}\n",
    "\t\t\t\t\t\t),\n",
    "\t\t\t\t\t\t\n",
    "\t\t\t\thtml.Div([                 \n",
    "\t\t\t\t\t\thtml.Label('Digíte el número de millas'),          \n",
    "\t\t\t\t\t\t\tdcc.Input(id='Mileage',\n",
    "\t\t\t\t\t\t\t#min=data['Mileage'].min(),\n",
    "\t\t\t\t\t\t\t#max=data['Mileage'].max(),\n",
    "\t\t\t\t\t\t\tvalue=31909, \n",
    "\t\t\t\t\t\t\ttype='float',\n",
    "\t\t\t\t\t\t\tstyle={'margin':'auto','width': '30%', 'display': 'inline-block', 'fontSize': 15}\n",
    "\t\t\t\t\t\t\t)\n",
    "\t\t\t\t\t\t],\n",
    "\t\t\t\t\t\tstyle={'margin':'auto','width': '33%', 'display': 'inline-block','backgroundColor': 'white'}\n",
    "\t\t\t\t\t\t),\n",
    "\t\t\t\t\t\t\n",
    "\t\t\t\thtml.Div([                                   \n",
    "\t\t\t\t\t\thtml.Label('Seleccione el estado:'),\n",
    "\t\t\t\t\t\t\tdcc.Dropdown(id='State',\n",
    "\t\t\t\t\t\t\toptions=[{'label': i, 'value': i} for i in sorted(data['State'].unique())],\n",
    "\t\t\t\t\t\t\tvalue='MD',\n",
    "\t\t\t\t\t\t\t#style={'margin':'auto','width': '50%', 'display': 'inline-block'}\n",
    "\t\t\t\t\t\t\t)\n",
    "\t\t\t\t\t\t],\n",
    "\t\t\t\t\t\tstyle={'margin':'auto','width': '33%', 'display': 'inline-block','backgroundColor': 'white'}\n",
    "\t\t\t\t\t\t),\n",
    "\t\t\t\t\t],\n",
    "\t\t\t\t\t\tstyle={'width': '50%', 'display': 'inline-block', 'backgroundColor': 'white'}\n",
    "\t\t\t\t\t)\n",
    "\n",
    "sup_der = html.Div([     \n",
    "\n",
    "\t\t\t\thtml.Div([  \n",
    "                       html.Label('Seleccione el fabricante:'),\n",
    "\t\t\t\t\t\t\tdcc.Dropdown(id='Make',\n",
    "\t\t\t\t\t\t\toptions=[{'label': i, 'value': i} for i in sorted(data['Make'].unique())],\n",
    "\t\t\t\t\t\t\tvalue='Nissan',\n",
    "\t\t\t\t\t\t\t#style={'margin':'auto','width': '40%', 'display': 'inline-block'}\n",
    "\t\t\t\t\t\t\t)\n",
    "\t\t\t\t\t\t],\n",
    "\t\t\t\t\t\tstyle={'margin':'auto','width': '50%', 'display': 'inline-block','backgroundColor': 'white'}\n",
    "\t\t\t\t\t\t),\n",
    "                       \n",
    "\t\t\t\thtml.Div([ \n",
    "\t\t\t\t\t\thtml.Label('Seleccione el Modelo:'),\n",
    "\t\t\t\t\t\t\tdcc.Dropdown(id='Model',\n",
    "\t\t\t\t\t\t\toptions=[{'label': i, 'value': i} for i in sorted(data['Model'].unique())],\n",
    "\t\t\t\t\t\t\tvalue='MuranoAWD',\n",
    "\t\t\t\t\t\t\t#style={'margin':'auto','width': '40%', 'display': 'inline-block'}\n",
    "\t\t\t\t\t\t\t)\n",
    "\t\t\t\t\t\t],\n",
    "\t\t\t\t\t\tstyle={'margin':'auto','width': '50%', 'display': 'inline-block','backgroundColor': 'white'}\n",
    "\t\t\t\t\t\t),\n",
    "\t\t\t\t\t],\n",
    "                    \n",
    "\t\t\t\t\tstyle={'width': '50%', 'display': 'inline-block', 'float': 'right'},\n",
    "\t\t\t\t)\n",
    "\n",
    "inf_izq = html.Div([     \n",
    "                        html.Label('Presione CALCULAR para cargar su información'), \n",
    "\t\t\t\t\t\thtml.Button('CALCULAR', id='button',style={'margin':'auto','width': \"30%\", 'backgroundColor': 'grey'})\n",
    "\t\t\t\t\t],\n",
    "\t\t\t\t\t\n",
    "                    style={'width': '50%', 'display': 'inline-block'})\n",
    "\n",
    "inf_der = html.Div([     \n",
    "                        html.Label('Según los parametros ingresados, el precio aproximado del auto usado es de:'),\n",
    "                        html.Div(id='price_text', style={'color': 'blue', 'fontSize': 20})\n",
    "\t\t\t\t\t],\n",
    "                    \n",
    "\t\t\t\t\tstyle={'width': '50%', 'display': 'inline-block', 'float': 'right'},)\n",
    "\n",
    "\n",
    "bloq_sup = html.Div([   sup_izq,                            \n",
    "                        sup_der\n",
    "                        ])\n",
    "\n",
    "bloq_inf = html.Div([   inf_der,                            \n",
    "                        inf_izq\n",
    "                        ])\n",
    "\n",
    "banner = html.Div([\n",
    "                    html.H2('MIIA 4202 - Machine Learning', style={'textAlign': 'center'}), \n",
    "                    html.H3('Aplicación para el cálculo del precio aproximado de un auto usado', style={'textAlign': 'center', 'fontSize': 20})\n",
    "                ])\n",
    "\n",
    "footer = html.Div([  html.H4('Universidad de los Andes - Todos los derechos reservados', style={'textAlign': 'center'})  ])\n",
    "\n",
    "'''\n",
    "    LAYOUT\n",
    "'''\n",
    "app.layout = html.Div([ banner,\n",
    "                        bloq_sup,                            \n",
    "                        bloq_inf,\n",
    "                        footer\n",
    "                        ])\n",
    "\n",
    "\n",
    "@app.callback(\n",
    "     dash.dependencies.Output('price_text', 'children'),\n",
    "    [dash.dependencies.Input('button', 'n_clicks')],\n",
    "    [dash.dependencies.State('Year', 'value'),\n",
    "     dash.dependencies.State('Mileage', 'value'),\n",
    "     dash.dependencies.State('State', 'value'),\n",
    "     dash.dependencies.State('Make', 'value'),\n",
    "     dash.dependencies.State('Model', 'value')]\n",
    "     )\n",
    " \n",
    "def update_text(n_clicks, Year, Mileage, State, Make, Model):   \n",
    "     ex_dic = {\n",
    "\n",
    "            'Mileage':Mileage,\n",
    "            'Price':0,\n",
    "            'Year':Year ,\n",
    "            'source':'test',\n",
    "            'State':State,\n",
    "            'Make':Make,\n",
    "            'Model': Model\n",
    "            \n",
    "            }\n",
    "\n",
    "     input_df = pd.DataFrame( ex_dic, index=[1])\n",
    "     input_df = encoder.transform(input_df)\n",
    "     price = model.predict(input_df.drop(['Price','source'],axis=1))\n",
    "     print(ex_dic)\n",
    "     print(price)\n",
    "     return \"$ \" + str(np.round(price,2))"
   ]
  },
  {
   "cell_type": "markdown",
   "metadata": {},
   "source": [
    "### Correr el API"
   ]
  },
  {
   "cell_type": "code",
   "execution_count": null,
   "metadata": {},
   "outputs": [],
   "source": [
    "if __name__ == '__main__':\n",
    "    app.run_server(debug=True, use_reloader=False, host='0.0.0.0', port=8880)"
   ]
  },
  {
   "cell_type": "markdown",
   "metadata": {},
   "source": [
    "### API - PRICING"
   ]
  },
  {
   "cell_type": "markdown",
   "metadata": {},
   "source": [
    "### Conectando al API\n",
    " \n",
    "Go to -ec2-machine-ip-:8880\n",
    "\n",
    "http://18.224.8.166:8880/"
   ]
  },
  {
   "cell_type": "markdown",
   "metadata": {},
   "source": [
    "![Api for pricing](https://github.com/amosqueraf/ML/raw/master/console.png)"
   ]
  },
  {
   "cell_type": "markdown",
   "metadata": {},
   "source": [
    "![Api for pricing](https://github.com/amosqueraf/ML/raw/master/dash.PNG)"
   ]
  },
  {
   "cell_type": "code",
   "execution_count": null,
   "metadata": {},
   "outputs": [],
   "source": []
  }
 ],
 "metadata": {
  "kernelspec": {
   "display_name": "Python 3",
   "language": "python",
   "name": "python3"
  },
  "language_info": {
   "codemirror_mode": {
    "name": "ipython",
    "version": 3
   },
   "file_extension": ".py",
   "mimetype": "text/x-python",
   "name": "python",
   "nbconvert_exporter": "python",
   "pygments_lexer": "ipython3",
   "version": "3.6.5"
  }
 },
 "nbformat": 4,
 "nbformat_minor": 1
}
