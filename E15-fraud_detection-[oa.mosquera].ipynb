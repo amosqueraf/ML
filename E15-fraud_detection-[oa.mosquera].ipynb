{
 "cells": [
  {
   "cell_type": "markdown",
   "metadata": {
    "collapsed": false
   },
   "source": [
    "# Exercise 15\n",
    "\n",
    "# Fraud Detection"
   ]
  },
  {
   "cell_type": "markdown",
   "metadata": {
    "collapsed": false
   },
   "source": [
    "## Introduction\n",
    "\n",
    "- Fraud Detection Dataset from Microsoft Azure: [data](http://gallery.cortanaintelligence.com/Experiment/8e9fe4e03b8b4c65b9ca947c72b8e463)\n",
    "\n",
    "Fraud detection is one of the earliest industrial applications of data mining and machine learning. Fraud detection is typically handled as a binary classification problem, but the class population is unbalanced because instances of fraud are usually very rare compared to the overall volume of transactions. Moreover, when fraudulent transactions are discovered, the business typically takes measures to block the accounts from transacting to prevent further losses. "
   ]
  },
  {
   "cell_type": "code",
   "execution_count": 1,
   "metadata": {
    "collapsed": false
   },
   "outputs": [
   ],
   "source": [
    "%matplotlib inline\n",
    "\n",
    "import pandas as pd\n",
    "import numpy as np\n",
    "import matplotlib as mpl\n",
    "import matplotlib.pyplot as plt\n",
    "\n",
    "from sklearn.model_selection import cross_val_score, train_test_split\n",
    "from sklearn.linear_model import LogisticRegression\n",
    "from sklearn.tree import DecisionTreeClassifier,  DecisionTreeRegressor\n",
    "from sklearn.ensemble import RandomForestClassifier\n",
    "from sklearn import metrics\n",
    "from sklearn.neighbors import NearestNeighbors\n",
    "from sklearn.decomposition import PCA\n",
    "\n",
    "from collections import Counter\n",
    "\n",
    "from imblearn.over_sampling import RandomOverSampler, SMOTE, ADASYN\n",
    "\n",
    "import random\n",
    "\n",
    "import warnings\n",
    "warnings.filterwarnings('ignore')"
   ]
  },
  {
   "cell_type": "code",
   "execution_count": 2,
   "metadata": {
    "collapsed": false
   },
   "outputs": [
    {
     "data": {
      "text/html": [
       "<div>\n",
       "<style scoped>\n",
       "    .dataframe tbody tr th:only-of-type {\n",
       "        vertical-align: middle;\n",
       "    }\n",
       "\n",
       "    .dataframe tbody tr th {\n",
       "        vertical-align: top;\n",
       "    }\n",
       "\n",
       "    .dataframe thead th {\n",
       "        text-align: right;\n",
       "    }\n",
       "</style>\n",
       "<table border=\"1\" class=\"dataframe\">\n",
       "  <thead>\n",
       "    <tr style=\"text-align: right;\">\n",
       "      <th></th>\n",
       "      <th>accountAge</th>\n",
       "      <th>digitalItemCount</th>\n",
       "      <th>sumPurchaseCount1Day</th>\n",
       "      <th>sumPurchaseAmount1Day</th>\n",
       "      <th>sumPurchaseAmount30Day</th>\n",
       "      <th>paymentBillingPostalCode - LogOddsForClass_0</th>\n",
       "      <th>accountPostalCode - LogOddsForClass_0</th>\n",
       "      <th>paymentBillingState - LogOddsForClass_0</th>\n",
       "      <th>accountState - LogOddsForClass_0</th>\n",
       "      <th>paymentInstrumentAgeInAccount</th>\n",
       "      <th>ipState - LogOddsForClass_0</th>\n",
       "      <th>transactionAmount</th>\n",
       "      <th>transactionAmountUSD</th>\n",
       "      <th>ipPostalCode - LogOddsForClass_0</th>\n",
       "      <th>localHour - LogOddsForClass_0</th>\n",
       "      <th>Label</th>\n",
       "    </tr>\n",
       "  </thead>\n",
       "  <tbody>\n",
       "    <tr>\n",
       "      <th>0</th>\n",
       "      <td>2000</td>\n",
       "      <td>0</td>\n",
       "      <td>0</td>\n",
       "      <td>0.00</td>\n",
       "      <td>720.25</td>\n",
       "      <td>5.064533</td>\n",
       "      <td>0.421214</td>\n",
       "      <td>1.312186</td>\n",
       "      <td>0.566395</td>\n",
       "      <td>3279.574306</td>\n",
       "      <td>1.218157</td>\n",
       "      <td>599.00</td>\n",
       "      <td>626.164650</td>\n",
       "      <td>1.259543</td>\n",
       "      <td>4.745402</td>\n",
       "      <td>0</td>\n",
       "    </tr>\n",
       "    <tr>\n",
       "      <th>1</th>\n",
       "      <td>62</td>\n",
       "      <td>1</td>\n",
       "      <td>1</td>\n",
       "      <td>1185.44</td>\n",
       "      <td>2530.37</td>\n",
       "      <td>0.538996</td>\n",
       "      <td>0.481838</td>\n",
       "      <td>4.401370</td>\n",
       "      <td>4.500157</td>\n",
       "      <td>61.970139</td>\n",
       "      <td>4.035601</td>\n",
       "      <td>1185.44</td>\n",
       "      <td>1185.440000</td>\n",
       "      <td>3.981118</td>\n",
       "      <td>4.921349</td>\n",
       "      <td>0</td>\n",
       "    </tr>\n",
       "    <tr>\n",
       "      <th>2</th>\n",
       "      <td>2000</td>\n",
       "      <td>0</td>\n",
       "      <td>0</td>\n",
       "      <td>0.00</td>\n",
       "      <td>0.00</td>\n",
       "      <td>5.064533</td>\n",
       "      <td>5.096396</td>\n",
       "      <td>3.056357</td>\n",
       "      <td>3.155226</td>\n",
       "      <td>0.000000</td>\n",
       "      <td>3.314186</td>\n",
       "      <td>32.09</td>\n",
       "      <td>32.090000</td>\n",
       "      <td>5.008490</td>\n",
       "      <td>4.742303</td>\n",
       "      <td>0</td>\n",
       "    </tr>\n",
       "    <tr>\n",
       "      <th>3</th>\n",
       "      <td>1</td>\n",
       "      <td>1</td>\n",
       "      <td>0</td>\n",
       "      <td>0.00</td>\n",
       "      <td>0.00</td>\n",
       "      <td>5.064533</td>\n",
       "      <td>5.096396</td>\n",
       "      <td>3.331154</td>\n",
       "      <td>3.331239</td>\n",
       "      <td>0.000000</td>\n",
       "      <td>3.529398</td>\n",
       "      <td>133.28</td>\n",
       "      <td>132.729554</td>\n",
       "      <td>1.324925</td>\n",
       "      <td>4.745402</td>\n",
       "      <td>0</td>\n",
       "    </tr>\n",
       "    <tr>\n",
       "      <th>4</th>\n",
       "      <td>1</td>\n",
       "      <td>1</td>\n",
       "      <td>0</td>\n",
       "      <td>0.00</td>\n",
       "      <td>132.73</td>\n",
       "      <td>5.412885</td>\n",
       "      <td>0.342945</td>\n",
       "      <td>5.563677</td>\n",
       "      <td>4.086965</td>\n",
       "      <td>0.001389</td>\n",
       "      <td>3.529398</td>\n",
       "      <td>543.66</td>\n",
       "      <td>543.660000</td>\n",
       "      <td>2.693451</td>\n",
       "      <td>4.876771</td>\n",
       "      <td>0</td>\n",
       "    </tr>\n",
       "  </tbody>\n",
       "</table>\n",
       "</div>"
      ]
     },
     "execution_count": 2,
     "metadata": {
     },
     "output_type": "execute_result"
    }
   ],
   "source": [
    "url = 'https://raw.githubusercontent.com/albahnsen/PracticalMachineLearningClass/master/datasets/15_fraud_detection.csv.zip'\n",
    "#df = pd.read_csv(url, index_col=0)\n",
    "df = pd.read_csv('15_fraud_detection.csv', index_col=0,)\n",
    "df.head()"
   ]
  },
  {
   "cell_type": "code",
   "execution_count": 3,
   "metadata": {
    "collapsed": false
   },
   "outputs": [
    {
     "data": {
      "text/html": [
       "<div>\n",
       "<style scoped>\n",
       "    .dataframe tbody tr th:only-of-type {\n",
       "        vertical-align: middle;\n",
       "    }\n",
       "\n",
       "    .dataframe tbody tr th {\n",
       "        vertical-align: top;\n",
       "    }\n",
       "\n",
       "    .dataframe thead th {\n",
       "        text-align: right;\n",
       "    }\n",
       "</style>\n",
       "<table border=\"1\" class=\"dataframe\">\n",
       "  <thead>\n",
       "    <tr style=\"text-align: right;\">\n",
       "      <th></th>\n",
       "      <th>accountAge</th>\n",
       "      <th>digitalItemCount</th>\n",
       "      <th>sumPurchaseCount1Day</th>\n",
       "      <th>sumPurchaseAmount1Day</th>\n",
       "      <th>sumPurchaseAmount30Day</th>\n",
       "      <th>paymentBillingPostalCode - LogOddsForClass_0</th>\n",
       "      <th>accountPostalCode - LogOddsForClass_0</th>\n",
       "      <th>paymentBillingState - LogOddsForClass_0</th>\n",
       "      <th>accountState - LogOddsForClass_0</th>\n",
       "      <th>paymentInstrumentAgeInAccount</th>\n",
       "      <th>ipState - LogOddsForClass_0</th>\n",
       "      <th>transactionAmount</th>\n",
       "      <th>transactionAmountUSD</th>\n",
       "      <th>ipPostalCode - LogOddsForClass_0</th>\n",
       "      <th>localHour - LogOddsForClass_0</th>\n",
       "      <th>Label</th>\n",
       "    </tr>\n",
       "  </thead>\n",
       "  <tbody>\n",
       "    <tr>\n",
       "      <th>0</th>\n",
       "      <td>2000</td>\n",
       "      <td>0</td>\n",
       "      <td>0</td>\n",
       "      <td>0.00</td>\n",
       "      <td>720.25</td>\n",
       "      <td>5.064533</td>\n",
       "      <td>0.421214</td>\n",
       "      <td>1.312186</td>\n",
       "      <td>0.566395</td>\n",
       "      <td>3279.574306</td>\n",
       "      <td>1.218157</td>\n",
       "      <td>599.00</td>\n",
       "      <td>626.164650</td>\n",
       "      <td>1.259543</td>\n",
       "      <td>4.745402</td>\n",
       "      <td>0</td>\n",
       "    </tr>\n",
       "    <tr>\n",
       "      <th>1</th>\n",
       "      <td>62</td>\n",
       "      <td>1</td>\n",
       "      <td>1</td>\n",
       "      <td>1185.44</td>\n",
       "      <td>2530.37</td>\n",
       "      <td>0.538996</td>\n",
       "      <td>0.481838</td>\n",
       "      <td>4.401370</td>\n",
       "      <td>4.500157</td>\n",
       "      <td>61.970139</td>\n",
       "      <td>4.035601</td>\n",
       "      <td>1185.44</td>\n",
       "      <td>1185.440000</td>\n",
       "      <td>3.981118</td>\n",
       "      <td>4.921349</td>\n",
       "      <td>0</td>\n",
       "    </tr>\n",
       "    <tr>\n",
       "      <th>2</th>\n",
       "      <td>2000</td>\n",
       "      <td>0</td>\n",
       "      <td>0</td>\n",
       "      <td>0.00</td>\n",
       "      <td>0.00</td>\n",
       "      <td>5.064533</td>\n",
       "      <td>5.096396</td>\n",
       "      <td>3.056357</td>\n",
       "      <td>3.155226</td>\n",
       "      <td>0.000000</td>\n",
       "      <td>3.314186</td>\n",
       "      <td>32.09</td>\n",
       "      <td>32.090000</td>\n",
       "      <td>5.008490</td>\n",
       "      <td>4.742303</td>\n",
       "      <td>0</td>\n",
       "    </tr>\n",
       "    <tr>\n",
       "      <th>3</th>\n",
       "      <td>1</td>\n",
       "      <td>1</td>\n",
       "      <td>0</td>\n",
       "      <td>0.00</td>\n",
       "      <td>0.00</td>\n",
       "      <td>5.064533</td>\n",
       "      <td>5.096396</td>\n",
       "      <td>3.331154</td>\n",
       "      <td>3.331239</td>\n",
       "      <td>0.000000</td>\n",
       "      <td>3.529398</td>\n",
       "      <td>133.28</td>\n",
       "      <td>132.729554</td>\n",
       "      <td>1.324925</td>\n",
       "      <td>4.745402</td>\n",
       "      <td>0</td>\n",
       "    </tr>\n",
       "    <tr>\n",
       "      <th>4</th>\n",
       "      <td>1</td>\n",
       "      <td>1</td>\n",
       "      <td>0</td>\n",
       "      <td>0.00</td>\n",
       "      <td>132.73</td>\n",
       "      <td>5.412885</td>\n",
       "      <td>0.342945</td>\n",
       "      <td>5.563677</td>\n",
       "      <td>4.086965</td>\n",
       "      <td>0.001389</td>\n",
       "      <td>3.529398</td>\n",
       "      <td>543.66</td>\n",
       "      <td>543.660000</td>\n",
       "      <td>2.693451</td>\n",
       "      <td>4.876771</td>\n",
       "      <td>0</td>\n",
       "    </tr>\n",
       "  </tbody>\n",
       "</table>\n",
       "</div>"
      ]
     },
     "execution_count": 3,
     "metadata": {
     },
     "output_type": "execute_result"
    }
   ],
   "source": [
    "df.head()"
   ]
  },
  {
   "cell_type": "code",
   "execution_count": 4,
   "metadata": {
    "collapsed": false
   },
   "outputs": [
    {
     "data": {
      "text/plain": [
       "((138721, 16), 797, 0.0057453449730033666)"
      ]
     },
     "execution_count": 4,
     "metadata": {
     },
     "output_type": "execute_result"
    }
   ],
   "source": [
    "df.shape, df.Label.sum(), df.Label.mean()"
   ]
  },
  {
   "cell_type": "markdown",
   "metadata": {
    "collapsed": false
   },
   "source": [
    "# Exercise 15.1\n",
    "\n",
    "Estimate a Logistic Regression and a Decision Tree\n",
    "\n",
    "Evaluate using the following metrics:\n",
    "* Accuracy\n",
    "* F1-Score\n",
    "* F_Beta-Score (Beta=10)\n",
    "\n",
    "Comment about the results"
   ]
  },
  {
   "cell_type": "code",
   "execution_count": 5,
   "metadata": {
    "collapsed": false
   },
   "outputs": [
    {
     "data": {
      "text/html": [
       "<div>\n",
       "<style scoped>\n",
       "    .dataframe tbody tr th:only-of-type {\n",
       "        vertical-align: middle;\n",
       "    }\n",
       "\n",
       "    .dataframe tbody tr th {\n",
       "        vertical-align: top;\n",
       "    }\n",
       "\n",
       "    .dataframe thead th {\n",
       "        text-align: right;\n",
       "    }\n",
       "</style>\n",
       "<table border=\"1\" class=\"dataframe\">\n",
       "  <thead>\n",
       "    <tr style=\"text-align: right;\">\n",
       "      <th></th>\n",
       "      <th>Modelo</th>\n",
       "      <th>Técnica de balanceo</th>\n",
       "      <th>Accuracy</th>\n",
       "      <th>F1-Score</th>\n",
       "      <th>F_Beta-Score</th>\n",
       "    </tr>\n",
       "  </thead>\n",
       "  <tbody>\n",
       "  </tbody>\n",
       "</table>\n",
       "</div>"
      ]
     },
     "execution_count": 5,
     "metadata": {
     },
     "output_type": "execute_result"
    }
   ],
   "source": [
    "results = pd.DataFrame(columns=('Modelo','Técnica de balanceo','Accuracy','F1-Score','F_Beta-Score'))\n",
    "results"
   ]
  },
  {
   "cell_type": "code",
   "execution_count": 6,
   "metadata": {
    "collapsed": false
   },
   "outputs": [
   ],
   "source": [
    "X = df.drop(['Label'], axis=1)\n",
    "y = df['Label']\n",
    "\n",
    "# train/test split\n",
    "X_train, X_test, y_train, y_test = train_test_split(X, y, random_state=42)"
   ]
  },
  {
   "cell_type": "markdown",
   "metadata": {
    "collapsed": false
   },
   "source": [
    "### Logistic Regression"
   ]
  },
  {
   "cell_type": "code",
   "execution_count": 7,
   "metadata": {
    "collapsed": false
   },
   "outputs": [
    {
     "name": "stdout",
     "output_type": "stream",
     "text": [
      "Accuracy: 0.9940313139759522\n",
      "F1-Score: 0.0\n",
      "F_Beta-Score (Beta=10): 0.0\n"
     ]
    }
   ],
   "source": [
    "# train a Logist Regresor model\n",
    "\n",
    "logreg = LogisticRegression(solver='liblinear', C=1e9).fit(X_train, y_train)\n",
    "\n",
    "# make predictions for testing set\n",
    "y_pred = logreg.predict(X_test)\n",
    "\n",
    "\n",
    "# calculate testing accuracy\n",
    "print('Accuracy:', metrics.accuracy_score(y_test, y_pred))\n",
    "print('F1-Score:', metrics.f1_score(y_test, y_pred))\n",
    "print('F_Beta-Score (Beta=10):', metrics.fbeta_score(y_test, y_pred, beta=10))\n"
   ]
  },
  {
   "cell_type": "code",
   "execution_count": 8,
   "metadata": {
    "collapsed": false
   },
   "outputs": [
    {
     "data": {
      "text/html": [
       "<div>\n",
       "<style scoped>\n",
       "    .dataframe tbody tr th:only-of-type {\n",
       "        vertical-align: middle;\n",
       "    }\n",
       "\n",
       "    .dataframe tbody tr th {\n",
       "        vertical-align: top;\n",
       "    }\n",
       "\n",
       "    .dataframe thead th {\n",
       "        text-align: right;\n",
       "    }\n",
       "</style>\n",
       "<table border=\"1\" class=\"dataframe\">\n",
       "  <thead>\n",
       "    <tr style=\"text-align: right;\">\n",
       "      <th></th>\n",
       "      <th>Modelo</th>\n",
       "      <th>Técnica de balanceo</th>\n",
       "      <th>Accuracy</th>\n",
       "      <th>F1-Score</th>\n",
       "      <th>F_Beta-Score</th>\n",
       "    </tr>\n",
       "  </thead>\n",
       "  <tbody>\n",
       "    <tr>\n",
       "      <th>0</th>\n",
       "      <td>LogisticRegression</td>\n",
       "      <td>-</td>\n",
       "      <td>0.994031</td>\n",
       "      <td>0.0</td>\n",
       "      <td>0.0</td>\n",
       "    </tr>\n",
       "  </tbody>\n",
       "</table>\n",
       "</div>"
      ]
     },
     "execution_count": 8,
     "metadata": {
     },
     "output_type": "execute_result"
    }
   ],
   "source": [
    "results.loc[len(results)]=['LogisticRegression','-',metrics.accuracy_score(y_test, y_pred),metrics.f1_score(y_test, y_pred),metrics.fbeta_score(y_test, y_pred, beta=10)] \n",
    "results"
   ]
  },
  {
   "cell_type": "markdown",
   "metadata": {
    "collapsed": false
   },
   "source": [
    "### Decision Tree"
   ]
  },
  {
   "cell_type": "code",
   "execution_count": 9,
   "metadata": {
    "collapsed": false
   },
   "outputs": [
    {
     "name": "stdout",
     "output_type": "stream",
     "text": [
      "Accuracy: 0.9942908220639544\n",
      "F1-Score: 0.029411764705882356\n",
      "F_Beta-Score (Beta=10): 0.015298394425931535\n"
     ]
    }
   ],
   "source": [
    "treeclf = DecisionTreeClassifier(max_depth=3, random_state=42).fit(X_train, y_train)\n",
    "y_pred = treeclf.predict(X_test)\n",
    "\n",
    "# calculate testing accuracy\n",
    "print('Accuracy:', metrics.accuracy_score(y_test, y_pred))\n",
    "print('F1-Score:', metrics.f1_score(y_test, y_pred))\n",
    "print('F_Beta-Score (Beta=10):', metrics.fbeta_score(y_test, y_pred, beta=10))"
   ]
  },
  {
   "cell_type": "code",
   "execution_count": 10,
   "metadata": {
    "collapsed": false
   },
   "outputs": [
    {
     "data": {
      "text/html": [
       "<div>\n",
       "<style scoped>\n",
       "    .dataframe tbody tr th:only-of-type {\n",
       "        vertical-align: middle;\n",
       "    }\n",
       "\n",
       "    .dataframe tbody tr th {\n",
       "        vertical-align: top;\n",
       "    }\n",
       "\n",
       "    .dataframe thead th {\n",
       "        text-align: right;\n",
       "    }\n",
       "</style>\n",
       "<table border=\"1\" class=\"dataframe\">\n",
       "  <thead>\n",
       "    <tr style=\"text-align: right;\">\n",
       "      <th></th>\n",
       "      <th>Modelo</th>\n",
       "      <th>Técnica de balanceo</th>\n",
       "      <th>Accuracy</th>\n",
       "      <th>F1-Score</th>\n",
       "      <th>F_Beta-Score</th>\n",
       "    </tr>\n",
       "  </thead>\n",
       "  <tbody>\n",
       "    <tr>\n",
       "      <th>0</th>\n",
       "      <td>LogisticRegression</td>\n",
       "      <td>-</td>\n",
       "      <td>0.994031</td>\n",
       "      <td>0.000000</td>\n",
       "      <td>0.000000</td>\n",
       "    </tr>\n",
       "    <tr>\n",
       "      <th>1</th>\n",
       "      <td>DecisionTreeClassifier</td>\n",
       "      <td>-</td>\n",
       "      <td>0.994291</td>\n",
       "      <td>0.029412</td>\n",
       "      <td>0.015298</td>\n",
       "    </tr>\n",
       "  </tbody>\n",
       "</table>\n",
       "</div>"
      ]
     },
     "execution_count": 10,
     "metadata": {
     },
     "output_type": "execute_result"
    }
   ],
   "source": [
    "results.loc[len(results)]=['DecisionTreeClassifier','-',metrics.accuracy_score(y_test, y_pred),metrics.f1_score(y_test, y_pred),metrics.fbeta_score(y_test, y_pred, beta=10)] \n",
    "results"
   ]
  },
  {
   "cell_type": "markdown",
   "metadata": {
    "collapsed": false
   },
   "source": [
    "### Random Forest"
   ]
  },
  {
   "cell_type": "code",
   "execution_count": 11,
   "metadata": {
    "collapsed": false
   },
   "outputs": [
    {
     "name": "stdout",
     "output_type": "stream",
     "text": [
      "Accuracy: 0.9943196562959545\n",
      "F1-Score: 0.12444444444444444\n",
      "F_Beta-Score (Beta=10): 0.07131689110808494\n"
     ]
    }
   ],
   "source": [
    "rfclf = RandomForestClassifier(random_state=42).fit(X_train, y_train)\n",
    "y_pred = rfclf.predict(X_test)\n",
    "\n",
    "# calculate testing accuracy\n",
    "print('Accuracy:', metrics.accuracy_score(y_test, y_pred))\n",
    "print('F1-Score:', metrics.f1_score(y_test, y_pred))\n",
    "print('F_Beta-Score (Beta=10):', metrics.fbeta_score(y_test, y_pred, beta=10))"
   ]
  },
  {
   "cell_type": "code",
   "execution_count": 12,
   "metadata": {
    "collapsed": false
   },
   "outputs": [
    {
     "data": {
      "text/html": [
       "<div>\n",
       "<style scoped>\n",
       "    .dataframe tbody tr th:only-of-type {\n",
       "        vertical-align: middle;\n",
       "    }\n",
       "\n",
       "    .dataframe tbody tr th {\n",
       "        vertical-align: top;\n",
       "    }\n",
       "\n",
       "    .dataframe thead th {\n",
       "        text-align: right;\n",
       "    }\n",
       "</style>\n",
       "<table border=\"1\" class=\"dataframe\">\n",
       "  <thead>\n",
       "    <tr style=\"text-align: right;\">\n",
       "      <th></th>\n",
       "      <th>Modelo</th>\n",
       "      <th>Técnica de balanceo</th>\n",
       "      <th>Accuracy</th>\n",
       "      <th>F1-Score</th>\n",
       "      <th>F_Beta-Score</th>\n",
       "    </tr>\n",
       "  </thead>\n",
       "  <tbody>\n",
       "    <tr>\n",
       "      <th>0</th>\n",
       "      <td>LogisticRegression</td>\n",
       "      <td>-</td>\n",
       "      <td>0.994031</td>\n",
       "      <td>0.000000</td>\n",
       "      <td>0.000000</td>\n",
       "    </tr>\n",
       "    <tr>\n",
       "      <th>1</th>\n",
       "      <td>DecisionTreeClassifier</td>\n",
       "      <td>-</td>\n",
       "      <td>0.994291</td>\n",
       "      <td>0.029412</td>\n",
       "      <td>0.015298</td>\n",
       "    </tr>\n",
       "    <tr>\n",
       "      <th>2</th>\n",
       "      <td>RandomForestClassifier</td>\n",
       "      <td>-</td>\n",
       "      <td>0.994320</td>\n",
       "      <td>0.124444</td>\n",
       "      <td>0.071317</td>\n",
       "    </tr>\n",
       "  </tbody>\n",
       "</table>\n",
       "</div>"
      ]
     },
     "execution_count": 12,
     "metadata": {
     },
     "output_type": "execute_result"
    }
   ],
   "source": [
    "results.loc[len(results)]=['RandomForestClassifier','-',metrics.accuracy_score(y_test, y_pred),metrics.f1_score(y_test, y_pred),metrics.fbeta_score(y_test, y_pred, beta=10)] \n",
    "results"
   ]
  },
  {
   "cell_type": "markdown",
   "metadata": {
    "collapsed": false
   },
   "source": [
    "- La data se encuentra desbalanceada, y el nivel de precisión del 99.43% indica que el modelo esta prediciendo todo de la misma clase. El RandomForestClassifier mejora la clasificación y se evidencia en las medidas de desempeño."
   ]
  },
  {
   "cell_type": "markdown",
   "metadata": {
    "collapsed": false
   },
   "source": [
    "# Exercise 15.2\n",
    "\n",
    "Under-sample the negative class using random-under-sampling\n",
    "\n",
    "Which is parameter for target_percentage did you choose?\n",
    "How the results change?\n",
    "\n",
    "**Only apply under-sampling to the training set, evaluate using the whole test set**"
   ]
  },
  {
   "cell_type": "code",
   "execution_count": 13,
   "metadata": {
    "collapsed": false
   },
   "outputs": [
    {
     "name": "stdout",
     "output_type": "stream",
     "text": [
      "n_samples: 138721\n",
      "n_samples_0: 137924\n",
      "n_samples_1: 797\n"
     ]
    }
   ],
   "source": [
    "n_samples = y.shape[0]\n",
    "n_samples_0 = (y == 0).sum()\n",
    "n_samples_1 = (y == 1).sum()\n",
    "\n",
    "\n",
    "print('n_samples:',n_samples)\n",
    "print('n_samples_0:',n_samples_0)\n",
    "print('n_samples_1:',n_samples_1)\n"
   ]
  },
  {
   "cell_type": "code",
   "execution_count": 14,
   "metadata": {
    "collapsed": false
   },
   "outputs": [
    {
     "data": {
      "text/plain": [
       "0.0057453449730033666"
      ]
     },
     "execution_count": 14,
     "metadata": {
     },
     "output_type": "execute_result"
    }
   ],
   "source": [
    "n_samples_1 / n_samples"
   ]
  },
  {
   "cell_type": "code",
   "execution_count": 15,
   "metadata": {
    "collapsed": false
   },
   "outputs": [
    {
     "data": {
      "text/plain": [
       "797.0"
      ]
     },
     "execution_count": 15,
     "metadata": {
     },
     "output_type": "execute_result"
    }
   ],
   "source": [
    "n_samples_0_new =  n_samples_1 / 0.5 - n_samples_1\n",
    "n_samples_0_new"
   ]
  },
  {
   "cell_type": "code",
   "execution_count": 16,
   "metadata": {
    "collapsed": false
   },
   "outputs": [
    {
     "data": {
      "text/plain": [
       "0.005778544705779994"
      ]
     },
     "execution_count": 16,
     "metadata": {
     },
     "output_type": "execute_result"
    }
   ],
   "source": [
    "n_samples_0_new_per = n_samples_0_new / n_samples_0\n",
    "n_samples_0_new_per"
   ]
  },
  {
   "cell_type": "code",
   "execution_count": 17,
   "metadata": {
    "collapsed": false
   },
   "outputs": [
   ],
   "source": [
    "# Select all negatives\n",
    "filter_ = y == 0\n",
    "\n",
    "# Random sample\n",
    "np.random.seed(42)\n",
    "rand_1 = np.random.binomial(n=1, p=n_samples_0_new_per, size=n_samples)\n",
    "\n",
    "# Combine\n",
    "filter_ = filter_ & rand_1"
   ]
  },
  {
   "cell_type": "code",
   "execution_count": 18,
   "metadata": {
    "collapsed": false
   },
   "outputs": [
    {
     "data": {
      "text/plain": [
       "757"
      ]
     },
     "execution_count": 18,
     "metadata": {
     },
     "output_type": "execute_result"
    }
   ],
   "source": [
    "filter_.sum()"
   ]
  },
  {
   "cell_type": "code",
   "execution_count": 19,
   "metadata": {
    "collapsed": false
   },
   "outputs": [
   ],
   "source": [
    "filter_ = filter_ | (y == 1)\n",
    "filter_ = filter_.astype(bool)"
   ]
  },
  {
   "cell_type": "code",
   "execution_count": 20,
   "metadata": {
    "collapsed": false
   },
   "outputs": [
   ],
   "source": [
    "def UnderSampling(X, y, target_percentage=0.5, seed=None):\n",
    "    # Assuming minority class is the positive\n",
    "    n_samples = y.shape[0]\n",
    "    n_samples_0 = (y == 0).sum()\n",
    "    n_samples_1 = (y == 1).sum()\n",
    "\n",
    "    n_samples_0_new =  n_samples_1 / target_percentage - n_samples_1\n",
    "    n_samples_0_new_per = n_samples_0_new / n_samples_0\n",
    "\n",
    "    filter_ = y == 0\n",
    "\n",
    "    np.random.seed(seed)\n",
    "    rand_1 = np.random.binomial(n=1, p=n_samples_0_new_per, size=n_samples)\n",
    "    \n",
    "    filter_ = filter_ & rand_1\n",
    "    filter_ = filter_ | (y == 1)\n",
    "    filter_ = filter_.astype(bool)\n",
    "    \n",
    "    return X[filter_], y[filter_]"
   ]
  },
  {
   "cell_type": "code",
   "execution_count": 21,
   "metadata": {
    "collapsed": false
   },
   "outputs": [
    {
     "name": "stdout",
     "output_type": "stream",
     "text": [
      "Target_percentage: 0.1 Accuracy: 0.9937429716559499 F1-Score: 0.0 F_Beta-Score: 0.0\n",
      "Target_percentage: 0.2 Accuracy: 0.9665234566477322 F1-Score: 0.04128819157720892 F_Beta-Score: 0.12131840676500265\n",
      "Target_percentage: 0.3 Accuracy: 0.9257806868314062 F1-Score: 0.03450862715678919 F_Beta-Score: 0.20864020118555773\n",
      "Target_percentage: 0.4 Accuracy: 0.8652864680949223 F1-Score: 0.03070539419087137 F_Beta-Score: 0.3060355417246745\n",
      "Target_percentage: 0.5 Accuracy: 0.5885931778207087 F1-Score: 0.017490703759812695 F_Beta-Score: 0.37589379908568754\n"
     ]
    }
   ],
   "source": [
    "for target_percentage in [0.1, 0.2, 0.3, 0.4, 0.5]:\n",
    "    X_u, y_u = UnderSampling(X_train, y_train, target_percentage, 1)\n",
    "    logreg = LogisticRegression(solver='liblinear', C=1e9).fit(X_u, y_u)\n",
    "    y_pred = logreg.predict(X_test)\n",
    "    print('Target_percentage:', target_percentage,'Accuracy:', metrics.accuracy_score(y_test, y_pred),'F1-Score:', metrics.f1_score(y_test, y_pred),'F_Beta-Score:', metrics.fbeta_score(y_test, y_pred, beta=10))"
   ]
  },
  {
   "cell_type": "code",
   "execution_count": 22,
   "metadata": {
    "collapsed": false
   },
   "outputs": [
    {
     "name": "stdout",
     "output_type": "stream",
     "text": [
      "Accuracy: 0.5885931778207087 F1-Score: 0.017490703759812695 F_Beta-Score: 0.37589379908568754\n"
     ]
    }
   ],
   "source": [
    "X_u, y_u = UnderSampling(X_train, y_train, target_percentage, 1)\n",
    "logreg = LogisticRegression(solver='liblinear', C=1e9).fit(X_u, y_u)\n",
    "y_pred = logreg.predict(X_test)\n",
    "print('Accuracy:', metrics.accuracy_score(y_test, y_pred),'F1-Score:', metrics.f1_score(y_test, y_pred),'F_Beta-Score:', metrics.fbeta_score(y_test, y_pred, beta=10))"
   ]
  },
  {
   "cell_type": "code",
   "execution_count": 23,
   "metadata": {
    "collapsed": false
   },
   "outputs": [
    {
     "data": {
      "text/html": [
       "<div>\n",
       "<style scoped>\n",
       "    .dataframe tbody tr th:only-of-type {\n",
       "        vertical-align: middle;\n",
       "    }\n",
       "\n",
       "    .dataframe tbody tr th {\n",
       "        vertical-align: top;\n",
       "    }\n",
       "\n",
       "    .dataframe thead th {\n",
       "        text-align: right;\n",
       "    }\n",
       "</style>\n",
       "<table border=\"1\" class=\"dataframe\">\n",
       "  <thead>\n",
       "    <tr style=\"text-align: right;\">\n",
       "      <th></th>\n",
       "      <th>Modelo</th>\n",
       "      <th>Técnica de balanceo</th>\n",
       "      <th>Accuracy</th>\n",
       "      <th>F1-Score</th>\n",
       "      <th>F_Beta-Score</th>\n",
       "    </tr>\n",
       "  </thead>\n",
       "  <tbody>\n",
       "    <tr>\n",
       "      <th>0</th>\n",
       "      <td>LogisticRegression</td>\n",
       "      <td>-</td>\n",
       "      <td>0.994031</td>\n",
       "      <td>0.000000</td>\n",
       "      <td>0.000000</td>\n",
       "    </tr>\n",
       "    <tr>\n",
       "      <th>1</th>\n",
       "      <td>DecisionTreeClassifier</td>\n",
       "      <td>-</td>\n",
       "      <td>0.994291</td>\n",
       "      <td>0.029412</td>\n",
       "      <td>0.015298</td>\n",
       "    </tr>\n",
       "    <tr>\n",
       "      <th>2</th>\n",
       "      <td>RandomForestClassifier</td>\n",
       "      <td>-</td>\n",
       "      <td>0.994320</td>\n",
       "      <td>0.124444</td>\n",
       "      <td>0.071317</td>\n",
       "    </tr>\n",
       "    <tr>\n",
       "      <th>3</th>\n",
       "      <td>LogisticRegression</td>\n",
       "      <td>UnderSampling</td>\n",
       "      <td>0.588593</td>\n",
       "      <td>0.017491</td>\n",
       "      <td>0.375894</td>\n",
       "    </tr>\n",
       "  </tbody>\n",
       "</table>\n",
       "</div>"
      ]
     },
     "execution_count": 23,
     "metadata": {
     },
     "output_type": "execute_result"
    }
   ],
   "source": [
    "results.loc[len(results)]=['LogisticRegression','UnderSampling',metrics.accuracy_score(y_test, y_pred),metrics.f1_score(y_test, y_pred),metrics.fbeta_score(y_test, y_pred, beta=10)] \n",
    "results"
   ]
  },
  {
   "cell_type": "code",
   "execution_count": 24,
   "metadata": {
    "collapsed": false
   },
   "outputs": [
    {
     "name": "stdout",
     "output_type": "stream",
     "text": [
      "Accuracy: 0.9885528098959084 F1-Score: 0.13882863340563992 F_Beta-Score: 0.16109255844091117\n",
      "Accuracy: 0.989244831463914 F1-Score: 0.10978520286396183 F_Beta-Score: 0.11602817042105788\n",
      "Accuracy: 0.8623165421988985 F1-Score: 0.03710425489009881 F_Beta-Score: 0.3783233581694556\n",
      "Accuracy: 0.8288688330786309 F1-Score: 0.03448836830974458 F_Beta-Score: 0.41578313720921195\n",
      "Accuracy: 0.8243418586545948 F1-Score: 0.03454833597464343 F_Beta-Score: 0.4248610682309355\n"
     ]
    }
   ],
   "source": [
    "for target_percentage in [0.1, 0.2, 0.3, 0.4, 0.5]:\n",
    "    X_u, y_u = UnderSampling(X_train, y_train, target_percentage, 1)\n",
    "    treeclf = DecisionTreeClassifier(max_depth=3, random_state=42).fit(X_u, y_u)\n",
    "    y_pred = treeclf.predict(X_test)\n",
    "    print('Accuracy:', metrics.accuracy_score(y_test, y_pred),'F1-Score:', metrics.f1_score(y_test, y_pred),'F_Beta-Score:', metrics.fbeta_score(y_test, y_pred, beta=10))"
   ]
  },
  {
   "cell_type": "code",
   "execution_count": 25,
   "metadata": {
    "collapsed": false
   },
   "outputs": [
    {
     "name": "stdout",
     "output_type": "stream",
     "text": [
      "Accuracy: 0.8243418586545948 F1-Score: 0.03454833597464343 F_Beta-Score: 0.4248610682309355\n"
     ]
    }
   ],
   "source": [
    "X_u, y_u = UnderSampling(X_train, y_train, target_percentage, 1)\n",
    "treeclf = DecisionTreeClassifier(max_depth=3, random_state=42).fit(X_u, y_u)\n",
    "y_pred = treeclf.predict(X_test)\n",
    "print('Accuracy:', metrics.accuracy_score(y_test, y_pred),'F1-Score:', metrics.f1_score(y_test, y_pred),'F_Beta-Score:', metrics.fbeta_score(y_test, y_pred, beta=10))"
   ]
  },
  {
   "cell_type": "code",
   "execution_count": 26,
   "metadata": {
    "collapsed": false
   },
   "outputs": [
    {
     "data": {
      "text/html": [
       "<div>\n",
       "<style scoped>\n",
       "    .dataframe tbody tr th:only-of-type {\n",
       "        vertical-align: middle;\n",
       "    }\n",
       "\n",
       "    .dataframe tbody tr th {\n",
       "        vertical-align: top;\n",
       "    }\n",
       "\n",
       "    .dataframe thead th {\n",
       "        text-align: right;\n",
       "    }\n",
       "</style>\n",
       "<table border=\"1\" class=\"dataframe\">\n",
       "  <thead>\n",
       "    <tr style=\"text-align: right;\">\n",
       "      <th></th>\n",
       "      <th>Modelo</th>\n",
       "      <th>Técnica de balanceo</th>\n",
       "      <th>Accuracy</th>\n",
       "      <th>F1-Score</th>\n",
       "      <th>F_Beta-Score</th>\n",
       "    </tr>\n",
       "  </thead>\n",
       "  <tbody>\n",
       "    <tr>\n",
       "      <th>0</th>\n",
       "      <td>LogisticRegression</td>\n",
       "      <td>-</td>\n",
       "      <td>0.994031</td>\n",
       "      <td>0.000000</td>\n",
       "      <td>0.000000</td>\n",
       "    </tr>\n",
       "    <tr>\n",
       "      <th>1</th>\n",
       "      <td>DecisionTreeClassifier</td>\n",
       "      <td>-</td>\n",
       "      <td>0.994291</td>\n",
       "      <td>0.029412</td>\n",
       "      <td>0.015298</td>\n",
       "    </tr>\n",
       "    <tr>\n",
       "      <th>2</th>\n",
       "      <td>RandomForestClassifier</td>\n",
       "      <td>-</td>\n",
       "      <td>0.994320</td>\n",
       "      <td>0.124444</td>\n",
       "      <td>0.071317</td>\n",
       "    </tr>\n",
       "    <tr>\n",
       "      <th>3</th>\n",
       "      <td>LogisticRegression</td>\n",
       "      <td>UnderSampling</td>\n",
       "      <td>0.588593</td>\n",
       "      <td>0.017491</td>\n",
       "      <td>0.375894</td>\n",
       "    </tr>\n",
       "    <tr>\n",
       "      <th>4</th>\n",
       "      <td>DecisionTreeClassifier</td>\n",
       "      <td>UnderSampling</td>\n",
       "      <td>0.824342</td>\n",
       "      <td>0.034548</td>\n",
       "      <td>0.424861</td>\n",
       "    </tr>\n",
       "  </tbody>\n",
       "</table>\n",
       "</div>"
      ]
     },
     "execution_count": 26,
     "metadata": {
     },
     "output_type": "execute_result"
    }
   ],
   "source": [
    "results.loc[len(results)]=['DecisionTreeClassifier','UnderSampling',metrics.accuracy_score(y_test, y_pred),metrics.f1_score(y_test, y_pred),metrics.fbeta_score(y_test, y_pred, beta=10)] \n",
    "results"
   ]
  },
  {
   "cell_type": "code",
   "execution_count": 27,
   "metadata": {
    "collapsed": false
   },
   "outputs": [
    {
     "name": "stdout",
     "output_type": "stream",
     "text": [
      "Target_percentage: 0.1 Accuracy: 0.9814884230558519 F1-Score: 0.1640625 F_Beta-Score: 0.31237113402061856\n",
      "Target_percentage: 0.2 Accuracy: 0.9490787462875926 F1-Score: 0.08875128998968007 F_Beta-Score: 0.40324976787372335\n",
      "Target_percentage: 0.3 Accuracy: 0.9162077218073297 F1-Score: 0.06679511881824021 F_Beta-Score: 0.4624053530551154\n",
      "Target_percentage: 0.4 Accuracy: 0.850119662062801 F1-Score: 0.04553800954829232 F_Beta-Score: 0.5\n",
      "Target_percentage: 0.5 Accuracy: 0.7748046480781985 F1-Score: 0.03341584158415842 F_Beta-Score: 0.4925583411603207\n"
     ]
    }
   ],
   "source": [
    "for target_percentage in [0.1, 0.2, 0.3, 0.4, 0.5]:\n",
    "    X_u, y_u = UnderSampling(X_train, y_train, target_percentage, 1)\n",
    "    rfclf = RandomForestClassifier(random_state=42).fit(X_u, y_u)\n",
    "    y_pred = rfclf.predict(X_test)\n",
    "    print('Target_percentage:', target_percentage,'Accuracy:', metrics.accuracy_score(y_test, y_pred),'F1-Score:', metrics.f1_score(y_test, y_pred),'F_Beta-Score:', metrics.fbeta_score(y_test, y_pred, beta=10))"
   ]
  },
  {
   "cell_type": "code",
   "execution_count": 28,
   "metadata": {
    "collapsed": false
   },
   "outputs": [
    {
     "name": "stdout",
     "output_type": "stream",
     "text": [
      "Accuracy: 0.850119662062801 F1-Score: 0.04553800954829232 F_Beta-Score: 0.5\n"
     ]
    }
   ],
   "source": [
    "target_percentage = 0.4\n",
    "\n",
    "X_u, y_u = UnderSampling(X_train, y_train, target_percentage, 1)\n",
    "rfclf = RandomForestClassifier(random_state=42).fit(X_u, y_u)\n",
    "y_pred = rfclf.predict(X_test)\n",
    "print('Accuracy:', metrics.accuracy_score(y_test, y_pred),'F1-Score:', metrics.f1_score(y_test, y_pred),'F_Beta-Score:', metrics.fbeta_score(y_test, y_pred, beta=10))"
   ]
  },
  {
   "cell_type": "code",
   "execution_count": 29,
   "metadata": {
    "collapsed": false
   },
   "outputs": [
    {
     "data": {
      "text/html": [
       "<div>\n",
       "<style scoped>\n",
       "    .dataframe tbody tr th:only-of-type {\n",
       "        vertical-align: middle;\n",
       "    }\n",
       "\n",
       "    .dataframe tbody tr th {\n",
       "        vertical-align: top;\n",
       "    }\n",
       "\n",
       "    .dataframe thead th {\n",
       "        text-align: right;\n",
       "    }\n",
       "</style>\n",
       "<table border=\"1\" class=\"dataframe\">\n",
       "  <thead>\n",
       "    <tr style=\"text-align: right;\">\n",
       "      <th></th>\n",
       "      <th>Modelo</th>\n",
       "      <th>Técnica de balanceo</th>\n",
       "      <th>Accuracy</th>\n",
       "      <th>F1-Score</th>\n",
       "      <th>F_Beta-Score</th>\n",
       "    </tr>\n",
       "  </thead>\n",
       "  <tbody>\n",
       "    <tr>\n",
       "      <th>0</th>\n",
       "      <td>LogisticRegression</td>\n",
       "      <td>-</td>\n",
       "      <td>0.994031</td>\n",
       "      <td>0.000000</td>\n",
       "      <td>0.000000</td>\n",
       "    </tr>\n",
       "    <tr>\n",
       "      <th>1</th>\n",
       "      <td>DecisionTreeClassifier</td>\n",
       "      <td>-</td>\n",
       "      <td>0.994291</td>\n",
       "      <td>0.029412</td>\n",
       "      <td>0.015298</td>\n",
       "    </tr>\n",
       "    <tr>\n",
       "      <th>2</th>\n",
       "      <td>RandomForestClassifier</td>\n",
       "      <td>-</td>\n",
       "      <td>0.994320</td>\n",
       "      <td>0.124444</td>\n",
       "      <td>0.071317</td>\n",
       "    </tr>\n",
       "    <tr>\n",
       "      <th>3</th>\n",
       "      <td>LogisticRegression</td>\n",
       "      <td>UnderSampling</td>\n",
       "      <td>0.588593</td>\n",
       "      <td>0.017491</td>\n",
       "      <td>0.375894</td>\n",
       "    </tr>\n",
       "    <tr>\n",
       "      <th>4</th>\n",
       "      <td>DecisionTreeClassifier</td>\n",
       "      <td>UnderSampling</td>\n",
       "      <td>0.824342</td>\n",
       "      <td>0.034548</td>\n",
       "      <td>0.424861</td>\n",
       "    </tr>\n",
       "    <tr>\n",
       "      <th>5</th>\n",
       "      <td>RandomForestClassifier</td>\n",
       "      <td>UnderSampling</td>\n",
       "      <td>0.850120</td>\n",
       "      <td>0.045538</td>\n",
       "      <td>0.500000</td>\n",
       "    </tr>\n",
       "  </tbody>\n",
       "</table>\n",
       "</div>"
      ]
     },
     "execution_count": 29,
     "metadata": {
     },
     "output_type": "execute_result"
    }
   ],
   "source": [
    "results.loc[len(results)]=['RandomForestClassifier','UnderSampling',metrics.accuracy_score(y_test, y_pred),metrics.f1_score(y_test, y_pred),metrics.fbeta_score(y_test, y_pred, beta=10)] \n",
    "results"
   ]
  },
  {
   "cell_type": "markdown",
   "metadata": {
    "collapsed": false
   },
   "source": [
    "- Con base en los modelos usados el Target_percentage que presenta las mejores metricas de desempeño para la regresión logistica y los arboles de decisión es \"0.5\", sin embargo, para el RandomFores el mejor Target_percentage es \"0.4\"."
   ]
  },
  {
   "cell_type": "markdown",
   "metadata": {
    "collapsed": false
   },
   "source": [
    "# Exercise 15.3\n",
    "\n",
    "Same analysis using random-over-sampling"
   ]
  },
  {
   "cell_type": "code",
   "execution_count": 30,
   "metadata": {
    "collapsed": false
   },
   "outputs": [
   ],
   "source": [
    "def OverSampling(X, y, target_percentage=0.5, seed=None):\n",
    "    # Assuming minority class is the positive\n",
    "    n_samples = y.shape[0]\n",
    "    n_samples_0 = (y == 0).sum()\n",
    "    n_samples_1 = (y == 1).sum()\n",
    "   \n",
    "    n_samples_1_new =  -target_percentage * n_samples_0 / (target_percentage- 1)\n",
    "    np.random.seed(seed)\n",
    "    filter_ = np.random.choice(X[y == 1].shape[0], int(n_samples_1_new))\n",
    "    # filter_ is within the positives, change to be of all\n",
    "    filter_ = np.nonzero(y == 1)[0][filter_]\n",
    "    filter_ = np.concatenate((filter_, np.nonzero(y == 0)[0]), axis=0)\n",
    "    \n",
    "    return X.iloc[filter_], y.iloc[filter_]"
   ]
  },
  {
   "cell_type": "code",
   "execution_count": 31,
   "metadata": {
    "collapsed": false
   },
   "outputs": [
    {
     "name": "stdout",
     "output_type": "stream",
     "text": [
      "Target_percentage: 0.1 Accuracy: 0.9942043193679536 F1-Score: 0.0 F_Beta-Score: 0.0\n",
      "Target_percentage: 0.2 Accuracy: 0.993137452783945 F1-Score: 0.0 F_Beta-Score: 0.0\n",
      "Target_percentage: 0.3 Accuracy: 0.9446382745595571 F1-Score: 0.03614457831325302 F_Beta-Score: 0.1683801055848847\n",
      "Target_percentage: 0.4 Accuracy: 0.9041838470632335 F1-Score: 0.037648421662322615 F_Beta-Score: 0.28475384949034915\n",
      "Target_percentage: 0.5 Accuracy: 0.5649491075805196 F1-Score: 0.01821967725143155 F_Beta-Score: 0.40434658278524443\n"
     ]
    }
   ],
   "source": [
    "for target_percentage in [0.1, 0.2, 0.3, 0.4, 0.5]:\n",
    "    X_u, y_u = OverSampling(X_train, y_train, target_percentage, 1)\n",
    "    logreg = LogisticRegression(solver='liblinear', C=1e9).fit(X_u, y_u)\n",
    "    y_pred = logreg.predict(X_test)\n",
    "    print('Target_percentage:', target_percentage,'Accuracy:', metrics.accuracy_score(y_test, y_pred),'F1-Score:', metrics.f1_score(y_test, y_pred),'F_Beta-Score:', metrics.fbeta_score(y_test, y_pred, beta=10))"
   ]
  },
  {
   "cell_type": "code",
   "execution_count": 32,
   "metadata": {
    "collapsed": false
   },
   "outputs": [
    {
     "name": "stdout",
     "output_type": "stream",
     "text": [
      "Accuracy: 0.5649491075805196 F1-Score: 0.01821967725143155 F_Beta-Score: 0.40434658278524443\n"
     ]
    }
   ],
   "source": [
    "X_u, y_u = OverSampling(X_train, y_train, target_percentage, 1)\n",
    "logreg = LogisticRegression(solver='liblinear', C=1e9).fit(X_u, y_u)\n",
    "y_pred = logreg.predict(X_test)\n",
    "print('Accuracy:', metrics.accuracy_score(y_test, y_pred),'F1-Score:', metrics.f1_score(y_test, y_pred),'F_Beta-Score:', metrics.fbeta_score(y_test, y_pred, beta=10))"
   ]
  },
  {
   "cell_type": "code",
   "execution_count": 33,
   "metadata": {
    "collapsed": false
   },
   "outputs": [
    {
     "data": {
      "text/html": [
       "<div>\n",
       "<style scoped>\n",
       "    .dataframe tbody tr th:only-of-type {\n",
       "        vertical-align: middle;\n",
       "    }\n",
       "\n",
       "    .dataframe tbody tr th {\n",
       "        vertical-align: top;\n",
       "    }\n",
       "\n",
       "    .dataframe thead th {\n",
       "        text-align: right;\n",
       "    }\n",
       "</style>\n",
       "<table border=\"1\" class=\"dataframe\">\n",
       "  <thead>\n",
       "    <tr style=\"text-align: right;\">\n",
       "      <th></th>\n",
       "      <th>Modelo</th>\n",
       "      <th>Técnica de balanceo</th>\n",
       "      <th>Accuracy</th>\n",
       "      <th>F1-Score</th>\n",
       "      <th>F_Beta-Score</th>\n",
       "    </tr>\n",
       "  </thead>\n",
       "  <tbody>\n",
       "    <tr>\n",
       "      <th>0</th>\n",
       "      <td>LogisticRegression</td>\n",
       "      <td>-</td>\n",
       "      <td>0.994031</td>\n",
       "      <td>0.000000</td>\n",
       "      <td>0.000000</td>\n",
       "    </tr>\n",
       "    <tr>\n",
       "      <th>1</th>\n",
       "      <td>DecisionTreeClassifier</td>\n",
       "      <td>-</td>\n",
       "      <td>0.994291</td>\n",
       "      <td>0.029412</td>\n",
       "      <td>0.015298</td>\n",
       "    </tr>\n",
       "    <tr>\n",
       "      <th>2</th>\n",
       "      <td>RandomForestClassifier</td>\n",
       "      <td>-</td>\n",
       "      <td>0.994320</td>\n",
       "      <td>0.124444</td>\n",
       "      <td>0.071317</td>\n",
       "    </tr>\n",
       "    <tr>\n",
       "      <th>3</th>\n",
       "      <td>LogisticRegression</td>\n",
       "      <td>UnderSampling</td>\n",
       "      <td>0.588593</td>\n",
       "      <td>0.017491</td>\n",
       "      <td>0.375894</td>\n",
       "    </tr>\n",
       "    <tr>\n",
       "      <th>4</th>\n",
       "      <td>DecisionTreeClassifier</td>\n",
       "      <td>UnderSampling</td>\n",
       "      <td>0.824342</td>\n",
       "      <td>0.034548</td>\n",
       "      <td>0.424861</td>\n",
       "    </tr>\n",
       "    <tr>\n",
       "      <th>5</th>\n",
       "      <td>RandomForestClassifier</td>\n",
       "      <td>UnderSampling</td>\n",
       "      <td>0.850120</td>\n",
       "      <td>0.045538</td>\n",
       "      <td>0.500000</td>\n",
       "    </tr>\n",
       "    <tr>\n",
       "      <th>6</th>\n",
       "      <td>LogisticRegression</td>\n",
       "      <td>OverSampling</td>\n",
       "      <td>0.564949</td>\n",
       "      <td>0.018220</td>\n",
       "      <td>0.404347</td>\n",
       "    </tr>\n",
       "  </tbody>\n",
       "</table>\n",
       "</div>"
      ]
     },
     "execution_count": 33,
     "metadata": {
     },
     "output_type": "execute_result"
    }
   ],
   "source": [
    "results.loc[len(results)]=['LogisticRegression','OverSampling',metrics.accuracy_score(y_test, y_pred),metrics.f1_score(y_test, y_pred),metrics.fbeta_score(y_test, y_pred, beta=10)] \n",
    "results"
   ]
  },
  {
   "cell_type": "code",
   "execution_count": 34,
   "metadata": {
    "collapsed": false
   },
   "outputs": [
    {
     "name": "stdout",
     "output_type": "stream",
     "text": [
      "Target_percentage: 0.1 Accuracy: 0.9901963611199216 F1-Score: 0.11458333333333334 F_Beta-Score: 0.11117782447713401\n",
      "Target_percentage: 0.2 Accuracy: 0.9900810241919207 F1-Score: 0.10416666666666666 F_Beta-Score: 0.1010707495246673\n",
      "Target_percentage: 0.3 Accuracy: 0.9705890833597647 F1-Score: 0.07441016333938295 F_Beta-Score: 0.20000965996908812\n",
      "Target_percentage: 0.4 Accuracy: 0.8157780917505262 F1-Score: 0.03504002416553391 F_Beta-Score: 0.4467833581207337\n",
      "Target_percentage: 0.5 Accuracy: 0.8157780917505262 F1-Score: 0.03504002416553391 F_Beta-Score: 0.4467833581207337\n"
     ]
    }
   ],
   "source": [
    "for target_percentage in [0.1, 0.2, 0.3, 0.4, 0.5]:\n",
    "    X_u, y_u = OverSampling(X_train, y_train, target_percentage, 1)\n",
    "    treeclf = DecisionTreeClassifier(max_depth=3, random_state=42).fit(X_u, y_u)\n",
    "    y_pred = treeclf.predict(X_test)\n",
    "    print('Target_percentage:', target_percentage,'Accuracy:', metrics.accuracy_score(y_test, y_pred),'F1-Score:', metrics.f1_score(y_test, y_pred),'F_Beta-Score:', metrics.fbeta_score(y_test, y_pred, beta=10))"
   ]
  },
  {
   "cell_type": "code",
   "execution_count": 35,
   "metadata": {
    "collapsed": false
   },
   "outputs": [
    {
     "name": "stdout",
     "output_type": "stream",
     "text": [
      "Accuracy: 0.8157780917505262 F1-Score: 0.03504002416553391 F_Beta-Score: 0.4467833581207337\n"
     ]
    }
   ],
   "source": [
    "X_u, y_u = OverSampling(X_train, y_train, target_percentage, 1)\n",
    "treeclf = DecisionTreeClassifier(max_depth=3, random_state=42).fit(X_u, y_u)\n",
    "y_pred = treeclf.predict(X_test)\n",
    "print('Accuracy:', metrics.accuracy_score(y_test, y_pred),'F1-Score:', metrics.f1_score(y_test, y_pred),'F_Beta-Score:', metrics.fbeta_score(y_test, y_pred, beta=10))"
   ]
  },
  {
   "cell_type": "code",
   "execution_count": 36,
   "metadata": {
    "collapsed": false
   },
   "outputs": [
    {
     "data": {
      "text/html": [
       "<div>\n",
       "<style scoped>\n",
       "    .dataframe tbody tr th:only-of-type {\n",
       "        vertical-align: middle;\n",
       "    }\n",
       "\n",
       "    .dataframe tbody tr th {\n",
       "        vertical-align: top;\n",
       "    }\n",
       "\n",
       "    .dataframe thead th {\n",
       "        text-align: right;\n",
       "    }\n",
       "</style>\n",
       "<table border=\"1\" class=\"dataframe\">\n",
       "  <thead>\n",
       "    <tr style=\"text-align: right;\">\n",
       "      <th></th>\n",
       "      <th>Modelo</th>\n",
       "      <th>Técnica de balanceo</th>\n",
       "      <th>Accuracy</th>\n",
       "      <th>F1-Score</th>\n",
       "      <th>F_Beta-Score</th>\n",
       "    </tr>\n",
       "  </thead>\n",
       "  <tbody>\n",
       "    <tr>\n",
       "      <th>0</th>\n",
       "      <td>LogisticRegression</td>\n",
       "      <td>-</td>\n",
       "      <td>0.994031</td>\n",
       "      <td>0.000000</td>\n",
       "      <td>0.000000</td>\n",
       "    </tr>\n",
       "    <tr>\n",
       "      <th>1</th>\n",
       "      <td>DecisionTreeClassifier</td>\n",
       "      <td>-</td>\n",
       "      <td>0.994291</td>\n",
       "      <td>0.029412</td>\n",
       "      <td>0.015298</td>\n",
       "    </tr>\n",
       "    <tr>\n",
       "      <th>2</th>\n",
       "      <td>RandomForestClassifier</td>\n",
       "      <td>-</td>\n",
       "      <td>0.994320</td>\n",
       "      <td>0.124444</td>\n",
       "      <td>0.071317</td>\n",
       "    </tr>\n",
       "    <tr>\n",
       "      <th>3</th>\n",
       "      <td>LogisticRegression</td>\n",
       "      <td>UnderSampling</td>\n",
       "      <td>0.588593</td>\n",
       "      <td>0.017491</td>\n",
       "      <td>0.375894</td>\n",
       "    </tr>\n",
       "    <tr>\n",
       "      <th>4</th>\n",
       "      <td>DecisionTreeClassifier</td>\n",
       "      <td>UnderSampling</td>\n",
       "      <td>0.824342</td>\n",
       "      <td>0.034548</td>\n",
       "      <td>0.424861</td>\n",
       "    </tr>\n",
       "    <tr>\n",
       "      <th>5</th>\n",
       "      <td>RandomForestClassifier</td>\n",
       "      <td>UnderSampling</td>\n",
       "      <td>0.850120</td>\n",
       "      <td>0.045538</td>\n",
       "      <td>0.500000</td>\n",
       "    </tr>\n",
       "    <tr>\n",
       "      <th>6</th>\n",
       "      <td>LogisticRegression</td>\n",
       "      <td>OverSampling</td>\n",
       "      <td>0.564949</td>\n",
       "      <td>0.018220</td>\n",
       "      <td>0.404347</td>\n",
       "    </tr>\n",
       "    <tr>\n",
       "      <th>7</th>\n",
       "      <td>DecisionTreeClassifier</td>\n",
       "      <td>OverSampling</td>\n",
       "      <td>0.815778</td>\n",
       "      <td>0.035040</td>\n",
       "      <td>0.446783</td>\n",
       "    </tr>\n",
       "  </tbody>\n",
       "</table>\n",
       "</div>"
      ]
     },
     "execution_count": 36,
     "metadata": {
     },
     "output_type": "execute_result"
    }
   ],
   "source": [
    "results.loc[len(results)]=['DecisionTreeClassifier','OverSampling',metrics.accuracy_score(y_test, y_pred),metrics.f1_score(y_test, y_pred),metrics.fbeta_score(y_test, y_pred, beta=10)] \n",
    "results"
   ]
  },
  {
   "cell_type": "code",
   "execution_count": 37,
   "metadata": {
    "collapsed": false
   },
   "outputs": [
    {
     "name": "stdout",
     "output_type": "stream",
     "text": [
      "Target_percentage: 0.1 Accuracy: 0.9936564689599493 F1-Score: 0.15384615384615383 F_Beta-Score: 0.10170174201993756\n",
      "Target_percentage: 0.2 Accuracy: 0.9935699662639486 F1-Score: 0.14559386973180075 F_Beta-Score: 0.09661179076675223\n",
      "Target_percentage: 0.3 Accuracy: 0.9935411320319484 F1-Score: 0.15789473684210525 F_Beta-Score: 0.1067545802295148\n",
      "Target_percentage: 0.4 Accuracy: 0.9934834635679479 F1-Score: 0.15037593984962405 F_Beta-Score: 0.10167102879001409\n",
      "Target_percentage: 0.5 Accuracy: 0.9937141374239498 F1-Score: 0.16153846153846152 F_Beta-Score: 0.10678682912093446\n"
     ]
    }
   ],
   "source": [
    "for target_percentage in [0.1, 0.2, 0.3, 0.4, 0.5]:\n",
    "    X_u, y_u = OverSampling(X_train, y_train, target_percentage, 1)\n",
    "    rfclf = RandomForestClassifier(random_state=42).fit(X_u, y_u)\n",
    "    y_pred = rfclf.predict(X_test)\n",
    "    print('Target_percentage:', target_percentage,'Accuracy:', metrics.accuracy_score(y_test, y_pred),'F1-Score:', metrics.f1_score(y_test, y_pred),'F_Beta-Score:', metrics.fbeta_score(y_test, y_pred, beta=10))"
   ]
  },
  {
   "cell_type": "code",
   "execution_count": 38,
   "metadata": {
    "collapsed": false
   },
   "outputs": [
    {
     "name": "stdout",
     "output_type": "stream",
     "text": [
      "Accuracy: 0.9937141374239498 F1-Score: 0.16153846153846152 F_Beta-Score: 0.10678682912093446\n"
     ]
    }
   ],
   "source": [
    "X_u, y_u = OverSampling(X_train, y_train, target_percentage, 1)\n",
    "rfclf = RandomForestClassifier(random_state=42).fit(X_u, y_u)\n",
    "y_pred = rfclf.predict(X_test)\n",
    "print('Accuracy:', metrics.accuracy_score(y_test, y_pred),'F1-Score:', metrics.f1_score(y_test, y_pred),'F_Beta-Score:', metrics.fbeta_score(y_test, y_pred, beta=10))"
   ]
  },
  {
   "cell_type": "code",
   "execution_count": 39,
   "metadata": {
    "collapsed": false
   },
   "outputs": [
    {
     "data": {
      "text/html": [
       "<div>\n",
       "<style scoped>\n",
       "    .dataframe tbody tr th:only-of-type {\n",
       "        vertical-align: middle;\n",
       "    }\n",
       "\n",
       "    .dataframe tbody tr th {\n",
       "        vertical-align: top;\n",
       "    }\n",
       "\n",
       "    .dataframe thead th {\n",
       "        text-align: right;\n",
       "    }\n",
       "</style>\n",
       "<table border=\"1\" class=\"dataframe\">\n",
       "  <thead>\n",
       "    <tr style=\"text-align: right;\">\n",
       "      <th></th>\n",
       "      <th>Modelo</th>\n",
       "      <th>Técnica de balanceo</th>\n",
       "      <th>Accuracy</th>\n",
       "      <th>F1-Score</th>\n",
       "      <th>F_Beta-Score</th>\n",
       "    </tr>\n",
       "  </thead>\n",
       "  <tbody>\n",
       "    <tr>\n",
       "      <th>0</th>\n",
       "      <td>LogisticRegression</td>\n",
       "      <td>-</td>\n",
       "      <td>0.994031</td>\n",
       "      <td>0.000000</td>\n",
       "      <td>0.000000</td>\n",
       "    </tr>\n",
       "    <tr>\n",
       "      <th>1</th>\n",
       "      <td>DecisionTreeClassifier</td>\n",
       "      <td>-</td>\n",
       "      <td>0.994291</td>\n",
       "      <td>0.029412</td>\n",
       "      <td>0.015298</td>\n",
       "    </tr>\n",
       "    <tr>\n",
       "      <th>2</th>\n",
       "      <td>RandomForestClassifier</td>\n",
       "      <td>-</td>\n",
       "      <td>0.994320</td>\n",
       "      <td>0.124444</td>\n",
       "      <td>0.071317</td>\n",
       "    </tr>\n",
       "    <tr>\n",
       "      <th>3</th>\n",
       "      <td>LogisticRegression</td>\n",
       "      <td>UnderSampling</td>\n",
       "      <td>0.588593</td>\n",
       "      <td>0.017491</td>\n",
       "      <td>0.375894</td>\n",
       "    </tr>\n",
       "    <tr>\n",
       "      <th>4</th>\n",
       "      <td>DecisionTreeClassifier</td>\n",
       "      <td>UnderSampling</td>\n",
       "      <td>0.824342</td>\n",
       "      <td>0.034548</td>\n",
       "      <td>0.424861</td>\n",
       "    </tr>\n",
       "    <tr>\n",
       "      <th>5</th>\n",
       "      <td>RandomForestClassifier</td>\n",
       "      <td>UnderSampling</td>\n",
       "      <td>0.850120</td>\n",
       "      <td>0.045538</td>\n",
       "      <td>0.500000</td>\n",
       "    </tr>\n",
       "    <tr>\n",
       "      <th>6</th>\n",
       "      <td>LogisticRegression</td>\n",
       "      <td>OverSampling</td>\n",
       "      <td>0.564949</td>\n",
       "      <td>0.018220</td>\n",
       "      <td>0.404347</td>\n",
       "    </tr>\n",
       "    <tr>\n",
       "      <th>7</th>\n",
       "      <td>DecisionTreeClassifier</td>\n",
       "      <td>OverSampling</td>\n",
       "      <td>0.815778</td>\n",
       "      <td>0.035040</td>\n",
       "      <td>0.446783</td>\n",
       "    </tr>\n",
       "    <tr>\n",
       "      <th>8</th>\n",
       "      <td>RandomForestClassifier</td>\n",
       "      <td>OverSampling</td>\n",
       "      <td>0.993714</td>\n",
       "      <td>0.161538</td>\n",
       "      <td>0.106787</td>\n",
       "    </tr>\n",
       "  </tbody>\n",
       "</table>\n",
       "</div>"
      ]
     },
     "execution_count": 39,
     "metadata": {
     },
     "output_type": "execute_result"
    }
   ],
   "source": [
    "results.loc[len(results)]=['RandomForestClassifier','OverSampling',metrics.accuracy_score(y_test, y_pred),metrics.f1_score(y_test, y_pred),metrics.fbeta_score(y_test, y_pred, beta=10)] \n",
    "results"
   ]
  },
  {
   "cell_type": "markdown",
   "metadata": {
    "collapsed": false
   },
   "source": [
    "- Al usar OverSampling el target_percentage qu mejora el modelo para la regresión lineal es 0.4, sin embargo para los arboles de desición, el target_percentage 0.4 y 0.5 generan el mismo F_Beta-Score. Para el caso del RandomForestClassifier el mejor target_percentage es 0.5."
   ]
  },
  {
   "cell_type": "markdown",
   "metadata": {
    "collapsed": false
   },
   "source": [
    "# Exercise 15.4 (3 points)\n",
    "\n",
    "Evaluate the results using SMOTE\n",
    "\n",
    "Which parameters did you choose?"
   ]
  },
  {
   "cell_type": "code",
   "execution_count": 40,
   "metadata": {
    "collapsed": false
   },
   "outputs": [
   ],
   "source": [
    "def SMOTE(X, y, target_percentage=0.5, k=5, seed=None):\n",
    "    # Calculate the NearestNeighbors\n",
    "    from sklearn.neighbors import NearestNeighbors\n",
    "    nearest_neighbour_ = NearestNeighbors(n_neighbors=k + 1)\n",
    "    nearest_neighbour_.fit(X[y==1])\n",
    "    nns = nearest_neighbour_.kneighbors(X[y==1], \n",
    "                                    return_distance=False)[:, 1:]\n",
    "    \n",
    "    # New samples\n",
    "    n_samples_1_new =  int(-target_percentage * n_samples_0 / (target_percentage- 1) - n_samples_1)\n",
    "    \n",
    "    # A matrix to store the synthetic samples\n",
    "    new = np.zeros((n_samples_1_new, X.shape[1]))\n",
    "    \n",
    "    # Create seeds\n",
    "    np.random.seed(seed)\n",
    "    seeds = np.random.randint(1, 1000000, 3)\n",
    "    \n",
    "    # Select examples to use as base\n",
    "    np.random.seed(seeds[0])\n",
    "    sel_ = np.random.choice(y[y==1].shape[0], n_samples_1_new)\n",
    "    \n",
    "    # Define random seeds (2 per example)\n",
    "    np.random.seed(seeds[1])\n",
    "    nn__=[]\n",
    "    for i, sel in enumerate(sel_):\n",
    "        nn__.append(np.random.choice(nns[sel]))\n",
    "    \n",
    "    np.random.seed(seeds[2])\n",
    "    steps = np.random.uniform(size=n_samples_1_new)  \n",
    "\n",
    "    # For each selected examples create one synthetic case\n",
    "    for i, sel in enumerate(sel_):\n",
    "        # Select neighbor\n",
    "        nn_ = nn__[i]\n",
    "        step = steps[i]\n",
    "        # Create new sample\n",
    "        new[i, :] = X[y==1].iloc[sel] - step * (X[y==1].iloc[sel] - X[y==1].iloc[nn_])\n",
    "    \n",
    "    X = np.vstack((X, new))\n",
    "    y = np.append(y, np.ones(n_samples_1_new))\n",
    "    \n",
    "    return X, y"
   ]
  },
  {
   "cell_type": "code",
   "execution_count": 41,
   "metadata": {
    "collapsed": false
   },
   "outputs": [
    {
     "name": "stdout",
     "output_type": "stream",
     "text": [
      "Target_percentage: 0.25 k  5 Accuracy: 0.9337677690954701 F1-Score: 0.03527929441411173 F_Beta-Score: 0.1929672929081563\n",
      "Target_percentage: 0.25 k  15 Accuracy: 0.9320377151754563 F1-Score: 0.033620336203362036 F_Beta-Score: 0.18787713806088654\n",
      "Target_percentage: 0.5 k  5 Accuracy: 0.46062685620368504 F1-Score: 0.01723232110959336 F_Beta-Score: 0.4287193291230976\n",
      "Target_percentage: 0.5 k  15 Accuracy: 0.4473631094835789 F1-Score: 0.017128205128205128 F_Beta-Score: 0.43135900976932123\n"
     ]
    }
   ],
   "source": [
    "for target_percentage in [0.25, 0.5]:\n",
    "    for k in [5, 15]:\n",
    "        X_u, y_u = SMOTE(X_train, y_train, target_percentage, k, seed=3)\n",
    "        logreg = LogisticRegression(solver='liblinear', C=1e9).fit(X_u, y_u)\n",
    "        y_pred = logreg.predict(X_test)\n",
    "        print('Target_percentage:', target_percentage,'k ', k,'Accuracy:', metrics.accuracy_score(y_test, y_pred),'F1-Score:', metrics.f1_score(y_test, y_pred),'F_Beta-Score:', metrics.fbeta_score(y_test, y_pred, beta=10))"
   ]
  },
  {
   "cell_type": "code",
   "execution_count": 42,
   "metadata": {
    "collapsed": false
   },
   "outputs": [
    {
     "name": "stdout",
     "output_type": "stream",
     "text": [
      "Accuracy: 0.4473631094835789 F1-Score: 0.017128205128205128 F_Beta-Score: 0.43135900976932123\n"
     ]
    }
   ],
   "source": [
    "X_u, y_u = SMOTE(X_train, y_train, target_percentage, k, seed=3)\n",
    "logreg = LogisticRegression(solver='liblinear', C=1e9).fit(X_u, y_u)\n",
    "y_pred = logreg.predict(X_test)\n",
    "print('Accuracy:', metrics.accuracy_score(y_test, y_pred),'F1-Score:', metrics.f1_score(y_test, y_pred),'F_Beta-Score:', metrics.fbeta_score(y_test, y_pred, beta=10))"
   ]
  },
  {
   "cell_type": "code",
   "execution_count": 43,
   "metadata": {
    "collapsed": false
   },
   "outputs": [
    {
     "data": {
      "text/html": [
       "<div>\n",
       "<style scoped>\n",
       "    .dataframe tbody tr th:only-of-type {\n",
       "        vertical-align: middle;\n",
       "    }\n",
       "\n",
       "    .dataframe tbody tr th {\n",
       "        vertical-align: top;\n",
       "    }\n",
       "\n",
       "    .dataframe thead th {\n",
       "        text-align: right;\n",
       "    }\n",
       "</style>\n",
       "<table border=\"1\" class=\"dataframe\">\n",
       "  <thead>\n",
       "    <tr style=\"text-align: right;\">\n",
       "      <th></th>\n",
       "      <th>Modelo</th>\n",
       "      <th>Técnica de balanceo</th>\n",
       "      <th>Accuracy</th>\n",
       "      <th>F1-Score</th>\n",
       "      <th>F_Beta-Score</th>\n",
       "    </tr>\n",
       "  </thead>\n",
       "  <tbody>\n",
       "    <tr>\n",
       "      <th>0</th>\n",
       "      <td>LogisticRegression</td>\n",
       "      <td>-</td>\n",
       "      <td>0.994031</td>\n",
       "      <td>0.000000</td>\n",
       "      <td>0.000000</td>\n",
       "    </tr>\n",
       "    <tr>\n",
       "      <th>1</th>\n",
       "      <td>DecisionTreeClassifier</td>\n",
       "      <td>-</td>\n",
       "      <td>0.994291</td>\n",
       "      <td>0.029412</td>\n",
       "      <td>0.015298</td>\n",
       "    </tr>\n",
       "    <tr>\n",
       "      <th>2</th>\n",
       "      <td>RandomForestClassifier</td>\n",
       "      <td>-</td>\n",
       "      <td>0.994320</td>\n",
       "      <td>0.124444</td>\n",
       "      <td>0.071317</td>\n",
       "    </tr>\n",
       "    <tr>\n",
       "      <th>3</th>\n",
       "      <td>LogisticRegression</td>\n",
       "      <td>UnderSampling</td>\n",
       "      <td>0.588593</td>\n",
       "      <td>0.017491</td>\n",
       "      <td>0.375894</td>\n",
       "    </tr>\n",
       "    <tr>\n",
       "      <th>4</th>\n",
       "      <td>DecisionTreeClassifier</td>\n",
       "      <td>UnderSampling</td>\n",
       "      <td>0.824342</td>\n",
       "      <td>0.034548</td>\n",
       "      <td>0.424861</td>\n",
       "    </tr>\n",
       "    <tr>\n",
       "      <th>5</th>\n",
       "      <td>RandomForestClassifier</td>\n",
       "      <td>UnderSampling</td>\n",
       "      <td>0.850120</td>\n",
       "      <td>0.045538</td>\n",
       "      <td>0.500000</td>\n",
       "    </tr>\n",
       "    <tr>\n",
       "      <th>6</th>\n",
       "      <td>LogisticRegression</td>\n",
       "      <td>OverSampling</td>\n",
       "      <td>0.564949</td>\n",
       "      <td>0.018220</td>\n",
       "      <td>0.404347</td>\n",
       "    </tr>\n",
       "    <tr>\n",
       "      <th>7</th>\n",
       "      <td>DecisionTreeClassifier</td>\n",
       "      <td>OverSampling</td>\n",
       "      <td>0.815778</td>\n",
       "      <td>0.035040</td>\n",
       "      <td>0.446783</td>\n",
       "    </tr>\n",
       "    <tr>\n",
       "      <th>8</th>\n",
       "      <td>RandomForestClassifier</td>\n",
       "      <td>OverSampling</td>\n",
       "      <td>0.993714</td>\n",
       "      <td>0.161538</td>\n",
       "      <td>0.106787</td>\n",
       "    </tr>\n",
       "    <tr>\n",
       "      <th>9</th>\n",
       "      <td>LogisticRegression</td>\n",
       "      <td>SMOTE</td>\n",
       "      <td>0.447363</td>\n",
       "      <td>0.017128</td>\n",
       "      <td>0.431359</td>\n",
       "    </tr>\n",
       "  </tbody>\n",
       "</table>\n",
       "</div>"
      ]
     },
     "execution_count": 43,
     "metadata": {
     },
     "output_type": "execute_result"
    }
   ],
   "source": [
    "results.loc[len(results)]=['LogisticRegression','SMOTE',metrics.accuracy_score(y_test, y_pred),metrics.f1_score(y_test, y_pred),metrics.fbeta_score(y_test, y_pred, beta=10)] \n",
    "results"
   ]
  },
  {
   "cell_type": "code",
   "execution_count": 44,
   "metadata": {
    "collapsed": false
   },
   "outputs": [
    {
     "name": "stdout",
     "output_type": "stream",
     "text": [
      "Target_percentage: 0.25 k  5 Accuracy: 0.903261151639226 F1-Score: 0.02781802376122863 F_Beta-Score: 0.21029800893593026\n",
      "Target_percentage: 0.25 k  15 Accuracy: 0.9007237392232058 F1-Score: 0.027126306866346424 F_Beta-Score: 0.2094982930729009\n",
      "Target_percentage: 0.5 k  5 Accuracy: 0.5211787434041695 F1-Score: 0.020179372197309416 F_Beta-Score: 0.472530779753762\n",
      "Target_percentage: 0.5 k  15 Accuracy: 0.538623453764309 F1-Score: 0.020086961847020638 F_Beta-Score: 0.46099468425593504\n"
     ]
    }
   ],
   "source": [
    "for target_percentage in [0.25, 0.5]:\n",
    "    for k in [5, 15]:\n",
    "        X_u, y_u = SMOTE(X_train, y_train, target_percentage, k, seed=3)\n",
    "        treeclf = DecisionTreeClassifier(max_depth=3, random_state=42).fit(X_u, y_u)\n",
    "        y_pred = treeclf.predict(X_test)\n",
    "        print('Target_percentage:', target_percentage,'k ', k,'Accuracy:', metrics.accuracy_score(y_test, y_pred),'F1-Score:', metrics.f1_score(y_test, y_pred),'F_Beta-Score:', metrics.fbeta_score(y_test, y_pred, beta=10))"
   ]
  },
  {
   "cell_type": "code",
   "execution_count": 45,
   "metadata": {
    "collapsed": false
   },
   "outputs": [
    {
     "name": "stdout",
     "output_type": "stream",
     "text": [
      "Accuracy: 0.538623453764309 F1-Score: 0.020086961847020638 F_Beta-Score: 0.46099468425593504\n"
     ]
    }
   ],
   "source": [
    "X_u, y_u = SMOTE(X_train, y_train, target_percentage, k, seed=3)\n",
    "treeclf = DecisionTreeClassifier(max_depth=3, random_state=42).fit(X_u, y_u)\n",
    "y_pred = treeclf.predict(X_test)\n",
    "print('Accuracy:', metrics.accuracy_score(y_test, y_pred),'F1-Score:', metrics.f1_score(y_test, y_pred),'F_Beta-Score:', metrics.fbeta_score(y_test, y_pred, beta=10))"
   ]
  },
  {
   "cell_type": "code",
   "execution_count": 46,
   "metadata": {
    "collapsed": false
   },
   "outputs": [
    {
     "data": {
      "text/html": [
       "<div>\n",
       "<style scoped>\n",
       "    .dataframe tbody tr th:only-of-type {\n",
       "        vertical-align: middle;\n",
       "    }\n",
       "\n",
       "    .dataframe tbody tr th {\n",
       "        vertical-align: top;\n",
       "    }\n",
       "\n",
       "    .dataframe thead th {\n",
       "        text-align: right;\n",
       "    }\n",
       "</style>\n",
       "<table border=\"1\" class=\"dataframe\">\n",
       "  <thead>\n",
       "    <tr style=\"text-align: right;\">\n",
       "      <th></th>\n",
       "      <th>Modelo</th>\n",
       "      <th>Técnica de balanceo</th>\n",
       "      <th>Accuracy</th>\n",
       "      <th>F1-Score</th>\n",
       "      <th>F_Beta-Score</th>\n",
       "    </tr>\n",
       "  </thead>\n",
       "  <tbody>\n",
       "    <tr>\n",
       "      <th>0</th>\n",
       "      <td>LogisticRegression</td>\n",
       "      <td>-</td>\n",
       "      <td>0.994031</td>\n",
       "      <td>0.000000</td>\n",
       "      <td>0.000000</td>\n",
       "    </tr>\n",
       "    <tr>\n",
       "      <th>1</th>\n",
       "      <td>DecisionTreeClassifier</td>\n",
       "      <td>-</td>\n",
       "      <td>0.994291</td>\n",
       "      <td>0.029412</td>\n",
       "      <td>0.015298</td>\n",
       "    </tr>\n",
       "    <tr>\n",
       "      <th>2</th>\n",
       "      <td>RandomForestClassifier</td>\n",
       "      <td>-</td>\n",
       "      <td>0.994320</td>\n",
       "      <td>0.124444</td>\n",
       "      <td>0.071317</td>\n",
       "    </tr>\n",
       "    <tr>\n",
       "      <th>3</th>\n",
       "      <td>LogisticRegression</td>\n",
       "      <td>UnderSampling</td>\n",
       "      <td>0.588593</td>\n",
       "      <td>0.017491</td>\n",
       "      <td>0.375894</td>\n",
       "    </tr>\n",
       "    <tr>\n",
       "      <th>4</th>\n",
       "      <td>DecisionTreeClassifier</td>\n",
       "      <td>UnderSampling</td>\n",
       "      <td>0.824342</td>\n",
       "      <td>0.034548</td>\n",
       "      <td>0.424861</td>\n",
       "    </tr>\n",
       "    <tr>\n",
       "      <th>5</th>\n",
       "      <td>RandomForestClassifier</td>\n",
       "      <td>UnderSampling</td>\n",
       "      <td>0.850120</td>\n",
       "      <td>0.045538</td>\n",
       "      <td>0.500000</td>\n",
       "    </tr>\n",
       "    <tr>\n",
       "      <th>6</th>\n",
       "      <td>LogisticRegression</td>\n",
       "      <td>OverSampling</td>\n",
       "      <td>0.564949</td>\n",
       "      <td>0.018220</td>\n",
       "      <td>0.404347</td>\n",
       "    </tr>\n",
       "    <tr>\n",
       "      <th>7</th>\n",
       "      <td>DecisionTreeClassifier</td>\n",
       "      <td>OverSampling</td>\n",
       "      <td>0.815778</td>\n",
       "      <td>0.035040</td>\n",
       "      <td>0.446783</td>\n",
       "    </tr>\n",
       "    <tr>\n",
       "      <th>8</th>\n",
       "      <td>RandomForestClassifier</td>\n",
       "      <td>OverSampling</td>\n",
       "      <td>0.993714</td>\n",
       "      <td>0.161538</td>\n",
       "      <td>0.106787</td>\n",
       "    </tr>\n",
       "    <tr>\n",
       "      <th>9</th>\n",
       "      <td>LogisticRegression</td>\n",
       "      <td>SMOTE</td>\n",
       "      <td>0.447363</td>\n",
       "      <td>0.017128</td>\n",
       "      <td>0.431359</td>\n",
       "    </tr>\n",
       "    <tr>\n",
       "      <th>10</th>\n",
       "      <td>DecisionTreeClassifier</td>\n",
       "      <td>SMOTE</td>\n",
       "      <td>0.538623</td>\n",
       "      <td>0.020087</td>\n",
       "      <td>0.460995</td>\n",
       "    </tr>\n",
       "  </tbody>\n",
       "</table>\n",
       "</div>"
      ]
     },
     "execution_count": 46,
     "metadata": {
     },
     "output_type": "execute_result"
    }
   ],
   "source": [
    "results.loc[len(results)]=['DecisionTreeClassifier','SMOTE',metrics.accuracy_score(y_test, y_pred),metrics.f1_score(y_test, y_pred),metrics.fbeta_score(y_test, y_pred, beta=10)] \n",
    "results"
   ]
  },
  {
   "cell_type": "code",
   "execution_count": 47,
   "metadata": {
    "collapsed": false
   },
   "outputs": [
    {
     "name": "stdout",
     "output_type": "stream",
     "text": [
      "Target_percentage: 0.25 k  5 Accuracy: 0.9929644473919437 F1-Score: 0.15277777777777776 F_Beta-Score: 0.11171442936148818\n",
      "Target_percentage: 0.25 k  15 Accuracy: 0.9926184366079409 F1-Score: 0.17948717948717946 F_Beta-Score: 0.14201064577684042\n",
      "Target_percentage: 0.5 k  5 Accuracy: 0.9927626077679421 F1-Score: 0.1716171617161716 F_Beta-Score: 0.13192665159507663\n",
      "Target_percentage: 0.5 k  15 Accuracy: 0.9908595484559268 F1-Score: 0.15466666666666665 F_Beta-Score: 0.14661861140311358\n"
     ]
    }
   ],
   "source": [
    "for target_percentage in [0.25, 0.5]:\n",
    "    for k in [5, 15]:\n",
    "        X_u, y_u = SMOTE(X_train, y_train, target_percentage, k, seed=3)\n",
    "        rfclf = RandomForestClassifier(random_state=42).fit(X_u, y_u)\n",
    "        y_pred = rfclf.predict(X_test)\n",
    "        print('Target_percentage:', target_percentage,'k ', k,'Accuracy:', metrics.accuracy_score(y_test, y_pred),'F1-Score:', metrics.f1_score(y_test, y_pred),'F_Beta-Score:', metrics.fbeta_score(y_test, y_pred, beta=10))"
   ]
  },
  {
   "cell_type": "code",
   "execution_count": 48,
   "metadata": {
    "collapsed": false
   },
   "outputs": [
    {
     "name": "stdout",
     "output_type": "stream",
     "text": [
      "Accuracy: 0.9908595484559268 F1-Score: 0.15466666666666665 F_Beta-Score: 0.14661861140311358\n"
     ]
    }
   ],
   "source": [
    "target_percentage = 0.5\n",
    "K = 5\n",
    "\n",
    "X_u, y_u = SMOTE(X_train, y_train, target_percentage, k, seed=3)\n",
    "rfclf = RandomForestClassifier(random_state=42).fit(X_u, y_u)\n",
    "y_pred = rfclf.predict(X_test)\n",
    "print('Accuracy:', metrics.accuracy_score(y_test, y_pred),'F1-Score:', metrics.f1_score(y_test, y_pred),'F_Beta-Score:', metrics.fbeta_score(y_test, y_pred, beta=10))"
   ]
  },
  {
   "cell_type": "code",
   "execution_count": 49,
   "metadata": {
    "collapsed": false
   },
   "outputs": [
    {
     "data": {
      "text/html": [
       "<div>\n",
       "<style scoped>\n",
       "    .dataframe tbody tr th:only-of-type {\n",
       "        vertical-align: middle;\n",
       "    }\n",
       "\n",
       "    .dataframe tbody tr th {\n",
       "        vertical-align: top;\n",
       "    }\n",
       "\n",
       "    .dataframe thead th {\n",
       "        text-align: right;\n",
       "    }\n",
       "</style>\n",
       "<table border=\"1\" class=\"dataframe\">\n",
       "  <thead>\n",
       "    <tr style=\"text-align: right;\">\n",
       "      <th></th>\n",
       "      <th>Modelo</th>\n",
       "      <th>Técnica de balanceo</th>\n",
       "      <th>Accuracy</th>\n",
       "      <th>F1-Score</th>\n",
       "      <th>F_Beta-Score</th>\n",
       "    </tr>\n",
       "  </thead>\n",
       "  <tbody>\n",
       "    <tr>\n",
       "      <th>0</th>\n",
       "      <td>LogisticRegression</td>\n",
       "      <td>-</td>\n",
       "      <td>0.994031</td>\n",
       "      <td>0.000000</td>\n",
       "      <td>0.000000</td>\n",
       "    </tr>\n",
       "    <tr>\n",
       "      <th>1</th>\n",
       "      <td>DecisionTreeClassifier</td>\n",
       "      <td>-</td>\n",
       "      <td>0.994291</td>\n",
       "      <td>0.029412</td>\n",
       "      <td>0.015298</td>\n",
       "    </tr>\n",
       "    <tr>\n",
       "      <th>2</th>\n",
       "      <td>RandomForestClassifier</td>\n",
       "      <td>-</td>\n",
       "      <td>0.994320</td>\n",
       "      <td>0.124444</td>\n",
       "      <td>0.071317</td>\n",
       "    </tr>\n",
       "    <tr>\n",
       "      <th>3</th>\n",
       "      <td>LogisticRegression</td>\n",
       "      <td>UnderSampling</td>\n",
       "      <td>0.588593</td>\n",
       "      <td>0.017491</td>\n",
       "      <td>0.375894</td>\n",
       "    </tr>\n",
       "    <tr>\n",
       "      <th>4</th>\n",
       "      <td>DecisionTreeClassifier</td>\n",
       "      <td>UnderSampling</td>\n",
       "      <td>0.824342</td>\n",
       "      <td>0.034548</td>\n",
       "      <td>0.424861</td>\n",
       "    </tr>\n",
       "    <tr>\n",
       "      <th>5</th>\n",
       "      <td>RandomForestClassifier</td>\n",
       "      <td>UnderSampling</td>\n",
       "      <td>0.850120</td>\n",
       "      <td>0.045538</td>\n",
       "      <td>0.500000</td>\n",
       "    </tr>\n",
       "    <tr>\n",
       "      <th>6</th>\n",
       "      <td>LogisticRegression</td>\n",
       "      <td>OverSampling</td>\n",
       "      <td>0.564949</td>\n",
       "      <td>0.018220</td>\n",
       "      <td>0.404347</td>\n",
       "    </tr>\n",
       "    <tr>\n",
       "      <th>7</th>\n",
       "      <td>DecisionTreeClassifier</td>\n",
       "      <td>OverSampling</td>\n",
       "      <td>0.815778</td>\n",
       "      <td>0.035040</td>\n",
       "      <td>0.446783</td>\n",
       "    </tr>\n",
       "    <tr>\n",
       "      <th>8</th>\n",
       "      <td>RandomForestClassifier</td>\n",
       "      <td>OverSampling</td>\n",
       "      <td>0.993714</td>\n",
       "      <td>0.161538</td>\n",
       "      <td>0.106787</td>\n",
       "    </tr>\n",
       "    <tr>\n",
       "      <th>9</th>\n",
       "      <td>LogisticRegression</td>\n",
       "      <td>SMOTE</td>\n",
       "      <td>0.447363</td>\n",
       "      <td>0.017128</td>\n",
       "      <td>0.431359</td>\n",
       "    </tr>\n",
       "    <tr>\n",
       "      <th>10</th>\n",
       "      <td>DecisionTreeClassifier</td>\n",
       "      <td>SMOTE</td>\n",
       "      <td>0.538623</td>\n",
       "      <td>0.020087</td>\n",
       "      <td>0.460995</td>\n",
       "    </tr>\n",
       "    <tr>\n",
       "      <th>11</th>\n",
       "      <td>RandomForestClassifier</td>\n",
       "      <td>SMOTE</td>\n",
       "      <td>0.990860</td>\n",
       "      <td>0.154667</td>\n",
       "      <td>0.146619</td>\n",
       "    </tr>\n",
       "  </tbody>\n",
       "</table>\n",
       "</div>"
      ]
     },
     "execution_count": 49,
     "metadata": {
     },
     "output_type": "execute_result"
    }
   ],
   "source": [
    "results.loc[len(results)]=['RandomForestClassifier','SMOTE',metrics.accuracy_score(y_test, y_pred),metrics.f1_score(y_test, y_pred),metrics.fbeta_score(y_test, y_pred, beta=10)] \n",
    "results"
   ]
  },
  {
   "cell_type": "markdown",
   "metadata": {
    "collapsed": false
   },
   "source": [
    "- Al realizar la evalución los parametros que generan una mejor presición del modelo son el target_percentage = 0.5 y K = 5."
   ]
  },
  {
   "cell_type": "markdown",
   "metadata": {
    "collapsed": false
   },
   "source": [
    "# Exercise 15.5 (3 points)\n",
    "\n",
    "Evaluate the results using Adaptive Synthetic Sampling Approach for Imbalanced\n",
    "Learning (ADASYN)\n",
    "\n",
    "http://www.ele.uri.edu/faculty/he/PDFfiles/adasyn.pdf\n",
    "https://imbalanced-learn.readthedocs.io/en/stable/generated/imblearn.over_sampling.ADASYN.html#rf9172e970ca5-1"
   ]
  },
  {
   "cell_type": "code",
   "execution_count": 50,
   "metadata": {
    "collapsed": false
   },
   "outputs": [
    {
     "name": "stdout",
     "output_type": "stream",
     "text": [
      "Original data shape: Counter({0: 103441, 1: 599})\n",
      "Reshaped data shape: Counter({1: 103473, 0: 103441})\n",
      "Wall time: 11 s\n"
     ]
    }
   ],
   "source": [
    "%%time\n",
    "pd.options.mode.chained_assignment = None  # default='warn'\n",
    "adsn = ADASYN(n_neighbors = 5, ratio = 'auto', random_state=42, n_jobs = -1)\n",
    "\n",
    "X_u, y_u  = adsn.fit_sample(X_train, y_train)\n",
    "print('Original data shape: {}'.format(Counter(y_train)))\n",
    "print('Reshaped data shape: {}'.format(Counter(y_u)))"
   ]
  },
  {
   "cell_type": "code",
   "execution_count": 51,
   "metadata": {
    "collapsed": false
   },
   "outputs": [
    {
     "name": "stdout",
     "output_type": "stream",
     "text": [
      "Accuracy: 0.5667079957325336 F1-Score: 0.017522066034651847 F_Beta-Score: 0.38782703384245065\n"
     ]
    }
   ],
   "source": [
    "#adsn = ADASYN(ratio={1: 797, 0: 137924}, random_state=42, n_neighbors=3, n_jobs= -1)\n",
    "\n",
    "X_u, y_u = adsn.fit_sample(X_train, y_train)\n",
    "logreg = LogisticRegression(solver='liblinear', C=1e9).fit(X_u, y_u)\n",
    "y_pred = logreg.predict(X_test)\n",
    "print('Accuracy:', metrics.accuracy_score(y_test, y_pred),'F1-Score:', metrics.f1_score(y_test, y_pred),'F_Beta-Score:', metrics.fbeta_score(y_test, y_pred, beta=10))"
   ]
  },
  {
   "cell_type": "code",
   "execution_count": 52,
   "metadata": {
    "collapsed": false
   },
   "outputs": [
    {
     "data": {
      "text/html": [
       "<div>\n",
       "<style scoped>\n",
       "    .dataframe tbody tr th:only-of-type {\n",
       "        vertical-align: middle;\n",
       "    }\n",
       "\n",
       "    .dataframe tbody tr th {\n",
       "        vertical-align: top;\n",
       "    }\n",
       "\n",
       "    .dataframe thead th {\n",
       "        text-align: right;\n",
       "    }\n",
       "</style>\n",
       "<table border=\"1\" class=\"dataframe\">\n",
       "  <thead>\n",
       "    <tr style=\"text-align: right;\">\n",
       "      <th></th>\n",
       "      <th>Modelo</th>\n",
       "      <th>Técnica de balanceo</th>\n",
       "      <th>Accuracy</th>\n",
       "      <th>F1-Score</th>\n",
       "      <th>F_Beta-Score</th>\n",
       "    </tr>\n",
       "  </thead>\n",
       "  <tbody>\n",
       "    <tr>\n",
       "      <th>0</th>\n",
       "      <td>LogisticRegression</td>\n",
       "      <td>-</td>\n",
       "      <td>0.994031</td>\n",
       "      <td>0.000000</td>\n",
       "      <td>0.000000</td>\n",
       "    </tr>\n",
       "    <tr>\n",
       "      <th>1</th>\n",
       "      <td>DecisionTreeClassifier</td>\n",
       "      <td>-</td>\n",
       "      <td>0.994291</td>\n",
       "      <td>0.029412</td>\n",
       "      <td>0.015298</td>\n",
       "    </tr>\n",
       "    <tr>\n",
       "      <th>2</th>\n",
       "      <td>RandomForestClassifier</td>\n",
       "      <td>-</td>\n",
       "      <td>0.994320</td>\n",
       "      <td>0.124444</td>\n",
       "      <td>0.071317</td>\n",
       "    </tr>\n",
       "    <tr>\n",
       "      <th>3</th>\n",
       "      <td>LogisticRegression</td>\n",
       "      <td>UnderSampling</td>\n",
       "      <td>0.588593</td>\n",
       "      <td>0.017491</td>\n",
       "      <td>0.375894</td>\n",
       "    </tr>\n",
       "    <tr>\n",
       "      <th>4</th>\n",
       "      <td>DecisionTreeClassifier</td>\n",
       "      <td>UnderSampling</td>\n",
       "      <td>0.824342</td>\n",
       "      <td>0.034548</td>\n",
       "      <td>0.424861</td>\n",
       "    </tr>\n",
       "    <tr>\n",
       "      <th>5</th>\n",
       "      <td>RandomForestClassifier</td>\n",
       "      <td>UnderSampling</td>\n",
       "      <td>0.850120</td>\n",
       "      <td>0.045538</td>\n",
       "      <td>0.500000</td>\n",
       "    </tr>\n",
       "    <tr>\n",
       "      <th>6</th>\n",
       "      <td>LogisticRegression</td>\n",
       "      <td>OverSampling</td>\n",
       "      <td>0.564949</td>\n",
       "      <td>0.018220</td>\n",
       "      <td>0.404347</td>\n",
       "    </tr>\n",
       "    <tr>\n",
       "      <th>7</th>\n",
       "      <td>DecisionTreeClassifier</td>\n",
       "      <td>OverSampling</td>\n",
       "      <td>0.815778</td>\n",
       "      <td>0.035040</td>\n",
       "      <td>0.446783</td>\n",
       "    </tr>\n",
       "    <tr>\n",
       "      <th>8</th>\n",
       "      <td>RandomForestClassifier</td>\n",
       "      <td>OverSampling</td>\n",
       "      <td>0.993714</td>\n",
       "      <td>0.161538</td>\n",
       "      <td>0.106787</td>\n",
       "    </tr>\n",
       "    <tr>\n",
       "      <th>9</th>\n",
       "      <td>LogisticRegression</td>\n",
       "      <td>SMOTE</td>\n",
       "      <td>0.447363</td>\n",
       "      <td>0.017128</td>\n",
       "      <td>0.431359</td>\n",
       "    </tr>\n",
       "    <tr>\n",
       "      <th>10</th>\n",
       "      <td>DecisionTreeClassifier</td>\n",
       "      <td>SMOTE</td>\n",
       "      <td>0.538623</td>\n",
       "      <td>0.020087</td>\n",
       "      <td>0.460995</td>\n",
       "    </tr>\n",
       "    <tr>\n",
       "      <th>11</th>\n",
       "      <td>RandomForestClassifier</td>\n",
       "      <td>SMOTE</td>\n",
       "      <td>0.990860</td>\n",
       "      <td>0.154667</td>\n",
       "      <td>0.146619</td>\n",
       "    </tr>\n",
       "    <tr>\n",
       "      <th>12</th>\n",
       "      <td>LogisticRegression</td>\n",
       "      <td>ADASYN</td>\n",
       "      <td>0.566708</td>\n",
       "      <td>0.017522</td>\n",
       "      <td>0.387827</td>\n",
       "    </tr>\n",
       "  </tbody>\n",
       "</table>\n",
       "</div>"
      ]
     },
     "execution_count": 52,
     "metadata": {
     },
     "output_type": "execute_result"
    }
   ],
   "source": [
    "results.loc[len(results)]=['LogisticRegression','ADASYN',metrics.accuracy_score(y_test, y_pred),metrics.f1_score(y_test, y_pred),metrics.fbeta_score(y_test, y_pred, beta=10)] \n",
    "results"
   ]
  },
  {
   "cell_type": "code",
   "execution_count": 53,
   "metadata": {
    "collapsed": false
   },
   "outputs": [
    {
     "name": "stdout",
     "output_type": "stream",
     "text": [
      "Accuracy: 0.7447593783339581 F1-Score: 0.025324818321955517 F_Beta-Score: 0.4049295774647887\n"
     ]
    }
   ],
   "source": [
    "X_u, y_u = adsn.fit_sample(X_train, y_train)\n",
    "treeclf = DecisionTreeClassifier(max_depth=3, random_state=42).fit(X_u, y_u)\n",
    "y_pred = treeclf.predict(X_test)\n",
    "print('Accuracy:', metrics.accuracy_score(y_test, y_pred),'F1-Score:', metrics.f1_score(y_test, y_pred),'F_Beta-Score:', metrics.fbeta_score(y_test, y_pred, beta=10))"
   ]
  },
  {
   "cell_type": "code",
   "execution_count": 54,
   "metadata": {
    "collapsed": false
   },
   "outputs": [
    {
     "data": {
      "text/html": [
       "<div>\n",
       "<style scoped>\n",
       "    .dataframe tbody tr th:only-of-type {\n",
       "        vertical-align: middle;\n",
       "    }\n",
       "\n",
       "    .dataframe tbody tr th {\n",
       "        vertical-align: top;\n",
       "    }\n",
       "\n",
       "    .dataframe thead th {\n",
       "        text-align: right;\n",
       "    }\n",
       "</style>\n",
       "<table border=\"1\" class=\"dataframe\">\n",
       "  <thead>\n",
       "    <tr style=\"text-align: right;\">\n",
       "      <th></th>\n",
       "      <th>Modelo</th>\n",
       "      <th>Técnica de balanceo</th>\n",
       "      <th>Accuracy</th>\n",
       "      <th>F1-Score</th>\n",
       "      <th>F_Beta-Score</th>\n",
       "    </tr>\n",
       "  </thead>\n",
       "  <tbody>\n",
       "    <tr>\n",
       "      <th>0</th>\n",
       "      <td>LogisticRegression</td>\n",
       "      <td>-</td>\n",
       "      <td>0.994031</td>\n",
       "      <td>0.000000</td>\n",
       "      <td>0.000000</td>\n",
       "    </tr>\n",
       "    <tr>\n",
       "      <th>1</th>\n",
       "      <td>DecisionTreeClassifier</td>\n",
       "      <td>-</td>\n",
       "      <td>0.994291</td>\n",
       "      <td>0.029412</td>\n",
       "      <td>0.015298</td>\n",
       "    </tr>\n",
       "    <tr>\n",
       "      <th>2</th>\n",
       "      <td>RandomForestClassifier</td>\n",
       "      <td>-</td>\n",
       "      <td>0.994320</td>\n",
       "      <td>0.124444</td>\n",
       "      <td>0.071317</td>\n",
       "    </tr>\n",
       "    <tr>\n",
       "      <th>3</th>\n",
       "      <td>LogisticRegression</td>\n",
       "      <td>UnderSampling</td>\n",
       "      <td>0.588593</td>\n",
       "      <td>0.017491</td>\n",
       "      <td>0.375894</td>\n",
       "    </tr>\n",
       "    <tr>\n",
       "      <th>4</th>\n",
       "      <td>DecisionTreeClassifier</td>\n",
       "      <td>UnderSampling</td>\n",
       "      <td>0.824342</td>\n",
       "      <td>0.034548</td>\n",
       "      <td>0.424861</td>\n",
       "    </tr>\n",
       "    <tr>\n",
       "      <th>5</th>\n",
       "      <td>RandomForestClassifier</td>\n",
       "      <td>UnderSampling</td>\n",
       "      <td>0.850120</td>\n",
       "      <td>0.045538</td>\n",
       "      <td>0.500000</td>\n",
       "    </tr>\n",
       "    <tr>\n",
       "      <th>6</th>\n",
       "      <td>LogisticRegression</td>\n",
       "      <td>OverSampling</td>\n",
       "      <td>0.564949</td>\n",
       "      <td>0.018220</td>\n",
       "      <td>0.404347</td>\n",
       "    </tr>\n",
       "    <tr>\n",
       "      <th>7</th>\n",
       "      <td>DecisionTreeClassifier</td>\n",
       "      <td>OverSampling</td>\n",
       "      <td>0.815778</td>\n",
       "      <td>0.035040</td>\n",
       "      <td>0.446783</td>\n",
       "    </tr>\n",
       "    <tr>\n",
       "      <th>8</th>\n",
       "      <td>RandomForestClassifier</td>\n",
       "      <td>OverSampling</td>\n",
       "      <td>0.993714</td>\n",
       "      <td>0.161538</td>\n",
       "      <td>0.106787</td>\n",
       "    </tr>\n",
       "    <tr>\n",
       "      <th>9</th>\n",
       "      <td>LogisticRegression</td>\n",
       "      <td>SMOTE</td>\n",
       "      <td>0.447363</td>\n",
       "      <td>0.017128</td>\n",
       "      <td>0.431359</td>\n",
       "    </tr>\n",
       "    <tr>\n",
       "      <th>10</th>\n",
       "      <td>DecisionTreeClassifier</td>\n",
       "      <td>SMOTE</td>\n",
       "      <td>0.538623</td>\n",
       "      <td>0.020087</td>\n",
       "      <td>0.460995</td>\n",
       "    </tr>\n",
       "    <tr>\n",
       "      <th>11</th>\n",
       "      <td>RandomForestClassifier</td>\n",
       "      <td>SMOTE</td>\n",
       "      <td>0.990860</td>\n",
       "      <td>0.154667</td>\n",
       "      <td>0.146619</td>\n",
       "    </tr>\n",
       "    <tr>\n",
       "      <th>12</th>\n",
       "      <td>LogisticRegression</td>\n",
       "      <td>ADASYN</td>\n",
       "      <td>0.566708</td>\n",
       "      <td>0.017522</td>\n",
       "      <td>0.387827</td>\n",
       "    </tr>\n",
       "    <tr>\n",
       "      <th>13</th>\n",
       "      <td>DecisionTreeClassifier</td>\n",
       "      <td>ADASYN</td>\n",
       "      <td>0.744759</td>\n",
       "      <td>0.025325</td>\n",
       "      <td>0.404930</td>\n",
       "    </tr>\n",
       "  </tbody>\n",
       "</table>\n",
       "</div>"
      ]
     },
     "execution_count": 54,
     "metadata": {
     },
     "output_type": "execute_result"
    }
   ],
   "source": [
    "results.loc[len(results)]=['DecisionTreeClassifier','ADASYN',metrics.accuracy_score(y_test, y_pred),metrics.f1_score(y_test, y_pred),metrics.fbeta_score(y_test, y_pred, beta=10)] \n",
    "results"
   ]
  },
  {
   "cell_type": "code",
   "execution_count": 55,
   "metadata": {
    "collapsed": false
   },
   "outputs": [
    {
     "name": "stdout",
     "output_type": "stream",
     "text": [
      "Accuracy: 0.9929356131599435 F1-Score: 0.18060200668896323 F_Beta-Score: 0.13702829003567657\n"
     ]
    }
   ],
   "source": [
    "X_u, y_u = adsn.fit_sample(X_train, y_train)\n",
    "rfclf = RandomForestClassifier(random_state=42).fit(X_u, y_u)\n",
    "y_pred = rfclf.predict(X_test)\n",
    "print('Accuracy:', metrics.accuracy_score(y_test, y_pred),'F1-Score:', metrics.f1_score(y_test, y_pred),'F_Beta-Score:', metrics.fbeta_score(y_test, y_pred, beta=10))"
   ]
  },
  {
   "cell_type": "code",
   "execution_count": 56,
   "metadata": {
    "collapsed": false
   },
   "outputs": [
    {
     "data": {
      "text/html": [
       "<div>\n",
       "<style scoped>\n",
       "    .dataframe tbody tr th:only-of-type {\n",
       "        vertical-align: middle;\n",
       "    }\n",
       "\n",
       "    .dataframe tbody tr th {\n",
       "        vertical-align: top;\n",
       "    }\n",
       "\n",
       "    .dataframe thead th {\n",
       "        text-align: right;\n",
       "    }\n",
       "</style>\n",
       "<table border=\"1\" class=\"dataframe\">\n",
       "  <thead>\n",
       "    <tr style=\"text-align: right;\">\n",
       "      <th></th>\n",
       "      <th>Modelo</th>\n",
       "      <th>Técnica de balanceo</th>\n",
       "      <th>Accuracy</th>\n",
       "      <th>F1-Score</th>\n",
       "      <th>F_Beta-Score</th>\n",
       "    </tr>\n",
       "  </thead>\n",
       "  <tbody>\n",
       "    <tr>\n",
       "      <th>0</th>\n",
       "      <td>LogisticRegression</td>\n",
       "      <td>-</td>\n",
       "      <td>0.994031</td>\n",
       "      <td>0.000000</td>\n",
       "      <td>0.000000</td>\n",
       "    </tr>\n",
       "    <tr>\n",
       "      <th>1</th>\n",
       "      <td>DecisionTreeClassifier</td>\n",
       "      <td>-</td>\n",
       "      <td>0.994291</td>\n",
       "      <td>0.029412</td>\n",
       "      <td>0.015298</td>\n",
       "    </tr>\n",
       "    <tr>\n",
       "      <th>2</th>\n",
       "      <td>RandomForestClassifier</td>\n",
       "      <td>-</td>\n",
       "      <td>0.994320</td>\n",
       "      <td>0.124444</td>\n",
       "      <td>0.071317</td>\n",
       "    </tr>\n",
       "    <tr>\n",
       "      <th>3</th>\n",
       "      <td>LogisticRegression</td>\n",
       "      <td>UnderSampling</td>\n",
       "      <td>0.588593</td>\n",
       "      <td>0.017491</td>\n",
       "      <td>0.375894</td>\n",
       "    </tr>\n",
       "    <tr>\n",
       "      <th>4</th>\n",
       "      <td>DecisionTreeClassifier</td>\n",
       "      <td>UnderSampling</td>\n",
       "      <td>0.824342</td>\n",
       "      <td>0.034548</td>\n",
       "      <td>0.424861</td>\n",
       "    </tr>\n",
       "    <tr>\n",
       "      <th>5</th>\n",
       "      <td>RandomForestClassifier</td>\n",
       "      <td>UnderSampling</td>\n",
       "      <td>0.850120</td>\n",
       "      <td>0.045538</td>\n",
       "      <td>0.500000</td>\n",
       "    </tr>\n",
       "    <tr>\n",
       "      <th>6</th>\n",
       "      <td>LogisticRegression</td>\n",
       "      <td>OverSampling</td>\n",
       "      <td>0.564949</td>\n",
       "      <td>0.018220</td>\n",
       "      <td>0.404347</td>\n",
       "    </tr>\n",
       "    <tr>\n",
       "      <th>7</th>\n",
       "      <td>DecisionTreeClassifier</td>\n",
       "      <td>OverSampling</td>\n",
       "      <td>0.815778</td>\n",
       "      <td>0.035040</td>\n",
       "      <td>0.446783</td>\n",
       "    </tr>\n",
       "    <tr>\n",
       "      <th>8</th>\n",
       "      <td>RandomForestClassifier</td>\n",
       "      <td>OverSampling</td>\n",
       "      <td>0.993714</td>\n",
       "      <td>0.161538</td>\n",
       "      <td>0.106787</td>\n",
       "    </tr>\n",
       "    <tr>\n",
       "      <th>9</th>\n",
       "      <td>LogisticRegression</td>\n",
       "      <td>SMOTE</td>\n",
       "      <td>0.447363</td>\n",
       "      <td>0.017128</td>\n",
       "      <td>0.431359</td>\n",
       "    </tr>\n",
       "    <tr>\n",
       "      <th>10</th>\n",
       "      <td>DecisionTreeClassifier</td>\n",
       "      <td>SMOTE</td>\n",
       "      <td>0.538623</td>\n",
       "      <td>0.020087</td>\n",
       "      <td>0.460995</td>\n",
       "    </tr>\n",
       "    <tr>\n",
       "      <th>11</th>\n",
       "      <td>RandomForestClassifier</td>\n",
       "      <td>SMOTE</td>\n",
       "      <td>0.990860</td>\n",
       "      <td>0.154667</td>\n",
       "      <td>0.146619</td>\n",
       "    </tr>\n",
       "    <tr>\n",
       "      <th>12</th>\n",
       "      <td>LogisticRegression</td>\n",
       "      <td>ADASYN</td>\n",
       "      <td>0.566708</td>\n",
       "      <td>0.017522</td>\n",
       "      <td>0.387827</td>\n",
       "    </tr>\n",
       "    <tr>\n",
       "      <th>13</th>\n",
       "      <td>DecisionTreeClassifier</td>\n",
       "      <td>ADASYN</td>\n",
       "      <td>0.744759</td>\n",
       "      <td>0.025325</td>\n",
       "      <td>0.404930</td>\n",
       "    </tr>\n",
       "    <tr>\n",
       "      <th>14</th>\n",
       "      <td>RandomForestClassifier</td>\n",
       "      <td>ADASYN</td>\n",
       "      <td>0.992936</td>\n",
       "      <td>0.180602</td>\n",
       "      <td>0.137028</td>\n",
       "    </tr>\n",
       "  </tbody>\n",
       "</table>\n",
       "</div>"
      ]
     },
     "execution_count": 56,
     "metadata": {
     },
     "output_type": "execute_result"
    }
   ],
   "source": [
    "results.loc[len(results)]=['RandomForestClassifier','ADASYN',metrics.accuracy_score(y_test, y_pred),metrics.f1_score(y_test, y_pred),metrics.fbeta_score(y_test, y_pred, beta=10)] \n",
    "results"
   ]
  },
  {
   "cell_type": "markdown",
   "metadata": {
    "collapsed": false
   },
   "source": [
    "# Exercise 15.6 (3 points)\n",
    "\n",
    "Compare and comment about the results"
   ]
  },
  {
   "cell_type": "code",
   "execution_count": 57,
   "metadata": {
    "collapsed": false
   },
   "outputs": [
    {
     "data": {
      "text/html": [
       "<div>\n",
       "<style scoped>\n",
       "    .dataframe tbody tr th:only-of-type {\n",
       "        vertical-align: middle;\n",
       "    }\n",
       "\n",
       "    .dataframe tbody tr th {\n",
       "        vertical-align: top;\n",
       "    }\n",
       "\n",
       "    .dataframe thead th {\n",
       "        text-align: right;\n",
       "    }\n",
       "</style>\n",
       "<table border=\"1\" class=\"dataframe\">\n",
       "  <thead>\n",
       "    <tr style=\"text-align: right;\">\n",
       "      <th></th>\n",
       "      <th>Modelo</th>\n",
       "      <th>Técnica de balanceo</th>\n",
       "      <th>Accuracy</th>\n",
       "      <th>F1-Score</th>\n",
       "      <th>F_Beta-Score</th>\n",
       "    </tr>\n",
       "  </thead>\n",
       "  <tbody>\n",
       "    <tr>\n",
       "      <th>0</th>\n",
       "      <td>LogisticRegression</td>\n",
       "      <td>-</td>\n",
       "      <td>0.994031</td>\n",
       "      <td>0.000000</td>\n",
       "      <td>0.000000</td>\n",
       "    </tr>\n",
       "    <tr>\n",
       "      <th>1</th>\n",
       "      <td>DecisionTreeClassifier</td>\n",
       "      <td>-</td>\n",
       "      <td>0.994291</td>\n",
       "      <td>0.029412</td>\n",
       "      <td>0.015298</td>\n",
       "    </tr>\n",
       "    <tr>\n",
       "      <th>2</th>\n",
       "      <td>RandomForestClassifier</td>\n",
       "      <td>-</td>\n",
       "      <td>0.994320</td>\n",
       "      <td>0.124444</td>\n",
       "      <td>0.071317</td>\n",
       "    </tr>\n",
       "    <tr>\n",
       "      <th>3</th>\n",
       "      <td>LogisticRegression</td>\n",
       "      <td>UnderSampling</td>\n",
       "      <td>0.588593</td>\n",
       "      <td>0.017491</td>\n",
       "      <td>0.375894</td>\n",
       "    </tr>\n",
       "    <tr>\n",
       "      <th>4</th>\n",
       "      <td>DecisionTreeClassifier</td>\n",
       "      <td>UnderSampling</td>\n",
       "      <td>0.824342</td>\n",
       "      <td>0.034548</td>\n",
       "      <td>0.424861</td>\n",
       "    </tr>\n",
       "    <tr>\n",
       "      <th>5</th>\n",
       "      <td>RandomForestClassifier</td>\n",
       "      <td>UnderSampling</td>\n",
       "      <td>0.850120</td>\n",
       "      <td>0.045538</td>\n",
       "      <td>0.500000</td>\n",
       "    </tr>\n",
       "    <tr>\n",
       "      <th>6</th>\n",
       "      <td>LogisticRegression</td>\n",
       "      <td>OverSampling</td>\n",
       "      <td>0.564949</td>\n",
       "      <td>0.018220</td>\n",
       "      <td>0.404347</td>\n",
       "    </tr>\n",
       "    <tr>\n",
       "      <th>7</th>\n",
       "      <td>DecisionTreeClassifier</td>\n",
       "      <td>OverSampling</td>\n",
       "      <td>0.815778</td>\n",
       "      <td>0.035040</td>\n",
       "      <td>0.446783</td>\n",
       "    </tr>\n",
       "    <tr>\n",
       "      <th>8</th>\n",
       "      <td>RandomForestClassifier</td>\n",
       "      <td>OverSampling</td>\n",
       "      <td>0.993714</td>\n",
       "      <td>0.161538</td>\n",
       "      <td>0.106787</td>\n",
       "    </tr>\n",
       "    <tr>\n",
       "      <th>9</th>\n",
       "      <td>LogisticRegression</td>\n",
       "      <td>SMOTE</td>\n",
       "      <td>0.447363</td>\n",
       "      <td>0.017128</td>\n",
       "      <td>0.431359</td>\n",
       "    </tr>\n",
       "    <tr>\n",
       "      <th>10</th>\n",
       "      <td>DecisionTreeClassifier</td>\n",
       "      <td>SMOTE</td>\n",
       "      <td>0.538623</td>\n",
       "      <td>0.020087</td>\n",
       "      <td>0.460995</td>\n",
       "    </tr>\n",
       "    <tr>\n",
       "      <th>11</th>\n",
       "      <td>RandomForestClassifier</td>\n",
       "      <td>SMOTE</td>\n",
       "      <td>0.990860</td>\n",
       "      <td>0.154667</td>\n",
       "      <td>0.146619</td>\n",
       "    </tr>\n",
       "    <tr>\n",
       "      <th>12</th>\n",
       "      <td>LogisticRegression</td>\n",
       "      <td>ADASYN</td>\n",
       "      <td>0.566708</td>\n",
       "      <td>0.017522</td>\n",
       "      <td>0.387827</td>\n",
       "    </tr>\n",
       "    <tr>\n",
       "      <th>13</th>\n",
       "      <td>DecisionTreeClassifier</td>\n",
       "      <td>ADASYN</td>\n",
       "      <td>0.744759</td>\n",
       "      <td>0.025325</td>\n",
       "      <td>0.404930</td>\n",
       "    </tr>\n",
       "    <tr>\n",
       "      <th>14</th>\n",
       "      <td>RandomForestClassifier</td>\n",
       "      <td>ADASYN</td>\n",
       "      <td>0.992936</td>\n",
       "      <td>0.180602</td>\n",
       "      <td>0.137028</td>\n",
       "    </tr>\n",
       "  </tbody>\n",
       "</table>\n",
       "</div>"
      ]
     },
     "execution_count": 57,
     "metadata": {
     },
     "output_type": "execute_result"
    }
   ],
   "source": [
    "results"
   ]
  },
  {
   "cell_type": "markdown",
   "metadata": {
    "collapsed": false
   },
   "source": [
    "- Con base en los resultados finales se observa que para los modelos con la data desbalanceada la precición es casi perfecta y el puntaje de F1 es bajo, en este sentido no se puede identificar si se tiene problemas con falsos positivos o falsos negativos. Para el caso analizado, se busca \"balancear\" la data ya que el modelo de fraude, el 99% de las compras son correctas, y un 1% son fraudulentas, esto indica que al realizar un modelo se estima al 99% de que todas las compras son correctas, en este caso es necesario realizar un balanceo de la data para poder detectar los patrones..\n",
    "\n",
    "    * Para el modelo que utiliza la regresión logistica, la técnica que mejor se ajusta desde la precisión es la de OverSampling, con la que se busca realizar un sobremuestreo para incrementar los casos de fraude, con un accuracy de 56.4% y un F1-Score de 0.018220. Sin embargo, es preferible observar el Fβ-score, en el cual se podría decidir que el recall es más importante, ya que en el ejercicio de fraude, el impacto de un falso positivo, es menor a un falso negativo. En este sentido la mejor tecnica es la de SMOTE con un Fβ-score de 0.431359.\n",
    "    * En el caso de los arboles de desición la desición es similar ya que el SMOTE (Synthetic Minority Oversampling Technique) selecciona dos instancias similares utilizando vecinos más cercanos y bootstrapping, y genera muestras sintéticas a partir de instancias de las clases minoritarias generando un Fβ-score de 0.460995.\n",
    "    * Al usar bosques aleatorios es preferible realizar UnderSampling que selecciona de una manera aleatoria instancias de la clase mayoritaria para ser eliminados sin remplazamiento hasta que ambas clases quedan desbalanceadas. Con un Fβ-score de 0.5.\n",
    "\n",
    "- En esta linea se tiene presente que el Under-Sampling elimina objetos de la clase mayoritaria, con el objetivo de crear un equilibrado conjunto de datos, pero tiene el inconveniente del enfoque de sub muestreo es que puede excluir algunos objetos representativos del conjunto de entrenamiento afectando de esta manera el modelo construido por el clasificador. Y en el Over-Sampling, la idea principal es la creación de nuevos objetos de la clase minoritaria para producir unos nuevos conjuntos de datos con una distribución equilibrada de clase. Sin embargo, el principal inconveniente del enfoque de sobre muestreó es que puede incluir también muchos objetos artificiales que pueden producir sobreajuste.\n",
    "\n",
    "    * Para el caso de fraude se propone el método de muestreo SMOTE para entrenar el modelo considerando dos cuestiones: la distribución de clases y la dificultad de clasificar correctamente la muestra. Sin embargo esta técnica requiere mayor tiempo de computo.\n"
   ]
  },
  {
   "cell_type": "code",
   "execution_count": 0,
   "metadata": {
    "collapsed": false
   },
   "outputs": [
   ],
   "source": [
   ]
  }
 ],
 "metadata": {
  "kernelspec": {
   "display_name": "Python 3 (Ubuntu Linux)",
   "language": "python",
   "metadata": {
    "cocalc": {
     "description": "Python 3 programming language",
     "priority": 100,
     "url": "https://www.python.org/"
    }
   },
   "name": "python3"
  },
  "language_info": {
   "codemirror_mode": {
    "name": "ipython",
    "version": 3
   },
   "file_extension": ".py",
   "mimetype": "text/x-python",
   "name": "python",
   "nbconvert_exporter": "python",
   "pygments_lexer": "ipython3",
   "version": "3.6.7"
  }
 },
 "nbformat": 4,
 "nbformat_minor": 0
}
